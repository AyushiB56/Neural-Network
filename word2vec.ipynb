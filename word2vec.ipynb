{
  "nbformat": 4,
  "nbformat_minor": 0,
  "metadata": {
    "colab": {
      "provenance": [],
      "authorship_tag": "ABX9TyMY0/XfLFBgFdmIcZfVGVg5",
      "include_colab_link": true
    },
    "kernelspec": {
      "name": "python3",
      "display_name": "Python 3"
    },
    "language_info": {
      "name": "python"
    }
  },
  "cells": [
    {
      "cell_type": "markdown",
      "metadata": {
        "id": "view-in-github",
        "colab_type": "text"
      },
      "source": [
        "<a href=\"https://colab.research.google.com/github/AyushiB56/BST/blob/main/word2vec.ipynb\" target=\"_parent\"><img src=\"https://colab.research.google.com/assets/colab-badge.svg\" alt=\"Open In Colab\"/></a>"
      ]
    },
    {
      "cell_type": "code",
      "source": [
        "!pip install gensim==4.3.0 numpy==1.23.5 scipy==1.10.1\n"
      ],
      "metadata": {
        "colab": {
          "base_uri": "https://localhost:8080/",
          "height": 1000
        },
        "id": "Hsx4vP028tnG",
        "outputId": "72e21da5-0fac-4f3f-b92c-2793985fa7f8"
      },
      "execution_count": 3,
      "outputs": [
        {
          "output_type": "stream",
          "name": "stdout",
          "text": [
            "Collecting gensim==4.3.0\n",
            "  Downloading gensim-4.3.0-cp311-cp311-manylinux_2_17_x86_64.manylinux2014_x86_64.whl.metadata (8.4 kB)\n",
            "Collecting numpy==1.23.5\n",
            "  Downloading numpy-1.23.5-cp311-cp311-manylinux_2_17_x86_64.manylinux2014_x86_64.whl.metadata (2.3 kB)\n",
            "Collecting scipy==1.10.1\n",
            "  Downloading scipy-1.10.1-cp311-cp311-manylinux_2_17_x86_64.manylinux2014_x86_64.whl.metadata (58 kB)\n",
            "\u001b[2K     \u001b[90m━━━━━━━━━━━━━━━━━━━━━━━━━━━━━━━━━━━━━━━━\u001b[0m \u001b[32m58.9/58.9 kB\u001b[0m \u001b[31m2.7 MB/s\u001b[0m eta \u001b[36m0:00:00\u001b[0m\n",
            "\u001b[?25hRequirement already satisfied: smart-open>=1.8.1 in /usr/local/lib/python3.11/dist-packages (from gensim==4.3.0) (7.1.0)\n",
            "Collecting FuzzyTM>=0.4.0 (from gensim==4.3.0)\n",
            "  Downloading FuzzyTM-2.0.9-py3-none-any.whl.metadata (7.9 kB)\n",
            "Requirement already satisfied: pandas in /usr/local/lib/python3.11/dist-packages (from FuzzyTM>=0.4.0->gensim==4.3.0) (2.2.2)\n",
            "Collecting pyfume (from FuzzyTM>=0.4.0->gensim==4.3.0)\n",
            "  Downloading pyFUME-0.3.4-py3-none-any.whl.metadata (9.7 kB)\n",
            "Requirement already satisfied: wrapt in /usr/local/lib/python3.11/dist-packages (from smart-open>=1.8.1->gensim==4.3.0) (1.17.2)\n",
            "Requirement already satisfied: python-dateutil>=2.8.2 in /usr/local/lib/python3.11/dist-packages (from pandas->FuzzyTM>=0.4.0->gensim==4.3.0) (2.8.2)\n",
            "Requirement already satisfied: pytz>=2020.1 in /usr/local/lib/python3.11/dist-packages (from pandas->FuzzyTM>=0.4.0->gensim==4.3.0) (2025.2)\n",
            "Requirement already satisfied: tzdata>=2022.7 in /usr/local/lib/python3.11/dist-packages (from pandas->FuzzyTM>=0.4.0->gensim==4.3.0) (2025.2)\n",
            "INFO: pip is looking at multiple versions of pyfume to determine which version is compatible with other requirements. This could take a while.\n",
            "  Downloading pyFUME-0.3.1-py3-none-any.whl.metadata (9.7 kB)\n",
            "Collecting simpful (from pyfume->FuzzyTM>=0.4.0->gensim==4.3.0)\n",
            "  Downloading simpful-2.12.0-py3-none-any.whl.metadata (4.8 kB)\n",
            "Collecting fst-pso (from pyfume->FuzzyTM>=0.4.0->gensim==4.3.0)\n",
            "  Downloading fst-pso-1.8.1.tar.gz (18 kB)\n",
            "  Preparing metadata (setup.py) ... \u001b[?25l\u001b[?25hdone\n",
            "Requirement already satisfied: typing-extensions in /usr/local/lib/python3.11/dist-packages (from pyfume->FuzzyTM>=0.4.0->gensim==4.3.0) (4.13.1)\n",
            "Requirement already satisfied: six>=1.5 in /usr/local/lib/python3.11/dist-packages (from python-dateutil>=2.8.2->pandas->FuzzyTM>=0.4.0->gensim==4.3.0) (1.17.0)\n",
            "Collecting miniful (from fst-pso->pyfume->FuzzyTM>=0.4.0->gensim==4.3.0)\n",
            "  Downloading miniful-0.0.6.tar.gz (2.8 kB)\n",
            "  Preparing metadata (setup.py) ... \u001b[?25l\u001b[?25hdone\n",
            "Downloading gensim-4.3.0-cp311-cp311-manylinux_2_17_x86_64.manylinux2014_x86_64.whl (24.1 MB)\n",
            "\u001b[2K   \u001b[90m━━━━━━━━━━━━━━━━━━━━━━━━━━━━━━━━━━━━━━━━\u001b[0m \u001b[32m24.1/24.1 MB\u001b[0m \u001b[31m23.9 MB/s\u001b[0m eta \u001b[36m0:00:00\u001b[0m\n",
            "\u001b[?25hDownloading numpy-1.23.5-cp311-cp311-manylinux_2_17_x86_64.manylinux2014_x86_64.whl (17.1 MB)\n",
            "\u001b[2K   \u001b[90m━━━━━━━━━━━━━━━━━━━━━━━━━━━━━━━━━━━━━━━━\u001b[0m \u001b[32m17.1/17.1 MB\u001b[0m \u001b[31m63.1 MB/s\u001b[0m eta \u001b[36m0:00:00\u001b[0m\n",
            "\u001b[?25hDownloading scipy-1.10.1-cp311-cp311-manylinux_2_17_x86_64.manylinux2014_x86_64.whl (34.1 MB)\n",
            "\u001b[2K   \u001b[90m━━━━━━━━━━━━━━━━━━━━━━━━━━━━━━━━━━━━━━━━\u001b[0m \u001b[32m34.1/34.1 MB\u001b[0m \u001b[31m15.2 MB/s\u001b[0m eta \u001b[36m0:00:00\u001b[0m\n",
            "\u001b[?25hDownloading FuzzyTM-2.0.9-py3-none-any.whl (31 kB)\n",
            "Downloading pyFUME-0.3.1-py3-none-any.whl (59 kB)\n",
            "\u001b[2K   \u001b[90m━━━━━━━━━━━━━━━━━━━━━━━━━━━━━━━━━━━━━━━━\u001b[0m \u001b[32m59.6/59.6 kB\u001b[0m \u001b[31m4.4 MB/s\u001b[0m eta \u001b[36m0:00:00\u001b[0m\n",
            "\u001b[?25hDownloading simpful-2.12.0-py3-none-any.whl (24 kB)\n",
            "Building wheels for collected packages: fst-pso, miniful\n",
            "  Building wheel for fst-pso (setup.py) ... \u001b[?25l\u001b[?25hdone\n",
            "  Created wheel for fst-pso: filename=fst_pso-1.8.1-py3-none-any.whl size=20431 sha256=95cd61553a04e13c85e8bc7a87b87de60ea1fa10ebf4e84b4d5284adcd1343fc\n",
            "  Stored in directory: /root/.cache/pip/wheels/69/f5/e5/18ad53fe1ed6b2af9fad05ec052e4acbac8e92441df44bad2e\n",
            "  Building wheel for miniful (setup.py) ... \u001b[?25l\u001b[?25hdone\n",
            "  Created wheel for miniful: filename=miniful-0.0.6-py3-none-any.whl size=3506 sha256=f7f2de7a60c46f9dab18267420360de95ea432e7090c0dc09f209a3f4cb1427a\n",
            "  Stored in directory: /root/.cache/pip/wheels/9d/ff/2f/afe4cd56f47de147407705626517d68bea0f3b74eb1fb168e6\n",
            "Successfully built fst-pso miniful\n",
            "Installing collected packages: numpy, scipy, simpful, miniful, fst-pso, pyfume, FuzzyTM, gensim\n",
            "  Attempting uninstall: numpy\n",
            "    Found existing installation: numpy 2.0.2\n",
            "    Uninstalling numpy-2.0.2:\n",
            "      Successfully uninstalled numpy-2.0.2\n",
            "  Attempting uninstall: scipy\n",
            "    Found existing installation: scipy 1.14.1\n",
            "    Uninstalling scipy-1.14.1:\n",
            "      Successfully uninstalled scipy-1.14.1\n",
            "\u001b[31mERROR: pip's dependency resolver does not currently take into account all the packages that are installed. This behaviour is the source of the following dependency conflicts.\n",
            "blosc2 3.2.1 requires numpy>=1.26, but you have numpy 1.23.5 which is incompatible.\n",
            "jaxlib 0.5.1 requires numpy>=1.25, but you have numpy 1.23.5 which is incompatible.\n",
            "jaxlib 0.5.1 requires scipy>=1.11.1, but you have scipy 1.10.1 which is incompatible.\n",
            "chex 0.1.89 requires numpy>=1.24.1, but you have numpy 1.23.5 which is incompatible.\n",
            "pymc 5.21.2 requires numpy>=1.25.0, but you have numpy 1.23.5 which is incompatible.\n",
            "bigframes 1.42.0 requires numpy>=1.24.0, but you have numpy 1.23.5 which is incompatible.\n",
            "jax 0.5.2 requires numpy>=1.25, but you have numpy 1.23.5 which is incompatible.\n",
            "jax 0.5.2 requires scipy>=1.11.1, but you have scipy 1.10.1 which is incompatible.\n",
            "scikit-image 0.25.2 requires numpy>=1.24, but you have numpy 1.23.5 which is incompatible.\n",
            "scikit-image 0.25.2 requires scipy>=1.11.4, but you have scipy 1.10.1 which is incompatible.\n",
            "treescope 0.1.9 requires numpy>=1.25.2, but you have numpy 1.23.5 which is incompatible.\n",
            "cvxpy 1.6.4 requires scipy>=1.11.0, but you have scipy 1.10.1 which is incompatible.\n",
            "thinc 8.3.6 requires numpy<3.0.0,>=2.0.0, but you have numpy 1.23.5 which is incompatible.\n",
            "tensorflow 2.18.0 requires numpy<2.1.0,>=1.26.0, but you have numpy 1.23.5 which is incompatible.\n",
            "imbalanced-learn 0.13.0 requires numpy<3,>=1.24.3, but you have numpy 1.23.5 which is incompatible.\n",
            "albumentations 2.0.5 requires numpy>=1.24.4, but you have numpy 1.23.5 which is incompatible.\n",
            "albucore 0.0.23 requires numpy>=1.24.4, but you have numpy 1.23.5 which is incompatible.\n",
            "xarray 2025.1.2 requires numpy>=1.24, but you have numpy 1.23.5 which is incompatible.\u001b[0m\u001b[31m\n",
            "\u001b[0mSuccessfully installed FuzzyTM-2.0.9 fst-pso-1.8.1 gensim-4.3.0 miniful-0.0.6 numpy-1.23.5 pyfume-0.3.1 scipy-1.10.1 simpful-2.12.0\n"
          ]
        },
        {
          "output_type": "display_data",
          "data": {
            "application/vnd.colab-display-data+json": {
              "pip_warning": {
                "packages": [
                  "numpy"
                ]
              },
              "id": "965513105eec416ba7111cdefe85b4e2"
            }
          },
          "metadata": {}
        }
      ]
    },
    {
      "cell_type": "code",
      "source": [
        "from gensim.models import Word2Vec, KeyedVectors"
      ],
      "metadata": {
        "id": "zbDRnhZv51Uk"
      },
      "execution_count": 1,
      "outputs": []
    },
    {
      "cell_type": "code",
      "source": [
        "\n",
        "import gensim.downloader as api"
      ],
      "metadata": {
        "id": "NVhiwVR2585m"
      },
      "execution_count": 2,
      "outputs": []
    },
    {
      "cell_type": "code",
      "source": [
        "nlp= api.load(\"word2vec-google-news-300\")"
      ],
      "metadata": {
        "colab": {
          "base_uri": "https://localhost:8080/",
          "height": 311
        },
        "id": "YoRMYlL991ia",
        "outputId": "6a508985-5da6-4bc5-96e5-f88cb71e241a"
      },
      "execution_count": 3,
      "outputs": [
        {
          "output_type": "stream",
          "name": "stdout",
          "text": [
            "[==------------------------------------------------] 5.3% 87.5/1662.8MB downloaded"
          ]
        },
        {
          "output_type": "error",
          "ename": "KeyboardInterrupt",
          "evalue": "",
          "traceback": [
            "\u001b[0;31m---------------------------------------------------------------------------\u001b[0m",
            "\u001b[0;31mKeyboardInterrupt\u001b[0m                         Traceback (most recent call last)",
            "\u001b[0;32m<ipython-input-3-cd7696b0e1b5>\u001b[0m in \u001b[0;36m<cell line: 0>\u001b[0;34m()\u001b[0m\n\u001b[0;32m----> 1\u001b[0;31m \u001b[0mnlp\u001b[0m\u001b[0;34m=\u001b[0m \u001b[0mapi\u001b[0m\u001b[0;34m.\u001b[0m\u001b[0mload\u001b[0m\u001b[0;34m(\u001b[0m\u001b[0;34m\"word2vec-google-news-300\"\u001b[0m\u001b[0;34m)\u001b[0m\u001b[0;34m\u001b[0m\u001b[0;34m\u001b[0m\u001b[0m\n\u001b[0m",
            "\u001b[0;32m/usr/local/lib/python3.11/dist-packages/gensim/downloader.py\u001b[0m in \u001b[0;36mload\u001b[0;34m(name, return_path)\u001b[0m\n\u001b[1;32m    494\u001b[0m     \u001b[0mpath\u001b[0m \u001b[0;34m=\u001b[0m \u001b[0mos\u001b[0m\u001b[0;34m.\u001b[0m\u001b[0mpath\u001b[0m\u001b[0;34m.\u001b[0m\u001b[0mjoin\u001b[0m\u001b[0;34m(\u001b[0m\u001b[0mfolder_dir\u001b[0m\u001b[0;34m,\u001b[0m \u001b[0mfile_name\u001b[0m\u001b[0;34m)\u001b[0m\u001b[0;34m\u001b[0m\u001b[0;34m\u001b[0m\u001b[0m\n\u001b[1;32m    495\u001b[0m     \u001b[0;32mif\u001b[0m \u001b[0;32mnot\u001b[0m \u001b[0mos\u001b[0m\u001b[0;34m.\u001b[0m\u001b[0mpath\u001b[0m\u001b[0;34m.\u001b[0m\u001b[0mexists\u001b[0m\u001b[0;34m(\u001b[0m\u001b[0mfolder_dir\u001b[0m\u001b[0;34m)\u001b[0m\u001b[0;34m:\u001b[0m\u001b[0;34m\u001b[0m\u001b[0;34m\u001b[0m\u001b[0m\n\u001b[0;32m--> 496\u001b[0;31m         \u001b[0m_download\u001b[0m\u001b[0;34m(\u001b[0m\u001b[0mname\u001b[0m\u001b[0;34m)\u001b[0m\u001b[0;34m\u001b[0m\u001b[0;34m\u001b[0m\u001b[0m\n\u001b[0m\u001b[1;32m    497\u001b[0m \u001b[0;34m\u001b[0m\u001b[0m\n\u001b[1;32m    498\u001b[0m     \u001b[0;32mif\u001b[0m \u001b[0mreturn_path\u001b[0m\u001b[0;34m:\u001b[0m\u001b[0;34m\u001b[0m\u001b[0;34m\u001b[0m\u001b[0m\n",
            "\u001b[0;32m/usr/local/lib/python3.11/dist-packages/gensim/downloader.py\u001b[0m in \u001b[0;36m_download\u001b[0;34m(name)\u001b[0m\n\u001b[1;32m    394\u001b[0m         \u001b[0mfname\u001b[0m \u001b[0;34m=\u001b[0m \u001b[0;34m\"{fname}.gz\"\u001b[0m\u001b[0;34m.\u001b[0m\u001b[0mformat\u001b[0m\u001b[0;34m(\u001b[0m\u001b[0mfname\u001b[0m\u001b[0;34m=\u001b[0m\u001b[0mname\u001b[0m\u001b[0;34m)\u001b[0m\u001b[0;34m\u001b[0m\u001b[0;34m\u001b[0m\u001b[0m\n\u001b[1;32m    395\u001b[0m         \u001b[0mdst_path\u001b[0m \u001b[0;34m=\u001b[0m \u001b[0mos\u001b[0m\u001b[0;34m.\u001b[0m\u001b[0mpath\u001b[0m\u001b[0;34m.\u001b[0m\u001b[0mjoin\u001b[0m\u001b[0;34m(\u001b[0m\u001b[0mtmp_dir\u001b[0m\u001b[0;34m,\u001b[0m \u001b[0mfname\u001b[0m\u001b[0;34m)\u001b[0m\u001b[0;34m\u001b[0m\u001b[0;34m\u001b[0m\u001b[0m\n\u001b[0;32m--> 396\u001b[0;31m         \u001b[0murllib\u001b[0m\u001b[0;34m.\u001b[0m\u001b[0murlretrieve\u001b[0m\u001b[0;34m(\u001b[0m\u001b[0murl_data\u001b[0m\u001b[0;34m,\u001b[0m \u001b[0mdst_path\u001b[0m\u001b[0;34m,\u001b[0m \u001b[0mreporthook\u001b[0m\u001b[0;34m=\u001b[0m\u001b[0m_progress\u001b[0m\u001b[0;34m)\u001b[0m\u001b[0;34m\u001b[0m\u001b[0;34m\u001b[0m\u001b[0m\n\u001b[0m\u001b[1;32m    397\u001b[0m         \u001b[0;32mif\u001b[0m \u001b[0m_calculate_md5_checksum\u001b[0m\u001b[0;34m(\u001b[0m\u001b[0mdst_path\u001b[0m\u001b[0;34m)\u001b[0m \u001b[0;34m==\u001b[0m \u001b[0m_get_checksum\u001b[0m\u001b[0;34m(\u001b[0m\u001b[0mname\u001b[0m\u001b[0;34m)\u001b[0m\u001b[0;34m:\u001b[0m\u001b[0;34m\u001b[0m\u001b[0;34m\u001b[0m\u001b[0m\n\u001b[1;32m    398\u001b[0m             \u001b[0msys\u001b[0m\u001b[0;34m.\u001b[0m\u001b[0mstdout\u001b[0m\u001b[0;34m.\u001b[0m\u001b[0mwrite\u001b[0m\u001b[0;34m(\u001b[0m\u001b[0;34m\"\\n\"\u001b[0m\u001b[0;34m)\u001b[0m\u001b[0;34m\u001b[0m\u001b[0;34m\u001b[0m\u001b[0m\n",
            "\u001b[0;32m/usr/lib/python3.11/urllib/request.py\u001b[0m in \u001b[0;36murlretrieve\u001b[0;34m(url, filename, reporthook, data)\u001b[0m\n\u001b[1;32m    272\u001b[0m                     \u001b[0;32mbreak\u001b[0m\u001b[0;34m\u001b[0m\u001b[0;34m\u001b[0m\u001b[0m\n\u001b[1;32m    273\u001b[0m                 \u001b[0mread\u001b[0m \u001b[0;34m+=\u001b[0m \u001b[0mlen\u001b[0m\u001b[0;34m(\u001b[0m\u001b[0mblock\u001b[0m\u001b[0;34m)\u001b[0m\u001b[0;34m\u001b[0m\u001b[0;34m\u001b[0m\u001b[0m\n\u001b[0;32m--> 274\u001b[0;31m                 \u001b[0mtfp\u001b[0m\u001b[0;34m.\u001b[0m\u001b[0mwrite\u001b[0m\u001b[0;34m(\u001b[0m\u001b[0mblock\u001b[0m\u001b[0;34m)\u001b[0m\u001b[0;34m\u001b[0m\u001b[0;34m\u001b[0m\u001b[0m\n\u001b[0m\u001b[1;32m    275\u001b[0m                 \u001b[0mblocknum\u001b[0m \u001b[0;34m+=\u001b[0m \u001b[0;36m1\u001b[0m\u001b[0;34m\u001b[0m\u001b[0;34m\u001b[0m\u001b[0m\n\u001b[1;32m    276\u001b[0m                 \u001b[0;32mif\u001b[0m \u001b[0mreporthook\u001b[0m\u001b[0;34m:\u001b[0m\u001b[0;34m\u001b[0m\u001b[0;34m\u001b[0m\u001b[0m\n",
            "\u001b[0;31mKeyboardInterrupt\u001b[0m: "
          ]
        }
      ]
    },
    {
      "cell_type": "code",
      "source": [
        "nlp.shape"
      ],
      "metadata": {
        "id": "yZ2BO8VAyYbq"
      },
      "execution_count": null,
      "outputs": []
    },
    {
      "cell_type": "code",
      "source": [
        "nlp['king']"
      ],
      "metadata": {
        "colab": {
          "base_uri": "https://localhost:8080/"
        },
        "id": "AwCH-5Jz987D",
        "outputId": "a935c113-4ca3-4e1f-b17a-1e184494dca7"
      },
      "execution_count": null,
      "outputs": [
        {
          "output_type": "execute_result",
          "data": {
            "text/plain": [
              "array([ 1.25976562e-01,  2.97851562e-02,  8.60595703e-03,  1.39648438e-01,\n",
              "       -2.56347656e-02, -3.61328125e-02,  1.11816406e-01, -1.98242188e-01,\n",
              "        5.12695312e-02,  3.63281250e-01, -2.42187500e-01, -3.02734375e-01,\n",
              "       -1.77734375e-01, -2.49023438e-02, -1.67968750e-01, -1.69921875e-01,\n",
              "        3.46679688e-02,  5.21850586e-03,  4.63867188e-02,  1.28906250e-01,\n",
              "        1.36718750e-01,  1.12792969e-01,  5.95703125e-02,  1.36718750e-01,\n",
              "        1.01074219e-01, -1.76757812e-01, -2.51953125e-01,  5.98144531e-02,\n",
              "        3.41796875e-01, -3.11279297e-02,  1.04492188e-01,  6.17675781e-02,\n",
              "        1.24511719e-01,  4.00390625e-01, -3.22265625e-01,  8.39843750e-02,\n",
              "        3.90625000e-02,  5.85937500e-03,  7.03125000e-02,  1.72851562e-01,\n",
              "        1.38671875e-01, -2.31445312e-01,  2.83203125e-01,  1.42578125e-01,\n",
              "        3.41796875e-01, -2.39257812e-02, -1.09863281e-01,  3.32031250e-02,\n",
              "       -5.46875000e-02,  1.53198242e-02, -1.62109375e-01,  1.58203125e-01,\n",
              "       -2.59765625e-01,  2.01416016e-02, -1.63085938e-01,  1.35803223e-03,\n",
              "       -1.44531250e-01, -5.68847656e-02,  4.29687500e-02, -2.46582031e-02,\n",
              "        1.85546875e-01,  4.47265625e-01,  9.58251953e-03,  1.31835938e-01,\n",
              "        9.86328125e-02, -1.85546875e-01, -1.00097656e-01, -1.33789062e-01,\n",
              "       -1.25000000e-01,  2.83203125e-01,  1.23046875e-01,  5.32226562e-02,\n",
              "       -1.77734375e-01,  8.59375000e-02, -2.18505859e-02,  2.05078125e-02,\n",
              "       -1.39648438e-01,  2.51464844e-02,  1.38671875e-01, -1.05468750e-01,\n",
              "        1.38671875e-01,  8.88671875e-02, -7.51953125e-02, -2.13623047e-02,\n",
              "        1.72851562e-01,  4.63867188e-02, -2.65625000e-01,  8.91113281e-03,\n",
              "        1.49414062e-01,  3.78417969e-02,  2.38281250e-01, -1.24511719e-01,\n",
              "       -2.17773438e-01, -1.81640625e-01,  2.97851562e-02,  5.71289062e-02,\n",
              "       -2.89306641e-02,  1.24511719e-02,  9.66796875e-02, -2.31445312e-01,\n",
              "        5.81054688e-02,  6.68945312e-02,  7.08007812e-02, -3.08593750e-01,\n",
              "       -2.14843750e-01,  1.45507812e-01, -4.27734375e-01, -9.39941406e-03,\n",
              "        1.54296875e-01, -7.66601562e-02,  2.89062500e-01,  2.77343750e-01,\n",
              "       -4.86373901e-04, -1.36718750e-01,  3.24218750e-01, -2.46093750e-01,\n",
              "       -3.03649902e-03, -2.11914062e-01,  1.25000000e-01,  2.69531250e-01,\n",
              "        2.04101562e-01,  8.25195312e-02, -2.01171875e-01, -1.60156250e-01,\n",
              "       -3.78417969e-02, -1.20117188e-01,  1.15234375e-01, -4.10156250e-02,\n",
              "       -3.95507812e-02, -8.98437500e-02,  6.34765625e-03,  2.03125000e-01,\n",
              "        1.86523438e-01,  2.73437500e-01,  6.29882812e-02,  1.41601562e-01,\n",
              "       -9.81445312e-02,  1.38671875e-01,  1.82617188e-01,  1.73828125e-01,\n",
              "        1.73828125e-01, -2.37304688e-01,  1.78710938e-01,  6.34765625e-02,\n",
              "        2.36328125e-01, -2.08984375e-01,  8.74023438e-02, -1.66015625e-01,\n",
              "       -7.91015625e-02,  2.43164062e-01, -8.88671875e-02,  1.26953125e-01,\n",
              "       -2.16796875e-01, -1.73828125e-01, -3.59375000e-01, -8.25195312e-02,\n",
              "       -6.49414062e-02,  5.07812500e-02,  1.35742188e-01, -7.47070312e-02,\n",
              "       -1.64062500e-01,  1.15356445e-02,  4.45312500e-01, -2.15820312e-01,\n",
              "       -1.11328125e-01, -1.92382812e-01,  1.70898438e-01, -1.25000000e-01,\n",
              "        2.65502930e-03,  1.92382812e-01, -1.74804688e-01,  1.39648438e-01,\n",
              "        2.92968750e-01,  1.13281250e-01,  5.95703125e-02, -6.39648438e-02,\n",
              "        9.96093750e-02, -2.72216797e-02,  1.96533203e-02,  4.27246094e-02,\n",
              "       -2.46093750e-01,  6.39648438e-02, -2.25585938e-01, -1.68945312e-01,\n",
              "        2.89916992e-03,  8.20312500e-02,  3.41796875e-01,  4.32128906e-02,\n",
              "        1.32812500e-01,  1.42578125e-01,  7.61718750e-02,  5.98144531e-02,\n",
              "       -1.19140625e-01,  2.74658203e-03, -6.29882812e-02, -2.72216797e-02,\n",
              "       -4.82177734e-03, -8.20312500e-02, -2.49023438e-02, -4.00390625e-01,\n",
              "       -1.06933594e-01,  4.24804688e-02,  7.76367188e-02, -1.16699219e-01,\n",
              "        7.37304688e-02, -9.22851562e-02,  1.07910156e-01,  1.58203125e-01,\n",
              "        4.24804688e-02,  1.26953125e-01,  3.61328125e-02,  2.67578125e-01,\n",
              "       -1.01074219e-01, -3.02734375e-01, -5.76171875e-02,  5.05371094e-02,\n",
              "        5.26428223e-04, -2.07031250e-01, -1.38671875e-01, -8.97216797e-03,\n",
              "       -2.78320312e-02, -1.41601562e-01,  2.07031250e-01, -1.58203125e-01,\n",
              "        1.27929688e-01,  1.49414062e-01, -2.24609375e-02, -8.44726562e-02,\n",
              "        1.22558594e-01,  2.15820312e-01, -2.13867188e-01, -3.12500000e-01,\n",
              "       -3.73046875e-01,  4.08935547e-03,  1.07421875e-01,  1.06933594e-01,\n",
              "        7.32421875e-02,  8.97216797e-03, -3.88183594e-02, -1.29882812e-01,\n",
              "        1.49414062e-01, -2.14843750e-01, -1.83868408e-03,  9.91210938e-02,\n",
              "        1.57226562e-01, -1.14257812e-01, -2.05078125e-01,  9.91210938e-02,\n",
              "        3.69140625e-01, -1.97265625e-01,  3.54003906e-02,  1.09375000e-01,\n",
              "        1.31835938e-01,  1.66992188e-01,  2.35351562e-01,  1.04980469e-01,\n",
              "       -4.96093750e-01, -1.64062500e-01, -1.56250000e-01, -5.22460938e-02,\n",
              "        1.03027344e-01,  2.43164062e-01, -1.88476562e-01,  5.07812500e-02,\n",
              "       -9.37500000e-02, -6.68945312e-02,  2.27050781e-02,  7.61718750e-02,\n",
              "        2.89062500e-01,  3.10546875e-01, -5.37109375e-02,  2.28515625e-01,\n",
              "        2.51464844e-02,  6.78710938e-02, -1.21093750e-01, -2.15820312e-01,\n",
              "       -2.73437500e-01, -3.07617188e-02, -3.37890625e-01,  1.53320312e-01,\n",
              "        2.33398438e-01, -2.08007812e-01,  3.73046875e-01,  8.20312500e-02,\n",
              "        2.51953125e-01, -7.61718750e-02, -4.66308594e-02, -2.23388672e-02,\n",
              "        2.99072266e-02, -5.93261719e-02, -4.66918945e-03, -2.44140625e-01,\n",
              "       -2.09960938e-01, -2.87109375e-01, -4.54101562e-02, -1.77734375e-01,\n",
              "       -2.79296875e-01, -8.59375000e-02,  9.13085938e-02,  2.51953125e-01],\n",
              "      dtype=float32)"
            ]
          },
          "metadata": {},
          "execution_count": 5
        }
      ]
    },
    {
      "cell_type": "markdown",
      "source": [
        "1. api.load(\"word2vec-google-news-300\"):\n",
        "This downloads a pre-trained binary file (like GoogleNews-vectors-negative300.bin.gz).\n",
        "\n",
        "It loads it using KeyedVectors.load_word2vec_format(..., binary=True).\n",
        "\n",
        "Returns an object of type KeyedVectors, not Word2Vec.\n",
        "\n",
        "So nlp is an instance of KeyedVectors, not a full Word2Vec model. That’s why it doesn't have .train() or .build_vocab(), but it does have .similarity(), .most_similar(), .get_vector(), etc.\n",
        "\n"
      ],
      "metadata": {
        "id": "8PvWwCtUBcXU"
      }
    },
    {
      "cell_type": "code",
      "source": [
        "type(nlp)"
      ],
      "metadata": {
        "colab": {
          "base_uri": "https://localhost:8080/",
          "height": 187
        },
        "id": "WEBf2iZuBeuH",
        "outputId": "184055d2-f145-4721-8891-5ce730190f0f"
      },
      "execution_count": null,
      "outputs": [
        {
          "output_type": "execute_result",
          "data": {
            "text/plain": [
              "gensim.models.keyedvectors.KeyedVectors"
            ],
            "text/html": [
              "<div style=\"max-width:800px; border: 1px solid var(--colab-border-color);\"><style>\n",
              "      pre.function-repr-contents {\n",
              "        overflow-x: auto;\n",
              "        padding: 8px 12px;\n",
              "        max-height: 500px;\n",
              "      }\n",
              "\n",
              "      pre.function-repr-contents.function-repr-contents-collapsed {\n",
              "        cursor: pointer;\n",
              "        max-height: 100px;\n",
              "      }\n",
              "    </style>\n",
              "    <pre style=\"white-space: initial; background:\n",
              "         var(--colab-secondary-surface-color); padding: 8px 12px;\n",
              "         border-bottom: 1px solid var(--colab-border-color);\"><b>gensim.models.keyedvectors.KeyedVectors</b><br/>def __init__(vector_size, count=0, dtype=np.float32, mapfile_path=None)</pre><pre class=\"function-repr-contents function-repr-contents-collapsed\" style=\"\"><a class=\"filepath\" style=\"display:none\" href=\"#\">/usr/local/lib/python3.11/dist-packages/gensim/models/keyedvectors.py</a>Serialize/deserialize objects from disk, by equipping them with the `save()` / `load()` methods.\n",
              "\n",
              "Warnings\n",
              "--------\n",
              "This uses pickle internally (among other techniques), so objects must not contain unpicklable attributes\n",
              "such as lambda functions etc.</pre>\n",
              "      <script>\n",
              "      if (google.colab.kernel.accessAllowed && google.colab.files && google.colab.files.view) {\n",
              "        for (const element of document.querySelectorAll('.filepath')) {\n",
              "          element.style.display = 'block'\n",
              "          element.onclick = (event) => {\n",
              "            event.preventDefault();\n",
              "            event.stopPropagation();\n",
              "            google.colab.files.view(element.textContent, 211);\n",
              "          };\n",
              "        }\n",
              "      }\n",
              "      for (const element of document.querySelectorAll('.function-repr-contents')) {\n",
              "        element.onclick = (event) => {\n",
              "          event.preventDefault();\n",
              "          event.stopPropagation();\n",
              "          element.classList.toggle('function-repr-contents-collapsed');\n",
              "        };\n",
              "      }\n",
              "      </script>\n",
              "      </div>"
            ]
          },
          "metadata": {},
          "execution_count": 8
        }
      ]
    },
    {
      "cell_type": "markdown",
      "source": [
        "🧠 Why use KeyedVectors?\n",
        "You don’t always need to train Word2Vec models. Sometimes you just want to:\n",
        "\n",
        "Load pre-trained vectors (e.g., Google News, GloVe)\n",
        "\n",
        "Find similar words\n",
        "\n",
        "Do analogies (e.g., king - man + woman = ?)\n",
        "\n",
        "Visualize word embeddings\n",
        "\n",
        "For all of these, KeyedVectors is perfect — it loads fast, uses less memory, and is ready to go.\n",
        "\n"
      ],
      "metadata": {
        "id": "lbf9tBfQBydr"
      }
    },
    {
      "cell_type": "code",
      "source": [],
      "metadata": {
        "id": "RU75s2KMDiAG"
      },
      "execution_count": null,
      "outputs": []
    },
    {
      "cell_type": "code",
      "source": [],
      "metadata": {
        "id": "ejP-MWUDNkN4"
      },
      "execution_count": null,
      "outputs": []
    },
    {
      "cell_type": "code",
      "source": [
        "nlp.similarity(\"queen\",\"king\") # dot(matutils.unitvec(self[w1]), matutils.unitvec(self[w2]))"
      ],
      "metadata": {
        "colab": {
          "base_uri": "https://localhost:8080/"
        },
        "id": "nLX-TQdKAQGW",
        "outputId": "039fd4a6-9da1-4c0f-e5be-a69ab43989a4"
      },
      "execution_count": null,
      "outputs": [
        {
          "output_type": "execute_result",
          "data": {
            "text/plain": [
              "0.6510957"
            ]
          },
          "metadata": {},
          "execution_count": 9
        }
      ]
    },
    {
      "cell_type": "code",
      "source": [
        "nlp.most_similar(\"king\")"
      ],
      "metadata": {
        "colab": {
          "base_uri": "https://localhost:8080/"
        },
        "id": "CkhjNCraAUW-",
        "outputId": "03bd3c82-6ae7-45b6-b291-a87a516981c9"
      },
      "execution_count": null,
      "outputs": [
        {
          "output_type": "execute_result",
          "data": {
            "text/plain": [
              "[('kings', 0.7138045430183411),\n",
              " ('queen', 0.6510956883430481),\n",
              " ('monarch', 0.6413194537162781),\n",
              " ('crown_prince', 0.6204220056533813),\n",
              " ('prince', 0.6159993410110474),\n",
              " ('sultan', 0.5864824056625366),\n",
              " ('ruler', 0.5797567367553711),\n",
              " ('princes', 0.5646552443504333),\n",
              " ('Prince_Paras', 0.5432944297790527),\n",
              " ('throne', 0.5422105193138123)]"
            ]
          },
          "metadata": {},
          "execution_count": 10
        }
      ]
    },
    {
      "cell_type": "code",
      "source": [
        "nlp.most_similar(\"man\")"
      ],
      "metadata": {
        "colab": {
          "base_uri": "https://localhost:8080/"
        },
        "id": "puvJ4wSjB3eS",
        "outputId": "6acce238-e13a-4b73-ada3-6ed9609c346e"
      },
      "execution_count": null,
      "outputs": [
        {
          "output_type": "execute_result",
          "data": {
            "text/plain": [
              "[('woman', 0.7664012908935547),\n",
              " ('boy', 0.6824871301651001),\n",
              " ('teenager', 0.6586930155754089),\n",
              " ('teenage_girl', 0.6147903203964233),\n",
              " ('girl', 0.5921714305877686),\n",
              " ('suspected_purse_snatcher', 0.571636438369751),\n",
              " ('robber', 0.5585119128227234),\n",
              " ('Robbery_suspect', 0.5584409832954407),\n",
              " ('teen_ager', 0.5549196600914001),\n",
              " ('men', 0.5489763021469116)]"
            ]
          },
          "metadata": {},
          "execution_count": 13
        }
      ]
    },
    {
      "cell_type": "code",
      "source": [
        "wv= nlp['king']-nlp['man']+nlp['woman']"
      ],
      "metadata": {
        "id": "g6qw3PARB9gV"
      },
      "execution_count": null,
      "outputs": []
    },
    {
      "cell_type": "code",
      "source": [
        "wv"
      ],
      "metadata": {
        "colab": {
          "base_uri": "https://localhost:8080/"
        },
        "id": "uPpn5nHoEKzx",
        "outputId": "972102b0-6742-49d4-88ea-9124b6de70ed"
      },
      "execution_count": null,
      "outputs": [
        {
          "output_type": "execute_result",
          "data": {
            "text/plain": [
              "array([ 4.29687500e-02, -1.78222656e-01, -1.29089355e-01,  1.15234375e-01,\n",
              "        2.68554688e-03, -1.02294922e-01,  1.95800781e-01, -1.79504395e-01,\n",
              "        1.95312500e-02,  4.09919739e-01, -3.68164062e-01, -3.96484375e-01,\n",
              "       -1.56738281e-01,  1.46484375e-03, -9.30175781e-02, -1.16455078e-01,\n",
              "       -5.51757812e-02, -1.07574463e-01,  7.91015625e-02,  1.98974609e-01,\n",
              "        2.38525391e-01,  6.34002686e-02, -2.17285156e-02,  0.00000000e+00,\n",
              "        4.72412109e-02, -2.17773438e-01, -3.44726562e-01,  6.37207031e-02,\n",
              "        3.16406250e-01, -1.97631836e-01,  8.59375000e-02, -8.11767578e-02,\n",
              "       -3.71093750e-02,  3.15551758e-01, -3.41796875e-01, -4.68750000e-02,\n",
              "        9.76562500e-02,  8.39843750e-02, -9.71679688e-02,  5.17578125e-02,\n",
              "       -5.00488281e-02, -2.20947266e-01,  2.29492188e-01,  1.26403809e-01,\n",
              "        2.49023438e-01,  2.09960938e-02, -1.09863281e-01,  5.81054688e-02,\n",
              "       -3.35693359e-02,  1.29577637e-01,  2.41699219e-02,  3.48129272e-02,\n",
              "       -2.60009766e-01,  2.42309570e-01, -3.21777344e-01,  1.45416260e-02,\n",
              "       -1.59179688e-01, -8.37402344e-02,  1.65039062e-01,  1.58691406e-03,\n",
              "        3.09570312e-01,  3.16406250e-01,  7.38525391e-03,  2.41210938e-01,\n",
              "        4.90722656e-02, -9.86328125e-02,  2.90527344e-02,  1.49414062e-01,\n",
              "       -4.83398438e-02,  2.35595703e-01,  2.21191406e-01,  1.25488281e-01,\n",
              "       -1.38671875e-01,  1.54296875e-01,  7.18994141e-02,  1.29882812e-01,\n",
              "       -1.05712891e-01,  6.00585938e-02,  3.14697266e-01,  1.09619141e-01,\n",
              "        8.49609375e-02,  7.71484375e-02, -2.17285156e-02,  6.11572266e-02,\n",
              "       -1.89941406e-01,  2.07519531e-01, -1.63085938e-01,  1.13525391e-01,\n",
              "        2.01171875e-01,  6.06689453e-02,  1.27929688e-01, -3.11279297e-01,\n",
              "       -2.80151367e-01, -1.55883789e-01,  4.15039062e-02,  9.87854004e-02,\n",
              "        1.69555664e-01, -3.49121094e-02,  2.08496094e-01, -9.89990234e-02,\n",
              "        4.39453125e-03, -7.27539062e-02, -4.24804688e-02, -4.09179688e-01,\n",
              "       -2.76367188e-01,  1.64062500e-01, -5.57617188e-01, -2.02199936e-01,\n",
              "        2.12158203e-01, -9.81445312e-02,  2.30773926e-01,  2.75878906e-01,\n",
              "        1.68092728e-01, -4.50439453e-02,  1.71615601e-01, -3.77075195e-01,\n",
              "       -3.52478027e-03, -3.01513672e-01,  1.74224854e-01,  3.30078125e-01,\n",
              "        2.00683594e-01,  1.17736816e-01, -1.37695312e-01, -1.07421875e-01,\n",
              "        8.61816406e-02,  1.06445312e-01,  1.44531250e-01,  3.05175781e-03,\n",
              "        1.80664062e-02,  3.73535156e-02,  7.32421875e-03,  1.32812500e-01,\n",
              "        9.61914062e-02,  3.35998535e-01,  1.81152344e-01,  2.40905762e-01,\n",
              "       -8.49609375e-02, -1.10107422e-01,  2.11914062e-01,  5.85937500e-03,\n",
              "        1.62109375e-01, -4.15527344e-01,  1.39160156e-01,  1.01562500e-01,\n",
              "        1.44531250e-01, -1.09375000e-01,  4.88281250e-02,  6.15234375e-02,\n",
              "       -1.69921875e-01,  3.28369141e-02,  5.56640625e-02,  1.47460938e-01,\n",
              "       -2.24609375e-02, -2.73925781e-01, -2.81982422e-01, -1.39160156e-01,\n",
              "       -1.81884766e-01,  9.33532715e-02,  1.21093750e-01, -5.37109375e-03,\n",
              "       -1.87500000e-01,  3.05175781e-04,  5.52734375e-01, -9.71679688e-02,\n",
              "       -1.81640625e-01, -1.51855469e-01,  7.76367188e-02, -2.38281250e-01,\n",
              "       -2.63977051e-02,  2.25555420e-01, -3.02734375e-01,  1.34765625e-01,\n",
              "        3.23242188e-01,  1.25976562e-01,  3.51562500e-02, -2.04345703e-01,\n",
              "        2.96142578e-01,  1.03149414e-01, -4.76074219e-03,  1.69189453e-01,\n",
              "       -3.50585938e-01,  2.46887207e-02, -3.90502930e-01, -2.70507812e-01,\n",
              "        1.85241699e-02,  1.04492188e-01,  2.84179688e-01,  1.35009766e-01,\n",
              "       -5.95703125e-02,  1.88232422e-01,  8.88214111e-02,  3.24707031e-02,\n",
              "       -8.98437500e-02,  5.45043945e-02,  5.65185547e-02,  1.56860352e-01,\n",
              "       -9.70458984e-03, -7.08007812e-02,  5.71289062e-02, -3.08837891e-01,\n",
              "       -1.91894531e-01,  4.83398438e-02,  5.22460938e-02, -1.59667969e-01,\n",
              "       -4.49218750e-02, -7.37304688e-02,  5.51757812e-02,  2.12402344e-01,\n",
              "        2.05322266e-01, -2.73437500e-02,  7.86132812e-02,  3.19091797e-01,\n",
              "       -1.56982422e-01, -3.92822266e-01,  4.00390625e-02,  9.93652344e-02,\n",
              "       -1.97372437e-02, -8.25195312e-02,  2.53906250e-02,  3.10668945e-02,\n",
              "       -3.63769531e-02,  1.48925781e-02,  2.20703125e-01, -5.98144531e-02,\n",
              "        6.15234375e-02, -7.14111328e-02, -4.00390625e-02, -1.03515625e-01,\n",
              "        9.22851562e-02,  2.71789551e-01, -2.30224609e-01, -2.62695312e-01,\n",
              "       -5.61523438e-01,  1.38549805e-02,  1.09863281e-01,  7.22656250e-02,\n",
              "        4.58984375e-02, -3.31802368e-02, -8.03833008e-02, -6.10351562e-03,\n",
              "        2.09960938e-01, -3.86840820e-01,  1.44645691e-01,  8.05664062e-02,\n",
              "        2.96264648e-01, -1.17187500e-02, -2.34680176e-01,  1.32019043e-01,\n",
              "        2.53906250e-01, -2.46826172e-01,  1.03759766e-01,  1.14013672e-01,\n",
              "        1.71875000e-01, -5.61523438e-03,  2.05078125e-01,  6.34765625e-02,\n",
              "       -4.51293945e-01, -2.26562500e-01, -1.03027344e-01, -1.31469727e-01,\n",
              "        3.75976562e-02,  2.70996094e-01, -2.39257812e-01,  3.80859375e-02,\n",
              "       -3.90625000e-02, -9.42382812e-02,  8.30078125e-03,  7.03125000e-02,\n",
              "        2.75390625e-01,  3.31542969e-01, -1.07421875e-02,  3.72192383e-01,\n",
              "       -1.24511719e-01,  1.94335938e-01, -1.35620117e-01, -3.09570312e-01,\n",
              "       -2.36328125e-01, -1.26953125e-02, -2.76855469e-01,  1.57714844e-01,\n",
              "        3.07617188e-01, -2.32910156e-01,  3.25439453e-01,  1.36718750e-02,\n",
              "        1.99462891e-01, -2.61840820e-02, -8.08105469e-02, -7.50732422e-02,\n",
              "       -4.11109924e-02,  1.95556641e-01, -5.64270020e-02, -2.79296875e-01,\n",
              "       -2.75390625e-01, -4.04296875e-01, -1.75781250e-02, -5.85937500e-03,\n",
              "       -7.71484375e-02,  1.33789062e-01,  2.36816406e-01,  2.01538086e-01],\n",
              "      dtype=float32)"
            ]
          },
          "metadata": {},
          "execution_count": 17
        }
      ]
    },
    {
      "cell_type": "code",
      "source": [
        "nlp.most_similar([wv])"
      ],
      "metadata": {
        "colab": {
          "base_uri": "https://localhost:8080/"
        },
        "id": "gXyQ_VjnCT5H",
        "outputId": "7b381451-f806-4bdf-c6f4-51de8b03ed4e"
      },
      "execution_count": null,
      "outputs": [
        {
          "output_type": "execute_result",
          "data": {
            "text/plain": [
              "[('king', 0.8449392318725586),\n",
              " ('queen', 0.7300517559051514),\n",
              " ('monarch', 0.645466148853302),\n",
              " ('princess', 0.6156251430511475),\n",
              " ('crown_prince', 0.5818676352500916),\n",
              " ('prince', 0.5777117609977722),\n",
              " ('kings', 0.5613663792610168),\n",
              " ('sultan', 0.5376775860786438),\n",
              " ('Queen_Consort', 0.5344247817993164),\n",
              " ('queens', 0.5289887189865112)]"
            ]
          },
          "metadata": {},
          "execution_count": 15
        }
      ]
    },
    {
      "cell_type": "code",
      "source": [
        "nlp"
      ],
      "metadata": {
        "colab": {
          "base_uri": "https://localhost:8080/"
        },
        "id": "I4UN3_f3CYnQ",
        "outputId": "cd47d14a-f9c5-4311-d879-c2cb67b30517"
      },
      "execution_count": null,
      "outputs": [
        {
          "output_type": "execute_result",
          "data": {
            "text/plain": [
              "<gensim.models.keyedvectors.KeyedVectors at 0x7e440a7f7dd0>"
            ]
          },
          "metadata": {},
          "execution_count": 16
        }
      ]
    },
    {
      "cell_type": "code",
      "source": [],
      "metadata": {
        "id": "sepum8WeChHH"
      },
      "execution_count": null,
      "outputs": []
    },
    {
      "cell_type": "markdown",
      "source": [
        "training word2vec model from scatch"
      ],
      "metadata": {
        "id": "PqH9Ek5cSddV"
      }
    },
    {
      "cell_type": "code",
      "source": [
        "\n",
        "\n",
        "paragraph = \"\"\"I have three visions for India. In 3000 years of our history, people from all over\n",
        "               the world have come and invaded us, captured our lands, conquered our minds.\n",
        "               From Alexander onwards, the Greeks, the Turks, the Moguls, the Portuguese, the British,\n",
        "               the French, the Dutch, all of them came and looted us, took over what was ours.\n",
        "               Yet we have not done this to any other nation. We have not conquered anyone.\n",
        "               We have not grabbed their land, their culture,\n",
        "               their history and tried to enforce our way of life on them.\n",
        "               Why? Because we respect the freedom of others.That is why my\n",
        "               first vision is that of freedom. I believe that India got its first vision of\n",
        "               this in 1857, when we started the War of Independence. It is this freedom that\n",
        "               we must protect and nurture and build on. If we are not free, no one will respect us.\n",
        "               My second vision for India’s development. For fifty years we have been a developing nation.\n",
        "               It is time we see ourselves as a developed nation. We are among the top 5 nations of the world\n",
        "               in terms of GDP. We have a 10 percent growth rate in most areas. Our poverty levels are falling.\n",
        "               Our achievements are being globally recognised today. Yet we lack the self-confidence to\n",
        "               see ourselves as a developed nation, self-reliant and self-assured. Isn’t this incorrect?\n",
        "               I have a third vision. India must stand up to the world. Because I believe that unless India\n",
        "               stands up to the world, no one will respect us. Only strength respects strength. We must be\n",
        "               strong not only as a military power but also as an economic power. Both must go hand-in-hand.\n",
        "               My good fortune was to have worked with three great minds. Dr. Vikram Sarabhai of the Dept. of\n",
        "               space, Professor Satish Dhawan, who succeeded him and Dr. Brahm Prakash, father of nuclear material.\n",
        "               I was lucky to have worked with all three of them closely and consider this the great opportunity of my life.\n",
        "               I see four milestones in my career\"\"\"\n",
        "\n"
      ],
      "metadata": {
        "id": "4XGdaVCFSdGr"
      },
      "execution_count": 1,
      "outputs": []
    },
    {
      "cell_type": "markdown",
      "source": [
        "pre-training the dat"
      ],
      "metadata": {
        "id": "DHoIPkWpSoml"
      }
    },
    {
      "cell_type": "code",
      "source": [
        "import spacy"
      ],
      "metadata": {
        "id": "mO3SvgdUSnPY"
      },
      "execution_count": 2,
      "outputs": []
    },
    {
      "cell_type": "code",
      "source": [
        "nlp = spacy.load(\"en_core_web_sm\")"
      ],
      "metadata": {
        "id": "UJeWJnrSSr-s"
      },
      "execution_count": 3,
      "outputs": []
    },
    {
      "cell_type": "code",
      "source": [
        "doc= nlp(\"\"\"I have three visions for India. In 3000 years of our history, people from all over\n",
        "               the world have come and invaded us, captured our lands, conquered our minds.\n",
        "               From Alexander onwards, the Greeks, the Turks, the Moguls, the Portuguese, the British,\n",
        "               the French, the Dutch, all of them came and looted us, took over what was ours.\n",
        "               Yet we have not done this to any other nation. We have not conquered anyone.\n",
        "               We have not grabbed their land, their culture,\n",
        "               their history and tried to enforce our way of life on them.\n",
        "               Why? Because we respect the freedom of others.That is why my\n",
        "               first vision is that of freedom. I believe that India got its first vision of\n",
        "               this in 1857, when we started the War of Independence. It is this freedom that\n",
        "               we must protect and nurture and build on. If we are not free, no one will respect us.\n",
        "               My second vision for India’s development. For fifty years we have been a developing nation.\n",
        "               It is time we see ourselves as a developed nation. We are among the top 5 nations of the world\n",
        "               in terms of GDP. We have a 10 percent growth rate in most areas. Our poverty levels are falling.\n",
        "               Our achievements are being globally recognised today. Yet we lack the self-confidence to\n",
        "               see ourselves as a developed nation, self-reliant and self-assured. Isn’t this incorrect?\n",
        "               I have a third vision. India must stand up to the world. Because I believe that unless India\n",
        "               stands up to the world, no one will respect us. Only strength respects strength. We must be\n",
        "               strong not only as a military power but also as an economic power. Both must go hand-in-hand.\n",
        "               My good fortune was to have worked with three great minds. Dr. Vikram Sarabhai of the Dept. of\n",
        "               space, Professor Satish Dhawan, who succeeded him and Dr. Brahm Prakash, father of nuclear material.\n",
        "               I was lucky to have worked with all three of them closely and consider this the great opportunity of my life.\n",
        "               I see four milestones in my career\"\"\"\n",
        ")"
      ],
      "metadata": {
        "id": "psZcnkiJTL0N"
      },
      "execution_count": 4,
      "outputs": []
    },
    {
      "cell_type": "code",
      "source": [
        "corpus = '''I have three visions for India. In 3000 years of our history, people from all over\n",
        "               the world have come and invaded us, captured our lands, conquered our minds.\n",
        "               From Alexander onwards, the Greeks, the Turks, the Moguls, the Portuguese, the British,\n",
        "               the French, the Dutch, all of them came and looted us, took over what was ours.\n",
        "               Yet we have not done this to any other nation. We have not conquered anyone.\n",
        "               We have not grabbed their land, their culture,\n",
        "               their history and tried to enforce our way of life on them.\n",
        "               Why? Because we respect the freedom of others.That is why my\n",
        "               first vision is that of freedom. I believe that India got its first vision of\n",
        "               this in 1857, when we started the War of Independence. It is this freedom that\n",
        "               we must protect and nurture and build on. If we are not free, no one will respect us.\n",
        "               My second vision for India’s development. For fifty years we have been a developing nation.\n",
        "               It is time we see ourselves as a developed nation. We are among the top 5 nations of the world\n",
        "               in terms of GDP. We have a 10 percent growth rate in most areas. Our poverty levels are falling.\n",
        "               Our achievements are being globally recognised today. Yet we lack the self-confidence to\n",
        "               see ourselves as a developed nation, self-reliant and self-assured. Isn’t this incorrect?\n",
        "               I have a third vision. India must stand up to the world. Because I believe that unless India\n",
        "               stands up to the world, no one will respect us. Only strength respects strength. We must be\n",
        "               strong not only as a military power but also as an economic power. Both must go hand-in-hand.\n",
        "               My good fortune was to have worked with three great minds. Dr. Vikram Sarabhai of the Dept. of\n",
        "               space, Professor Satish Dhawan, who succeeded him and Dr. Brahm Prakash, father of nuclear material.\n",
        "               I was lucky to have worked with all three of them closely and consider this the great opportunity of my life.\n",
        "               I see four milestones in my career'''"
      ],
      "metadata": {
        "id": "4WZzAiiL2T57"
      },
      "execution_count": 64,
      "outputs": []
    },
    {
      "cell_type": "code",
      "source": [
        "doc"
      ],
      "metadata": {
        "colab": {
          "base_uri": "https://localhost:8080/"
        },
        "id": "4rtIvY5hTSla",
        "outputId": "12c9f083-acae-454c-f5cd-e8307df108bf"
      },
      "execution_count": 8,
      "outputs": [
        {
          "output_type": "execute_result",
          "data": {
            "text/plain": [
              "I have three visions for India. In 3000 years of our history, people from all over\n",
              "               the world have come and invaded us, captured our lands, conquered our minds.\n",
              "               From Alexander onwards, the Greeks, the Turks, the Moguls, the Portuguese, the British,\n",
              "               the French, the Dutch, all of them came and looted us, took over what was ours.\n",
              "               Yet we have not done this to any other nation. We have not conquered anyone.\n",
              "               We have not grabbed their land, their culture,\n",
              "               their history and tried to enforce our way of life on them.\n",
              "               Why? Because we respect the freedom of others.That is why my\n",
              "               first vision is that of freedom. I believe that India got its first vision of\n",
              "               this in 1857, when we started the War of Independence. It is this freedom that\n",
              "               we must protect and nurture and build on. If we are not free, no one will respect us.\n",
              "               My second vision for India’s development. For fifty years we have been a developing nation.\n",
              "               It is time we see ourselves as a developed nation. We are among the top 5 nations of the world\n",
              "               in terms of GDP. We have a 10 percent growth rate in most areas. Our poverty levels are falling.\n",
              "               Our achievements are being globally recognised today. Yet we lack the self-confidence to\n",
              "               see ourselves as a developed nation, self-reliant and self-assured. Isn’t this incorrect?\n",
              "               I have a third vision. India must stand up to the world. Because I believe that unless India\n",
              "               stands up to the world, no one will respect us. Only strength respects strength. We must be\n",
              "               strong not only as a military power but also as an economic power. Both must go hand-in-hand.\n",
              "               My good fortune was to have worked with three great minds. Dr. Vikram Sarabhai of the Dept. of\n",
              "               space, Professor Satish Dhawan, who succeeded him and Dr. Brahm Prakash, father of nuclear material.\n",
              "               I was lucky to have worked with all three of them closely and consider this the great opportunity of my life.\n",
              "               I see four milestones in my career"
            ]
          },
          "metadata": {},
          "execution_count": 8
        }
      ]
    },
    {
      "cell_type": "code",
      "source": [
        "cleaned_text=[]"
      ],
      "metadata": {
        "id": "UFRl1cZyY_65"
      },
      "execution_count": 41,
      "outputs": []
    },
    {
      "cell_type": "code",
      "source": [
        "import nltk"
      ],
      "metadata": {
        "id": "8tuk67B816ci"
      },
      "execution_count": 44,
      "outputs": []
    },
    {
      "cell_type": "code",
      "source": [
        "from nltk.corpus import stopwords\n",
        "from nltk.tokenize import word_tokenize\n",
        "from nltk.tokenize import sent_tokenize\n",
        "from nltk.stem import WordNetLemmatizer"
      ],
      "metadata": {
        "id": "Vpj5fWqT1_Lp"
      },
      "execution_count": 77,
      "outputs": []
    },
    {
      "cell_type": "code",
      "source": [
        "nltk.download('stopwords')"
      ],
      "metadata": {
        "colab": {
          "base_uri": "https://localhost:8080/"
        },
        "id": "yR1wxVP72Hu0",
        "outputId": "5df49c5a-1c41-40f4-805f-65d5f06d8348"
      },
      "execution_count": 47,
      "outputs": [
        {
          "output_type": "stream",
          "name": "stderr",
          "text": [
            "[nltk_data] Downloading package stopwords to /root/nltk_data...\n",
            "[nltk_data]   Unzipping corpora/stopwords.zip.\n"
          ]
        },
        {
          "output_type": "execute_result",
          "data": {
            "text/plain": [
              "True"
            ]
          },
          "metadata": {},
          "execution_count": 47
        }
      ]
    },
    {
      "cell_type": "code",
      "source": [
        "lemma= WordNetLemmatizer()\n",
        "import re"
      ],
      "metadata": {
        "id": "znGu9d_K2LXp"
      },
      "execution_count": 54,
      "outputs": []
    },
    {
      "cell_type": "code",
      "source": [
        "import json"
      ],
      "metadata": {
        "id": "fvXyehnm3dOq"
      },
      "execution_count": 61,
      "outputs": []
    },
    {
      "cell_type": "markdown",
      "source": [],
      "metadata": {
        "id": "UNnKWOJK3c-S"
      }
    },
    {
      "cell_type": "code",
      "source": [
        "tokenizer="
      ],
      "metadata": {
        "colab": {
          "base_uri": "https://localhost:8080/",
          "height": 144
        },
        "id": "edDH-rCh72Jf",
        "outputId": "3ffdbf09-5c6a-4ae3-ccf0-0d8ce5689ec8"
      },
      "execution_count": 71,
      "outputs": [
        {
          "output_type": "error",
          "ename": "TypeError",
          "evalue": "word_tokenize() missing 1 required positional argument: 'text'",
          "traceback": [
            "\u001b[0;31m---------------------------------------------------------------------------\u001b[0m",
            "\u001b[0;31mTypeError\u001b[0m                                 Traceback (most recent call last)",
            "\u001b[0;32m<ipython-input-71-26abdf9ce6f1>\u001b[0m in \u001b[0;36m<cell line: 0>\u001b[0;34m()\u001b[0m\n\u001b[0;32m----> 1\u001b[0;31m \u001b[0mtokenizer\u001b[0m\u001b[0;34m=\u001b[0m \u001b[0mword_tokenize\u001b[0m\u001b[0;34m(\u001b[0m\u001b[0;34m)\u001b[0m\u001b[0;34m\u001b[0m\u001b[0;34m\u001b[0m\u001b[0m\n\u001b[0m",
            "\u001b[0;31mTypeError\u001b[0m: word_tokenize() missing 1 required positional argument: 'text'"
          ]
        }
      ]
    },
    {
      "cell_type": "code",
      "source": [
        "nltk.download('punkt_tab')"
      ],
      "metadata": {
        "colab": {
          "base_uri": "https://localhost:8080/"
        },
        "id": "W-YzB1jV7-Ta",
        "outputId": "968e9ce8-c7a6-4b6f-9e1a-d0f74605b0ee"
      },
      "execution_count": 74,
      "outputs": [
        {
          "output_type": "stream",
          "name": "stderr",
          "text": [
            "[nltk_data] Downloading package punkt_tab to /root/nltk_data...\n",
            "[nltk_data]   Unzipping tokenizers/punkt_tab.zip.\n"
          ]
        },
        {
          "output_type": "execute_result",
          "data": {
            "text/plain": [
              "True"
            ]
          },
          "metadata": {},
          "execution_count": 74
        }
      ]
    },
    {
      "cell_type": "code",
      "source": [
        "nltk.download('wordnet')"
      ],
      "metadata": {
        "colab": {
          "base_uri": "https://localhost:8080/"
        },
        "id": "aa4Lonto8qx9",
        "outputId": "3bb7dd8e-30ea-4244-da8d-37270c55618a"
      },
      "execution_count": 83,
      "outputs": [
        {
          "output_type": "stream",
          "name": "stderr",
          "text": [
            "[nltk_data] Downloading package wordnet to /root/nltk_data...\n"
          ]
        },
        {
          "output_type": "execute_result",
          "data": {
            "text/plain": [
              "True"
            ]
          },
          "metadata": {},
          "execution_count": 83
        }
      ]
    },
    {
      "cell_type": "code",
      "source": [
        "cleaned_text2=[]"
      ],
      "metadata": {
        "id": "KdUCdCqL80-A"
      },
      "execution_count": 86,
      "outputs": []
    },
    {
      "cell_type": "code",
      "source": [
        "for sentence in sent_tokenize(corpus):\n",
        "  new_list2= word_tokenize(sentence)\n",
        "  new_list2= [lemma.lemmatize(word) for word in new_list2 if word not in stopwords.words(\"english\")]\n",
        "\n",
        "  print(new_list2)\n",
        "  new_list2= ' '.join(new_list2)\n",
        "  cleaned_text2.append(new_list2)\n"
      ],
      "metadata": {
        "colab": {
          "base_uri": "https://localhost:8080/"
        },
        "id": "bpdaFNDf2PHK",
        "outputId": "9986cd4c-de37-42df-a90b-4568ab68e470"
      },
      "execution_count": 99,
      "outputs": [
        {
          "output_type": "stream",
          "name": "stdout",
          "text": [
            "['I', 'three', 'vision', 'India', '.']\n",
            "['In', '3000', 'year', 'history', ',', 'people', 'world', 'come', 'invaded', 'u', ',', 'captured', 'land', ',', 'conquered', 'mind', '.']\n",
            "['From', 'Alexander', 'onwards', ',', 'Greeks', ',', 'Turks', ',', 'Moguls', ',', 'Portuguese', ',', 'British', ',', 'French', ',', 'Dutch', ',', 'came', 'looted', 'u', ',', 'took', '.']\n",
            "['Yet', 'done', 'nation', '.']\n",
            "['We', 'conquered', 'anyone', '.']\n",
            "['We', 'grabbed', 'land', ',', 'culture', ',', 'history', 'tried', 'enforce', 'way', 'life', '.']\n",
            "['Why', '?']\n",
            "['Because', 'respect', 'freedom', 'others.That', 'first', 'vision', 'freedom', '.']\n",
            "['I', 'believe', 'India', 'got', 'first', 'vision', '1857', ',', 'started', 'War', 'Independence', '.']\n",
            "['It', 'freedom', 'must', 'protect', 'nurture', 'build', '.']\n",
            "['If', 'free', ',', 'one', 'respect', 'u', '.']\n",
            "['My', 'second', 'vision', 'India', '’', 'development', '.']\n",
            "['For', 'fifty', 'year', 'developing', 'nation', '.']\n",
            "['It', 'time', 'see', 'developed', 'nation', '.']\n",
            "['We', 'among', 'top', '5', 'nation', 'world', 'term', 'GDP', '.']\n",
            "['We', '10', 'percent', 'growth', 'rate', 'area', '.']\n",
            "['Our', 'poverty', 'level', 'falling', '.']\n",
            "['Our', 'achievement', 'globally', 'recognised', 'today', '.']\n",
            "['Yet', 'lack', 'self-confidence', 'see', 'developed', 'nation', ',', 'self-reliant', 'self-assured', '.']\n",
            "['Isn', '’', 'incorrect', '?']\n",
            "['I', 'third', 'vision', '.']\n",
            "['India', 'must', 'stand', 'world', '.']\n",
            "['Because', 'I', 'believe', 'unless', 'India', 'stand', 'world', ',', 'one', 'respect', 'u', '.']\n",
            "['Only', 'strength', 'respect', 'strength', '.']\n",
            "['We', 'must', 'strong', 'military', 'power', 'also', 'economic', 'power', '.']\n",
            "['Both', 'must', 'go', 'hand-in-hand', '.']\n",
            "['My', 'good', 'fortune', 'worked', 'three', 'great', 'mind', '.']\n",
            "['Dr.', 'Vikram', 'Sarabhai', 'Dept', '.']\n",
            "['space', ',', 'Professor', 'Satish', 'Dhawan', ',', 'succeeded', 'Dr.', 'Brahm', 'Prakash', ',', 'father', 'nuclear', 'material', '.']\n",
            "['I', 'lucky', 'worked', 'three', 'closely', 'consider', 'great', 'opportunity', 'life', '.']\n",
            "['I', 'see', 'four', 'milestone', 'career']\n"
          ]
        }
      ]
    },
    {
      "cell_type": "code",
      "source": [
        "cleaned_text"
      ],
      "metadata": {
        "colab": {
          "base_uri": "https://localhost:8080/"
        },
        "id": "6sVLaXiE-5rm",
        "outputId": "cc77934b-45ca-4e2a-87c0-c5d93feb8244"
      },
      "execution_count": 116,
      "outputs": [
        {
          "output_type": "execute_result",
          "data": {
            "text/plain": [
              "['visions India',\n",
              " '3000 years history people world come invaded captured lands conquered minds',\n",
              " 'Alexander onwards Greeks Turks Moguls Portuguese British French Dutch came looted took',\n",
              " 'nation',\n",
              " 'conquered',\n",
              " 'grabbed land culture history tried enforce way life',\n",
              " '',\n",
              " 'respect freedom',\n",
              " 'vision freedom',\n",
              " 'believe India got vision 1857 started War Independence',\n",
              " 'freedom protect nurture build',\n",
              " 'free respect',\n",
              " 'second vision India development',\n",
              " 'years developing nation',\n",
              " 'time developed nation',\n",
              " '5 nations world terms GDP',\n",
              " '10 percent growth rate areas',\n",
              " 'poverty levels falling',\n",
              " 'achievements globally recognised today',\n",
              " 'lack self confidence developed nation self reliant self assured',\n",
              " 'incorrect',\n",
              " 'vision',\n",
              " 'India stand world',\n",
              " 'believe India stands world respect',\n",
              " 'strength respects strength',\n",
              " 'strong military power economic power',\n",
              " 'hand hand',\n",
              " 'good fortune worked great minds',\n",
              " 'Dr. Vikram Sarabhai Dept space Professor Satish Dhawan succeeded Dr. Brahm Prakash father nuclear material',\n",
              " 'lucky worked closely consider great opportunity life',\n",
              " 'milestones career',\n",
              " 'visions India',\n",
              " '3000 years history people world come invaded captured lands conquered minds',\n",
              " 'Alexander onwards Greeks Turks Moguls Portuguese British French Dutch came looted took',\n",
              " 'nation',\n",
              " 'conquered',\n",
              " 'grabbed land culture history tried enforce way life',\n",
              " '',\n",
              " 'respect freedom',\n",
              " 'vision freedom',\n",
              " 'believe India got vision 1857 started War Independence',\n",
              " 'freedom protect nurture build',\n",
              " 'free respect',\n",
              " 'second vision India development',\n",
              " 'years developing nation',\n",
              " 'time developed nation',\n",
              " '5 nations world terms GDP',\n",
              " '10 percent growth rate areas',\n",
              " 'poverty levels falling',\n",
              " 'achievements globally recognised today',\n",
              " 'lack self confidence developed nation self reliant self assured',\n",
              " 'incorrect',\n",
              " 'vision',\n",
              " 'India stand world',\n",
              " 'believe India stands world respect',\n",
              " 'strength respects strength',\n",
              " 'strong military power economic power',\n",
              " 'hand hand',\n",
              " 'good fortune worked great minds',\n",
              " 'Dr. Vikram Sarabhai Dept space Professor Satish Dhawan succeeded Dr. Brahm Prakash father nuclear material',\n",
              " 'lucky worked closely consider great opportunity life',\n",
              " 'milestones career',\n",
              " 'vision India',\n",
              " '3000 year history people world come invaded captured land conquered mind',\n",
              " 'Alexander onwards Greeks Turks Moguls Portuguese British French Dutch came looted took',\n",
              " 'nation',\n",
              " 'conquered',\n",
              " 'grabbed land culture history tried enforce way life',\n",
              " '',\n",
              " 'respect freedom',\n",
              " 'vision freedom',\n",
              " 'believe India got vision 1857 started War Independence',\n",
              " 'freedom protect nurture build',\n",
              " 'free respect',\n",
              " 'second vision India development',\n",
              " 'year developing nation',\n",
              " 'time developed nation',\n",
              " '5 nation world term GDP',\n",
              " '10 percent growth rate area',\n",
              " 'poverty level falling',\n",
              " 'achievement globally recognised today',\n",
              " 'lack self confidence developed nation self reliant self assured',\n",
              " 'incorrect',\n",
              " 'vision',\n",
              " 'India stand world',\n",
              " 'believe India stand world respect',\n",
              " 'strength respect strength',\n",
              " 'strong military power economic power',\n",
              " 'hand hand',\n",
              " 'good fortune worked great mind',\n",
              " 'Dr. Vikram Sarabhai Dept space Professor Satish Dhawan succeeded Dr. Brahm Prakash father nuclear material',\n",
              " 'lucky worked closely consider great opportunity life',\n",
              " 'milestone career']"
            ]
          },
          "metadata": {},
          "execution_count": 116
        }
      ]
    },
    {
      "cell_type": "code",
      "source": [
        "cleaned_text2"
      ],
      "metadata": {
        "colab": {
          "base_uri": "https://localhost:8080/"
        },
        "id": "B_Wsr94B99Zx",
        "outputId": "abbb9137-6b3f-4920-8d3d-1a1aee1ef8d3"
      },
      "execution_count": 100,
      "outputs": [
        {
          "output_type": "execute_result",
          "data": {
            "text/plain": [
              "['I three vision India .',\n",
              " 'In 3000 year history , people world come invaded u , captured land , conquered mind .',\n",
              " 'From Alexander onwards , Greeks , Turks , Moguls , Portuguese , British , French , Dutch , came looted u , took .',\n",
              " 'Yet done nation .',\n",
              " 'We conquered anyone .',\n",
              " 'We grabbed land , culture , history tried enforce way life .',\n",
              " 'Why ?',\n",
              " 'Because respect freedom others.That first vision freedom .',\n",
              " 'I believe India got first vision 1857 , started War Independence .',\n",
              " 'It freedom must protect nurture build .',\n",
              " 'If free , one respect u .',\n",
              " 'My second vision India ’ development .',\n",
              " 'For fifty year developing nation .',\n",
              " 'It time see developed nation .',\n",
              " 'We among top 5 nation world term GDP .',\n",
              " 'We 10 percent growth rate area .',\n",
              " 'Our poverty level falling .',\n",
              " 'Our achievement globally recognised today .',\n",
              " 'Yet lack self-confidence see developed nation , self-reliant self-assured .',\n",
              " 'Isn ’ incorrect ?',\n",
              " 'I third vision .',\n",
              " 'India must stand world .',\n",
              " 'Because I believe unless India stand world , one respect u .',\n",
              " 'Only strength respect strength .',\n",
              " 'We must strong military power also economic power .',\n",
              " 'Both must go hand-in-hand .',\n",
              " 'My good fortune worked three great mind .',\n",
              " 'Dr. Vikram Sarabhai Dept .',\n",
              " 'space , Professor Satish Dhawan , succeeded Dr. Brahm Prakash , father nuclear material .',\n",
              " 'I lucky worked three closely consider great opportunity life .',\n",
              " 'I see four milestone career']"
            ]
          },
          "metadata": {},
          "execution_count": 100
        }
      ]
    },
    {
      "cell_type": "code",
      "source": [
        "cleaned_text=[]"
      ],
      "metadata": {
        "id": "qdDbI1eM-cFB"
      },
      "execution_count": 123,
      "outputs": []
    },
    {
      "cell_type": "code",
      "source": [
        "doc"
      ],
      "metadata": {
        "colab": {
          "base_uri": "https://localhost:8080/"
        },
        "id": "dFxrqdJ8-mVf",
        "outputId": "22abb3fd-8eab-4aae-b3d0-73d73cf54773"
      },
      "execution_count": 124,
      "outputs": [
        {
          "output_type": "execute_result",
          "data": {
            "text/plain": [
              "I have three visions for India. In 3000 years of our history, people from all over\n",
              "               the world have come and invaded us, captured our lands, conquered our minds.\n",
              "               From Alexander onwards, the Greeks, the Turks, the Moguls, the Portuguese, the British,\n",
              "               the French, the Dutch, all of them came and looted us, took over what was ours.\n",
              "               Yet we have not done this to any other nation. We have not conquered anyone.\n",
              "               We have not grabbed their land, their culture,\n",
              "               their history and tried to enforce our way of life on them.\n",
              "               Why? Because we respect the freedom of others.That is why my\n",
              "               first vision is that of freedom. I believe that India got its first vision of\n",
              "               this in 1857, when we started the War of Independence. It is this freedom that\n",
              "               we must protect and nurture and build on. If we are not free, no one will respect us.\n",
              "               My second vision for India’s development. For fifty years we have been a developing nation.\n",
              "               It is time we see ourselves as a developed nation. We are among the top 5 nations of the world\n",
              "               in terms of GDP. We have a 10 percent growth rate in most areas. Our poverty levels are falling.\n",
              "               Our achievements are being globally recognised today. Yet we lack the self-confidence to\n",
              "               see ourselves as a developed nation, self-reliant and self-assured. Isn’t this incorrect?\n",
              "               I have a third vision. India must stand up to the world. Because I believe that unless India\n",
              "               stands up to the world, no one will respect us. Only strength respects strength. We must be\n",
              "               strong not only as a military power but also as an economic power. Both must go hand-in-hand.\n",
              "               My good fortune was to have worked with three great minds. Dr. Vikram Sarabhai of the Dept. of\n",
              "               space, Professor Satish Dhawan, who succeeded him and Dr. Brahm Prakash, father of nuclear material.\n",
              "               I was lucky to have worked with all three of them closely and consider this the great opportunity of my life.\n",
              "               I see four milestones in my career"
            ]
          },
          "metadata": {},
          "execution_count": 124
        }
      ]
    },
    {
      "cell_type": "code",
      "source": [
        "cleaned_text"
      ],
      "metadata": {
        "colab": {
          "base_uri": "https://localhost:8080/"
        },
        "id": "zQLYJ7VgVcWT",
        "outputId": "688be0cd-41e3-4650-e391-a64df369d66d"
      },
      "execution_count": 249,
      "outputs": [
        {
          "output_type": "execute_result",
          "data": {
            "text/plain": [
              "[<generator object <genexpr> at 0x7a59622224d0>,\n",
              " <generator object <genexpr> at 0x7a59622231d0>,\n",
              " <generator object <genexpr> at 0x7a59622213c0>,\n",
              " <generator object <genexpr> at 0x7a5962223d30>,\n",
              " <generator object <genexpr> at 0x7a5962221080>,\n",
              " <generator object <genexpr> at 0x7a5962220a00>,\n",
              " <generator object <genexpr> at 0x7a5962221ff0>,\n",
              " <generator object <genexpr> at 0x7a5962220d40>,\n",
              " <generator object <genexpr> at 0x7a5962220fb0>,\n",
              " <generator object <genexpr> at 0x7a5962222c20>,\n",
              " <generator object <genexpr> at 0x7a5962222330>,\n",
              " <generator object <genexpr> at 0x7a5962221a40>,\n",
              " <generator object <genexpr> at 0x7a5962223ac0>,\n",
              " <generator object <genexpr> at 0x7a59622228e0>,\n",
              " <generator object <genexpr> at 0x7a5962223100>,\n",
              " <generator object <genexpr> at 0x7a5962223780>,\n",
              " <generator object <genexpr> at 0x7a5962223510>,\n",
              " <generator object <genexpr> at 0x7a59622225a0>,\n",
              " <generator object <genexpr> at 0x7a5962222cf0>,\n",
              " <generator object <genexpr> at 0x7a5962221150>,\n",
              " <generator object <genexpr> at 0x7a5a347e71d0>,\n",
              " <generator object <genexpr> at 0x7a5962dbfb90>,\n",
              " <generator object <genexpr> at 0x7a5962dbce10>,\n",
              " <generator object <genexpr> at 0x7a5962dbcd40>,\n",
              " <generator object <genexpr> at 0x7a5962dbcfb0>,\n",
              " <generator object <genexpr> at 0x7a59628e6670>,\n",
              " <generator object <genexpr> at 0x7a59628e7100>,\n",
              " <generator object <genexpr> at 0x7a59628e4a00>,\n",
              " <generator object <genexpr> at 0x7a59628e7030>,\n",
              " <generator object <genexpr> at 0x7a59628e41e0>,\n",
              " <generator object <genexpr> at 0x7a59628e75e0>]"
            ]
          },
          "metadata": {},
          "execution_count": 249
        }
      ]
    },
    {
      "cell_type": "code",
      "source": [
        "cleaned_text"
      ],
      "metadata": {
        "colab": {
          "base_uri": "https://localhost:8080/"
        },
        "id": "J_jPaKz1VlUR",
        "outputId": "baf95d25-ab98-4fb4-e37d-2512633c3312"
      },
      "execution_count": 255,
      "outputs": [
        {
          "output_type": "execute_result",
          "data": {
            "text/plain": [
              "[('vision', 'India'),\n",
              " ('3000',\n",
              "  'year',\n",
              "  'history',\n",
              "  'people',\n",
              "  'world',\n",
              "  'come',\n",
              "  'invade',\n",
              "  'capture',\n",
              "  'land',\n",
              "  'conquer',\n",
              "  'mind'),\n",
              " ('Alexander',\n",
              "  'onwards',\n",
              "  'Greeks',\n",
              "  'Turks',\n",
              "  'Moguls',\n",
              "  'Portuguese',\n",
              "  'British',\n",
              "  'French',\n",
              "  'Dutch',\n",
              "  'come',\n",
              "  'loot',\n",
              "  'take'),\n",
              " ('nation',),\n",
              " ('conquer',),\n",
              " ('grab', 'land', 'culture', 'history', 'try', 'enforce', 'way', 'life'),\n",
              " (),\n",
              " ('respect', 'freedom'),\n",
              " ('vision', 'freedom'),\n",
              " ('believe', 'India', 'get', 'vision', '1857', 'start', 'War', 'Independence'),\n",
              " ('freedom', 'protect', 'nurture', 'build'),\n",
              " ('free', 'respect'),\n",
              " ('second', 'vision', 'India', 'development'),\n",
              " ('year', 'develop', 'nation'),\n",
              " ('time', 'developed', 'nation'),\n",
              " ('5', 'nation', 'world', 'term', 'GDP'),\n",
              " ('10', 'percent', 'growth', 'rate', 'area'),\n",
              " ('poverty', 'level', 'fall'),\n",
              " ('achievement', 'globally', 'recognise', 'today'),\n",
              " ('lack',\n",
              "  'self',\n",
              "  'confidence',\n",
              "  'developed',\n",
              "  'nation',\n",
              "  'self',\n",
              "  'reliant',\n",
              "  'self',\n",
              "  'assure'),\n",
              " ('incorrect',),\n",
              " ('vision',),\n",
              " ('India', 'stand', 'world'),\n",
              " ('believe', 'India', 'stand', 'world', 'respect'),\n",
              " ('strength', 'respect', 'strength'),\n",
              " ('strong', 'military', 'power', 'economic', 'power'),\n",
              " ('hand', 'hand'),\n",
              " ('good', 'fortune', 'work', 'great', 'mind'),\n",
              " ('Dr.',\n",
              "  'Vikram',\n",
              "  'Sarabhai',\n",
              "  'Dept',\n",
              "  'space',\n",
              "  'Professor',\n",
              "  'Satish',\n",
              "  'Dhawan',\n",
              "  'succeed',\n",
              "  'Dr.',\n",
              "  'Brahm',\n",
              "  'Prakash',\n",
              "  'father',\n",
              "  'nuclear',\n",
              "  'material'),\n",
              " ('lucky', 'work', 'closely', 'consider', 'great', 'opportunity', 'life'),\n",
              " ('milestone', 'career')]"
            ]
          },
          "metadata": {},
          "execution_count": 255
        }
      ]
    },
    {
      "cell_type": "code",
      "source": [
        "cleaned_text=[]\n",
        "for sentence in doc.sents:\n",
        "\n",
        "  #new_list = [word.text for word in sentence if not word.is_stop and not word.is_punct and not word.is_space]\n",
        "  new_list= [word.lemma_ for word in sentence if not word.is_stop and not word.is_punct and not word.is_space ]\n",
        "  print(new_list)\n",
        "  cleaned_text.append(new_list)\n",
        "\n",
        "   # print(sentence)\n"
      ],
      "metadata": {
        "colab": {
          "base_uri": "https://localhost:8080/"
        },
        "id": "NPe4YkD2bAUv",
        "outputId": "2d9d2c0c-0f3c-44d2-afdf-2fcbee315acc"
      },
      "execution_count": 120,
      "outputs": [
        {
          "output_type": "stream",
          "name": "stdout",
          "text": [
            "['vision', 'India']\n",
            "['3000', 'year', 'history', 'people', 'world', 'come', 'invade', 'capture', 'land', 'conquer', 'mind']\n",
            "['Alexander', 'onwards', 'Greeks', 'Turks', 'Moguls', 'Portuguese', 'British', 'French', 'Dutch', 'come', 'loot', 'take']\n",
            "['nation']\n",
            "['conquer']\n",
            "['grab', 'land', 'culture', 'history', 'try', 'enforce', 'way', 'life']\n",
            "[]\n",
            "['respect', 'freedom']\n",
            "['vision', 'freedom']\n",
            "['believe', 'India', 'get', 'vision', '1857', 'start', 'War', 'Independence']\n",
            "['freedom', 'protect', 'nurture', 'build']\n",
            "['free', 'respect']\n",
            "['second', 'vision', 'India', 'development']\n",
            "['year', 'develop', 'nation']\n",
            "['time', 'developed', 'nation']\n",
            "['5', 'nation', 'world', 'term', 'GDP']\n",
            "['10', 'percent', 'growth', 'rate', 'area']\n",
            "['poverty', 'level', 'fall']\n",
            "['achievement', 'globally', 'recognise', 'today']\n",
            "['lack', 'self', 'confidence', 'developed', 'nation', 'self', 'reliant', 'self', 'assure']\n",
            "['incorrect']\n",
            "['vision']\n",
            "['India', 'stand', 'world']\n",
            "['believe', 'India', 'stand', 'world', 'respect']\n",
            "['strength', 'respect', 'strength']\n",
            "['strong', 'military', 'power', 'economic', 'power']\n",
            "['hand', 'hand']\n",
            "['good', 'fortune', 'work', 'great', 'mind']\n",
            "['Dr.', 'Vikram', 'Sarabhai', 'Dept', 'space', 'Professor', 'Satish', 'Dhawan', 'succeed', 'Dr.', 'Brahm', 'Prakash', 'father', 'nuclear', 'material']\n",
            "['lucky', 'work', 'closely', 'consider', 'great', 'opportunity', 'life']\n",
            "['milestone', 'career']\n"
          ]
        }
      ]
    },
    {
      "cell_type": "markdown",
      "source": [
        "✅ Which one to use?\n",
        "If your input is well-punctuated, both do great — NLTK may seem smoother for sentence splitting.\n",
        "\n",
        "If you're doing advanced NLP (POS tagging, dependency parsing, NER, etc.), spaCy is way more powerful.\n",
        "\n",
        "If your text is noisy or pre-cleaned, NLTK might give cleaner sentence chunks, but spaCy can be customized.\n",
        "\n"
      ],
      "metadata": {
        "id": "CUg6zjXLA6aA"
      }
    },
    {
      "cell_type": "code",
      "source": [
        "cleaned_text"
      ],
      "metadata": {
        "colab": {
          "base_uri": "https://localhost:8080/"
        },
        "id": "-BIj7hr7P78H",
        "outputId": "e0d8a765-f5d5-466e-9d32-9cf5cf022564"
      },
      "execution_count": 121,
      "outputs": [
        {
          "output_type": "execute_result",
          "data": {
            "text/plain": [
              "[['vision', 'India'],\n",
              " ['3000',\n",
              "  'year',\n",
              "  'history',\n",
              "  'people',\n",
              "  'world',\n",
              "  'come',\n",
              "  'invade',\n",
              "  'capture',\n",
              "  'land',\n",
              "  'conquer',\n",
              "  'mind'],\n",
              " ['Alexander',\n",
              "  'onwards',\n",
              "  'Greeks',\n",
              "  'Turks',\n",
              "  'Moguls',\n",
              "  'Portuguese',\n",
              "  'British',\n",
              "  'French',\n",
              "  'Dutch',\n",
              "  'come',\n",
              "  'loot',\n",
              "  'take'],\n",
              " ['nation'],\n",
              " ['conquer'],\n",
              " ['grab', 'land', 'culture', 'history', 'try', 'enforce', 'way', 'life'],\n",
              " [],\n",
              " ['respect', 'freedom'],\n",
              " ['vision', 'freedom'],\n",
              " ['believe', 'India', 'get', 'vision', '1857', 'start', 'War', 'Independence'],\n",
              " ['freedom', 'protect', 'nurture', 'build'],\n",
              " ['free', 'respect'],\n",
              " ['second', 'vision', 'India', 'development'],\n",
              " ['year', 'develop', 'nation'],\n",
              " ['time', 'developed', 'nation'],\n",
              " ['5', 'nation', 'world', 'term', 'GDP'],\n",
              " ['10', 'percent', 'growth', 'rate', 'area'],\n",
              " ['poverty', 'level', 'fall'],\n",
              " ['achievement', 'globally', 'recognise', 'today'],\n",
              " ['lack',\n",
              "  'self',\n",
              "  'confidence',\n",
              "  'developed',\n",
              "  'nation',\n",
              "  'self',\n",
              "  'reliant',\n",
              "  'self',\n",
              "  'assure'],\n",
              " ['incorrect'],\n",
              " ['vision'],\n",
              " ['India', 'stand', 'world'],\n",
              " ['believe', 'India', 'stand', 'world', 'respect'],\n",
              " ['strength', 'respect', 'strength'],\n",
              " ['strong', 'military', 'power', 'economic', 'power'],\n",
              " ['hand', 'hand'],\n",
              " ['good', 'fortune', 'work', 'great', 'mind'],\n",
              " ['Dr.',\n",
              "  'Vikram',\n",
              "  'Sarabhai',\n",
              "  'Dept',\n",
              "  'space',\n",
              "  'Professor',\n",
              "  'Satish',\n",
              "  'Dhawan',\n",
              "  'succeed',\n",
              "  'Dr.',\n",
              "  'Brahm',\n",
              "  'Prakash',\n",
              "  'father',\n",
              "  'nuclear',\n",
              "  'material'],\n",
              " ['lucky', 'work', 'closely', 'consider', 'great', 'opportunity', 'life'],\n",
              " ['milestone', 'career']]"
            ]
          },
          "metadata": {},
          "execution_count": 121
        }
      ]
    },
    {
      "cell_type": "markdown",
      "source": [],
      "metadata": {
        "id": "_6zzwXnLPgEf"
      }
    },
    {
      "cell_type": "code",
      "source": [
        "all_words = [word for sentence in cleaned_text for word in sentence]"
      ],
      "metadata": {
        "id": "FMqBKOndXawa"
      },
      "execution_count": 122,
      "outputs": []
    },
    {
      "cell_type": "code",
      "source": [
        "len(all_words)"
      ],
      "metadata": {
        "colab": {
          "base_uri": "https://localhost:8080/"
        },
        "id": "q03_CluqXeQ3",
        "outputId": "8e8f76d0-c097-4806-b008-3dc95895c9ca"
      },
      "execution_count": 123,
      "outputs": [
        {
          "output_type": "execute_result",
          "data": {
            "text/plain": [
              "138"
            ]
          },
          "metadata": {},
          "execution_count": 123
        }
      ]
    },
    {
      "cell_type": "code",
      "source": [
        "all_words"
      ],
      "metadata": {
        "colab": {
          "base_uri": "https://localhost:8080/"
        },
        "id": "Y2pWiWgGR1hz",
        "outputId": "7202724e-2dfb-4193-e88b-e17a38c595af"
      },
      "execution_count": 12,
      "outputs": [
        {
          "output_type": "execute_result",
          "data": {
            "text/plain": [
              "['vision',\n",
              " 'India',\n",
              " '3000',\n",
              " 'year',\n",
              " 'history',\n",
              " 'people',\n",
              " 'world',\n",
              " 'come',\n",
              " 'invade',\n",
              " 'capture',\n",
              " 'land',\n",
              " 'conquer',\n",
              " 'mind',\n",
              " 'Alexander',\n",
              " 'onwards',\n",
              " 'Greeks',\n",
              " 'Turks',\n",
              " 'Moguls',\n",
              " 'Portuguese',\n",
              " 'British',\n",
              " 'French',\n",
              " 'Dutch',\n",
              " 'come',\n",
              " 'loot',\n",
              " 'take',\n",
              " 'nation',\n",
              " 'conquer',\n",
              " 'grab',\n",
              " 'land',\n",
              " 'culture',\n",
              " 'history',\n",
              " 'try',\n",
              " 'enforce',\n",
              " 'way',\n",
              " 'life',\n",
              " 'respect',\n",
              " 'freedom',\n",
              " 'vision',\n",
              " 'freedom',\n",
              " 'believe',\n",
              " 'India',\n",
              " 'get',\n",
              " 'vision',\n",
              " '1857',\n",
              " 'start',\n",
              " 'War',\n",
              " 'Independence',\n",
              " 'freedom',\n",
              " 'protect',\n",
              " 'nurture',\n",
              " 'build',\n",
              " 'free',\n",
              " 'respect',\n",
              " 'second',\n",
              " 'vision',\n",
              " 'India',\n",
              " 'development',\n",
              " 'year',\n",
              " 'develop',\n",
              " 'nation',\n",
              " 'time',\n",
              " 'developed',\n",
              " 'nation',\n",
              " '5',\n",
              " 'nation',\n",
              " 'world',\n",
              " 'term',\n",
              " 'GDP',\n",
              " '10',\n",
              " 'percent',\n",
              " 'growth',\n",
              " 'rate',\n",
              " 'area',\n",
              " 'poverty',\n",
              " 'level',\n",
              " 'fall',\n",
              " 'achievement',\n",
              " 'globally',\n",
              " 'recognise',\n",
              " 'today',\n",
              " 'lack',\n",
              " 'self',\n",
              " 'confidence',\n",
              " 'developed',\n",
              " 'nation',\n",
              " 'self',\n",
              " 'reliant',\n",
              " 'self',\n",
              " 'assure',\n",
              " 'incorrect',\n",
              " 'vision',\n",
              " 'India',\n",
              " 'stand',\n",
              " 'world',\n",
              " 'believe',\n",
              " 'India',\n",
              " 'stand',\n",
              " 'world',\n",
              " 'respect',\n",
              " 'strength',\n",
              " 'respect',\n",
              " 'strength',\n",
              " 'strong',\n",
              " 'military',\n",
              " 'power',\n",
              " 'economic',\n",
              " 'power',\n",
              " 'hand',\n",
              " 'hand',\n",
              " 'good',\n",
              " 'fortune',\n",
              " 'work',\n",
              " 'great',\n",
              " 'mind',\n",
              " 'Dr.',\n",
              " 'Vikram',\n",
              " 'Sarabhai',\n",
              " 'Dept',\n",
              " 'space',\n",
              " 'Professor',\n",
              " 'Satish',\n",
              " 'Dhawan',\n",
              " 'succeed',\n",
              " 'Dr.',\n",
              " 'Brahm',\n",
              " 'Prakash',\n",
              " 'father',\n",
              " 'nuclear',\n",
              " 'material',\n",
              " 'lucky',\n",
              " 'work',\n",
              " 'closely',\n",
              " 'consider',\n",
              " 'great',\n",
              " 'opportunity',\n",
              " 'life',\n",
              " 'milestone',\n",
              " 'career']"
            ]
          },
          "metadata": {},
          "execution_count": 12
        }
      ]
    },
    {
      "cell_type": "code",
      "source": [],
      "metadata": {
        "id": "UHANEABAXeJV"
      },
      "execution_count": null,
      "outputs": []
    },
    {
      "cell_type": "code",
      "source": [
        "vocab= sorted(set(all_words))"
      ],
      "metadata": {
        "id": "5EP1uWe7A95q"
      },
      "execution_count": 124,
      "outputs": []
    },
    {
      "cell_type": "markdown",
      "source": [],
      "metadata": {
        "id": "rTOTztEnXacp"
      }
    },
    {
      "cell_type": "code",
      "source": [
        "\n",
        "\n",
        "word_to_idex= {word:idx for idx,word in enumerate(vocab)} # this means that at which index the word is stored in the dictionary\n",
        "idx_to_word= {idx:word for word,idx in word_to_idex.items()} #this means that at which index the key is stored in the memory"
      ],
      "metadata": {
        "id": "yfGWoe49PCeB"
      },
      "execution_count": 125,
      "outputs": []
    },
    {
      "cell_type": "code",
      "source": [
        "idx_to_word"
      ],
      "metadata": {
        "colab": {
          "base_uri": "https://localhost:8080/"
        },
        "id": "QX01P1MsXkYz",
        "outputId": "1bd37913-cf82-4e5d-9e8b-6dd244549a17"
      },
      "execution_count": 126,
      "outputs": [
        {
          "output_type": "execute_result",
          "data": {
            "text/plain": [
              "{0: '10',\n",
              " 1: '1857',\n",
              " 2: '3000',\n",
              " 3: '5',\n",
              " 4: 'Alexander',\n",
              " 5: 'Brahm',\n",
              " 6: 'British',\n",
              " 7: 'Dept',\n",
              " 8: 'Dhawan',\n",
              " 9: 'Dr.',\n",
              " 10: 'Dutch',\n",
              " 11: 'French',\n",
              " 12: 'GDP',\n",
              " 13: 'Greeks',\n",
              " 14: 'Independence',\n",
              " 15: 'India',\n",
              " 16: 'Moguls',\n",
              " 17: 'Portuguese',\n",
              " 18: 'Prakash',\n",
              " 19: 'Professor',\n",
              " 20: 'Sarabhai',\n",
              " 21: 'Satish',\n",
              " 22: 'Turks',\n",
              " 23: 'Vikram',\n",
              " 24: 'War',\n",
              " 25: 'achievement',\n",
              " 26: 'area',\n",
              " 27: 'assure',\n",
              " 28: 'believe',\n",
              " 29: 'build',\n",
              " 30: 'capture',\n",
              " 31: 'career',\n",
              " 32: 'closely',\n",
              " 33: 'come',\n",
              " 34: 'confidence',\n",
              " 35: 'conquer',\n",
              " 36: 'consider',\n",
              " 37: 'culture',\n",
              " 38: 'develop',\n",
              " 39: 'developed',\n",
              " 40: 'development',\n",
              " 41: 'economic',\n",
              " 42: 'enforce',\n",
              " 43: 'fall',\n",
              " 44: 'father',\n",
              " 45: 'fortune',\n",
              " 46: 'free',\n",
              " 47: 'freedom',\n",
              " 48: 'get',\n",
              " 49: 'globally',\n",
              " 50: 'good',\n",
              " 51: 'grab',\n",
              " 52: 'great',\n",
              " 53: 'growth',\n",
              " 54: 'hand',\n",
              " 55: 'history',\n",
              " 56: 'incorrect',\n",
              " 57: 'invade',\n",
              " 58: 'lack',\n",
              " 59: 'land',\n",
              " 60: 'level',\n",
              " 61: 'life',\n",
              " 62: 'loot',\n",
              " 63: 'lucky',\n",
              " 64: 'material',\n",
              " 65: 'milestone',\n",
              " 66: 'military',\n",
              " 67: 'mind',\n",
              " 68: 'nation',\n",
              " 69: 'nuclear',\n",
              " 70: 'nurture',\n",
              " 71: 'onwards',\n",
              " 72: 'opportunity',\n",
              " 73: 'people',\n",
              " 74: 'percent',\n",
              " 75: 'poverty',\n",
              " 76: 'power',\n",
              " 77: 'protect',\n",
              " 78: 'rate',\n",
              " 79: 'recognise',\n",
              " 80: 'reliant',\n",
              " 81: 'respect',\n",
              " 82: 'second',\n",
              " 83: 'self',\n",
              " 84: 'space',\n",
              " 85: 'stand',\n",
              " 86: 'start',\n",
              " 87: 'strength',\n",
              " 88: 'strong',\n",
              " 89: 'succeed',\n",
              " 90: 'take',\n",
              " 91: 'term',\n",
              " 92: 'time',\n",
              " 93: 'today',\n",
              " 94: 'try',\n",
              " 95: 'vision',\n",
              " 96: 'way',\n",
              " 97: 'work',\n",
              " 98: 'world',\n",
              " 99: 'year'}"
            ]
          },
          "metadata": {},
          "execution_count": 126
        }
      ]
    },
    {
      "cell_type": "code",
      "source": [
        "window_size=2"
      ],
      "metadata": {
        "id": "s-fLjbWwN0et"
      },
      "execution_count": 127,
      "outputs": []
    },
    {
      "cell_type": "markdown",
      "source": [
        "✅ Neural networks can't work directly with words\n",
        "You must convert words to numbers (IDs) to feed them into embedding layers or matrix operations."
      ],
      "metadata": {
        "id": "VK__GTR8g0Om"
      }
    },
    {
      "cell_type": "markdown",
      "source": [
        "No, TF-IDF or BoW are not used when training Word2Vec models.\n",
        "You need to stick with word IDs and work with word pairs because:\n",
        "\n",
        "🤔 Why Not TF-IDF or BoW?\n",
        "1. ❌ TF-IDF/BoW lose word order\n",
        "TF-IDF and BoW represent documents as word-frequency vectors, but they don’t preserve local word order.\n",
        "Word2Vec (especially Skip-gram and CBOW) is all about context — what words appear near each other.\n",
        "\n",
        "Example: BoW of [\"I love dogs\", \"dogs are great\"] doesn't care that “love” and “dogs” appeared next to each other.\n",
        "\n",
        "2. ❌ They don’t generate (center, context) pairs\n",
        "Skip-gram needs training examples like:\n",
        "\n",
        "arduino\n",
        "Copy\n",
        "Edit\n",
        "(\"dogs\", \"love\"), (\"dogs\", \"are\") — i.e., word pairs\n",
        "BoW/TF-IDF gives:\n",
        "\n",
        "python\n",
        "Copy\n",
        "Edit\n",
        "[0.4, 0.0, 0.3, 0.1, ...]  # Just vector representation of a document\n",
        "There's no context relationship like in Word2Vec.\n",
        "\n",
        "3. ❌ TF-IDF/BoW are static\n",
        "They don’t learn embeddings — they are based only on word counts.\n",
        "Word2Vec learns vector representations that capture meaning.\n",
        "\n"
      ],
      "metadata": {
        "id": "85UqhAbRhQka"
      }
    },
    {
      "cell_type": "code",
      "source": [
        "sentences_ids = [[word_to_idex[word] for word in sentence] for sentence in cleaned_text]\n"
      ],
      "metadata": {
        "id": "ZPruPHsJgerL"
      },
      "execution_count": 128,
      "outputs": []
    },
    {
      "cell_type": "code",
      "source": [
        "idx_to_word[14]"
      ],
      "metadata": {
        "colab": {
          "base_uri": "https://localhost:8080/",
          "height": 35
        },
        "id": "PJbM5nMCj27-",
        "outputId": "c85fd217-64bb-4ee4-9ba2-4ba75140dc4c"
      },
      "execution_count": 129,
      "outputs": [
        {
          "output_type": "execute_result",
          "data": {
            "text/plain": [
              "'Independence'"
            ],
            "application/vnd.google.colaboratory.intrinsic+json": {
              "type": "string"
            }
          },
          "metadata": {},
          "execution_count": 129
        }
      ]
    },
    {
      "cell_type": "code",
      "source": [
        "sentences_ids"
      ],
      "metadata": {
        "colab": {
          "base_uri": "https://localhost:8080/"
        },
        "id": "pItAPyxEYd-x",
        "outputId": "bc72a159-19a2-4efd-e838-87aef9cf03a9"
      },
      "execution_count": 130,
      "outputs": [
        {
          "output_type": "execute_result",
          "data": {
            "text/plain": [
              "[[95, 15],\n",
              " [2, 99, 55, 73, 98, 33, 57, 30, 59, 35, 67],\n",
              " [4, 71, 13, 22, 16, 17, 6, 11, 10, 33, 62, 90],\n",
              " [68],\n",
              " [35],\n",
              " [51, 59, 37, 55, 94, 42, 96, 61],\n",
              " [],\n",
              " [81, 47],\n",
              " [95, 47],\n",
              " [28, 15, 48, 95, 1, 86, 24, 14],\n",
              " [47, 77, 70, 29],\n",
              " [46, 81],\n",
              " [82, 95, 15, 40],\n",
              " [99, 38, 68],\n",
              " [92, 39, 68],\n",
              " [3, 68, 98, 91, 12],\n",
              " [0, 74, 53, 78, 26],\n",
              " [75, 60, 43],\n",
              " [25, 49, 79, 93],\n",
              " [58, 83, 34, 39, 68, 83, 80, 83, 27],\n",
              " [56],\n",
              " [95],\n",
              " [15, 85, 98],\n",
              " [28, 15, 85, 98, 81],\n",
              " [87, 81, 87],\n",
              " [88, 66, 76, 41, 76],\n",
              " [54, 54],\n",
              " [50, 45, 97, 52, 67],\n",
              " [9, 23, 20, 7, 84, 19, 21, 8, 89, 9, 5, 18, 44, 69, 64],\n",
              " [63, 97, 32, 36, 52, 72, 61],\n",
              " [65, 31]]"
            ]
          },
          "metadata": {},
          "execution_count": 130
        }
      ]
    },
    {
      "cell_type": "code",
      "source": [
        "def generate_skipgram_pairs(sentences_ids, window_size=2):\n",
        "    pairs = []\n",
        "\n",
        "    for sentence in sentences_ids:\n",
        "        for center_idx, center_word_id in enumerate(sentence):\n",
        "            # Context window\n",
        "            for offset in range(-window_size, window_size + 1):\n",
        "                context_idx = center_idx + offset\n",
        "                if offset == 0 or context_idx < 0 or context_idx >= len(sentence):\n",
        "                    continue\n",
        "                context_word_id = sentence[context_idx]\n",
        "                pairs.append((center_word_id, context_word_id))  # (center, context)\n",
        "\n",
        "    return pairs\n"
      ],
      "metadata": {
        "id": "7qqCnGWklnGf"
      },
      "execution_count": 131,
      "outputs": []
    },
    {
      "cell_type": "markdown",
      "source": [
        "implement word2vec"
      ],
      "metadata": {
        "id": "ZsxHHtxFXjnI"
      }
    },
    {
      "cell_type": "code",
      "source": [
        "pairs=generate_skipgram_pairs(sentences_ids)"
      ],
      "metadata": {
        "id": "Ja6-_XFbbRIf"
      },
      "execution_count": 132,
      "outputs": []
    },
    {
      "cell_type": "code",
      "source": [
        "id_to_word[14]"
      ],
      "metadata": {
        "colab": {
          "base_uri": "https://localhost:8080/",
          "height": 35
        },
        "id": "kthKdiGAbeGD",
        "outputId": "ccb15ede-84ca-4b24-82cc-234393bd6c1d"
      },
      "execution_count": 133,
      "outputs": [
        {
          "output_type": "execute_result",
          "data": {
            "text/plain": [
              "'Independence'"
            ],
            "application/vnd.google.colaboratory.intrinsic+json": {
              "type": "string"
            }
          },
          "metadata": {},
          "execution_count": 133
        }
      ]
    },
    {
      "cell_type": "code",
      "source": [
        "pairs"
      ],
      "metadata": {
        "colab": {
          "base_uri": "https://localhost:8080/"
        },
        "id": "45Rm__maby-t",
        "outputId": "2eb30566-b055-48ae-e92c-a0daf2781965"
      },
      "execution_count": 134,
      "outputs": [
        {
          "output_type": "execute_result",
          "data": {
            "text/plain": [
              "[(95, 15),\n",
              " (15, 95),\n",
              " (2, 99),\n",
              " (2, 55),\n",
              " (99, 2),\n",
              " (99, 55),\n",
              " (99, 73),\n",
              " (55, 2),\n",
              " (55, 99),\n",
              " (55, 73),\n",
              " (55, 98),\n",
              " (73, 99),\n",
              " (73, 55),\n",
              " (73, 98),\n",
              " (73, 33),\n",
              " (98, 55),\n",
              " (98, 73),\n",
              " (98, 33),\n",
              " (98, 57),\n",
              " (33, 73),\n",
              " (33, 98),\n",
              " (33, 57),\n",
              " (33, 30),\n",
              " (57, 98),\n",
              " (57, 33),\n",
              " (57, 30),\n",
              " (57, 59),\n",
              " (30, 33),\n",
              " (30, 57),\n",
              " (30, 59),\n",
              " (30, 35),\n",
              " (59, 57),\n",
              " (59, 30),\n",
              " (59, 35),\n",
              " (59, 67),\n",
              " (35, 30),\n",
              " (35, 59),\n",
              " (35, 67),\n",
              " (67, 59),\n",
              " (67, 35),\n",
              " (4, 71),\n",
              " (4, 13),\n",
              " (71, 4),\n",
              " (71, 13),\n",
              " (71, 22),\n",
              " (13, 4),\n",
              " (13, 71),\n",
              " (13, 22),\n",
              " (13, 16),\n",
              " (22, 71),\n",
              " (22, 13),\n",
              " (22, 16),\n",
              " (22, 17),\n",
              " (16, 13),\n",
              " (16, 22),\n",
              " (16, 17),\n",
              " (16, 6),\n",
              " (17, 22),\n",
              " (17, 16),\n",
              " (17, 6),\n",
              " (17, 11),\n",
              " (6, 16),\n",
              " (6, 17),\n",
              " (6, 11),\n",
              " (6, 10),\n",
              " (11, 17),\n",
              " (11, 6),\n",
              " (11, 10),\n",
              " (11, 33),\n",
              " (10, 6),\n",
              " (10, 11),\n",
              " (10, 33),\n",
              " (10, 62),\n",
              " (33, 11),\n",
              " (33, 10),\n",
              " (33, 62),\n",
              " (33, 90),\n",
              " (62, 10),\n",
              " (62, 33),\n",
              " (62, 90),\n",
              " (90, 33),\n",
              " (90, 62),\n",
              " (51, 59),\n",
              " (51, 37),\n",
              " (59, 51),\n",
              " (59, 37),\n",
              " (59, 55),\n",
              " (37, 51),\n",
              " (37, 59),\n",
              " (37, 55),\n",
              " (37, 94),\n",
              " (55, 59),\n",
              " (55, 37),\n",
              " (55, 94),\n",
              " (55, 42),\n",
              " (94, 37),\n",
              " (94, 55),\n",
              " (94, 42),\n",
              " (94, 96),\n",
              " (42, 55),\n",
              " (42, 94),\n",
              " (42, 96),\n",
              " (42, 61),\n",
              " (96, 94),\n",
              " (96, 42),\n",
              " (96, 61),\n",
              " (61, 42),\n",
              " (61, 96),\n",
              " (81, 47),\n",
              " (47, 81),\n",
              " (95, 47),\n",
              " (47, 95),\n",
              " (28, 15),\n",
              " (28, 48),\n",
              " (15, 28),\n",
              " (15, 48),\n",
              " (15, 95),\n",
              " (48, 28),\n",
              " (48, 15),\n",
              " (48, 95),\n",
              " (48, 1),\n",
              " (95, 15),\n",
              " (95, 48),\n",
              " (95, 1),\n",
              " (95, 86),\n",
              " (1, 48),\n",
              " (1, 95),\n",
              " (1, 86),\n",
              " (1, 24),\n",
              " (86, 95),\n",
              " (86, 1),\n",
              " (86, 24),\n",
              " (86, 14),\n",
              " (24, 1),\n",
              " (24, 86),\n",
              " (24, 14),\n",
              " (14, 86),\n",
              " (14, 24),\n",
              " (47, 77),\n",
              " (47, 70),\n",
              " (77, 47),\n",
              " (77, 70),\n",
              " (77, 29),\n",
              " (70, 47),\n",
              " (70, 77),\n",
              " (70, 29),\n",
              " (29, 77),\n",
              " (29, 70),\n",
              " (46, 81),\n",
              " (81, 46),\n",
              " (82, 95),\n",
              " (82, 15),\n",
              " (95, 82),\n",
              " (95, 15),\n",
              " (95, 40),\n",
              " (15, 82),\n",
              " (15, 95),\n",
              " (15, 40),\n",
              " (40, 95),\n",
              " (40, 15),\n",
              " (99, 38),\n",
              " (99, 68),\n",
              " (38, 99),\n",
              " (38, 68),\n",
              " (68, 99),\n",
              " (68, 38),\n",
              " (92, 39),\n",
              " (92, 68),\n",
              " (39, 92),\n",
              " (39, 68),\n",
              " (68, 92),\n",
              " (68, 39),\n",
              " (3, 68),\n",
              " (3, 98),\n",
              " (68, 3),\n",
              " (68, 98),\n",
              " (68, 91),\n",
              " (98, 3),\n",
              " (98, 68),\n",
              " (98, 91),\n",
              " (98, 12),\n",
              " (91, 68),\n",
              " (91, 98),\n",
              " (91, 12),\n",
              " (12, 98),\n",
              " (12, 91),\n",
              " (0, 74),\n",
              " (0, 53),\n",
              " (74, 0),\n",
              " (74, 53),\n",
              " (74, 78),\n",
              " (53, 0),\n",
              " (53, 74),\n",
              " (53, 78),\n",
              " (53, 26),\n",
              " (78, 74),\n",
              " (78, 53),\n",
              " (78, 26),\n",
              " (26, 53),\n",
              " (26, 78),\n",
              " (75, 60),\n",
              " (75, 43),\n",
              " (60, 75),\n",
              " (60, 43),\n",
              " (43, 75),\n",
              " (43, 60),\n",
              " (25, 49),\n",
              " (25, 79),\n",
              " (49, 25),\n",
              " (49, 79),\n",
              " (49, 93),\n",
              " (79, 25),\n",
              " (79, 49),\n",
              " (79, 93),\n",
              " (93, 49),\n",
              " (93, 79),\n",
              " (58, 83),\n",
              " (58, 34),\n",
              " (83, 58),\n",
              " (83, 34),\n",
              " (83, 39),\n",
              " (34, 58),\n",
              " (34, 83),\n",
              " (34, 39),\n",
              " (34, 68),\n",
              " (39, 83),\n",
              " (39, 34),\n",
              " (39, 68),\n",
              " (39, 83),\n",
              " (68, 34),\n",
              " (68, 39),\n",
              " (68, 83),\n",
              " (68, 80),\n",
              " (83, 39),\n",
              " (83, 68),\n",
              " (83, 80),\n",
              " (83, 83),\n",
              " (80, 68),\n",
              " (80, 83),\n",
              " (80, 83),\n",
              " (80, 27),\n",
              " (83, 83),\n",
              " (83, 80),\n",
              " (83, 27),\n",
              " (27, 80),\n",
              " (27, 83),\n",
              " (15, 85),\n",
              " (15, 98),\n",
              " (85, 15),\n",
              " (85, 98),\n",
              " (98, 15),\n",
              " (98, 85),\n",
              " (28, 15),\n",
              " (28, 85),\n",
              " (15, 28),\n",
              " (15, 85),\n",
              " (15, 98),\n",
              " (85, 28),\n",
              " (85, 15),\n",
              " (85, 98),\n",
              " (85, 81),\n",
              " (98, 15),\n",
              " (98, 85),\n",
              " (98, 81),\n",
              " (81, 85),\n",
              " (81, 98),\n",
              " (87, 81),\n",
              " (87, 87),\n",
              " (81, 87),\n",
              " (81, 87),\n",
              " (87, 87),\n",
              " (87, 81),\n",
              " (88, 66),\n",
              " (88, 76),\n",
              " (66, 88),\n",
              " (66, 76),\n",
              " (66, 41),\n",
              " (76, 88),\n",
              " (76, 66),\n",
              " (76, 41),\n",
              " (76, 76),\n",
              " (41, 66),\n",
              " (41, 76),\n",
              " (41, 76),\n",
              " (76, 76),\n",
              " (76, 41),\n",
              " (54, 54),\n",
              " (54, 54),\n",
              " (50, 45),\n",
              " (50, 97),\n",
              " (45, 50),\n",
              " (45, 97),\n",
              " (45, 52),\n",
              " (97, 50),\n",
              " (97, 45),\n",
              " (97, 52),\n",
              " (97, 67),\n",
              " (52, 45),\n",
              " (52, 97),\n",
              " (52, 67),\n",
              " (67, 97),\n",
              " (67, 52),\n",
              " (9, 23),\n",
              " (9, 20),\n",
              " (23, 9),\n",
              " (23, 20),\n",
              " (23, 7),\n",
              " (20, 9),\n",
              " (20, 23),\n",
              " (20, 7),\n",
              " (20, 84),\n",
              " (7, 23),\n",
              " (7, 20),\n",
              " (7, 84),\n",
              " (7, 19),\n",
              " (84, 20),\n",
              " (84, 7),\n",
              " (84, 19),\n",
              " (84, 21),\n",
              " (19, 7),\n",
              " (19, 84),\n",
              " (19, 21),\n",
              " (19, 8),\n",
              " (21, 84),\n",
              " (21, 19),\n",
              " (21, 8),\n",
              " (21, 89),\n",
              " (8, 19),\n",
              " (8, 21),\n",
              " (8, 89),\n",
              " (8, 9),\n",
              " (89, 21),\n",
              " (89, 8),\n",
              " (89, 9),\n",
              " (89, 5),\n",
              " (9, 8),\n",
              " (9, 89),\n",
              " (9, 5),\n",
              " (9, 18),\n",
              " (5, 89),\n",
              " (5, 9),\n",
              " (5, 18),\n",
              " (5, 44),\n",
              " (18, 9),\n",
              " (18, 5),\n",
              " (18, 44),\n",
              " (18, 69),\n",
              " (44, 5),\n",
              " (44, 18),\n",
              " (44, 69),\n",
              " (44, 64),\n",
              " (69, 18),\n",
              " (69, 44),\n",
              " (69, 64),\n",
              " (64, 44),\n",
              " (64, 69),\n",
              " (63, 97),\n",
              " (63, 32),\n",
              " (97, 63),\n",
              " (97, 32),\n",
              " (97, 36),\n",
              " (32, 63),\n",
              " (32, 97),\n",
              " (32, 36),\n",
              " (32, 52),\n",
              " (36, 97),\n",
              " (36, 32),\n",
              " (36, 52),\n",
              " (36, 72),\n",
              " (52, 32),\n",
              " (52, 36),\n",
              " (52, 72),\n",
              " (52, 61),\n",
              " (72, 36),\n",
              " (72, 52),\n",
              " (72, 61),\n",
              " (61, 52),\n",
              " (61, 72),\n",
              " (65, 31),\n",
              " (31, 65)]"
            ]
          },
          "metadata": {},
          "execution_count": 134
        }
      ]
    },
    {
      "cell_type": "code",
      "source": [
        "# one hot encoding\n",
        "\n",
        "import numpy as np\n",
        "\n",
        "\n",
        "def one_hot_encoding(word_id, vocab_size):\n",
        "\n",
        "  one_hot_vector= np.zeros(len(vocab_size))\n",
        "  one_hot_vector[word_id]=1\n",
        "  return one_hot_vector\n",
        "\n",
        "context_one_hot_vector=[]\n",
        "center_one_hot_vector=[]\n",
        "\n",
        "for center_word_id,context_word_id in pairs:\n",
        "  context_one_hot_vector=one_hot_encoding(context_word_id, vocab)\n",
        "  center_one_hot_vector= one_hot_encoding(center_word_id, vocab)\n",
        "\n",
        "\n"
      ],
      "metadata": {
        "id": "jxHGATytXjZR"
      },
      "execution_count": 135,
      "outputs": []
    },
    {
      "cell_type": "code",
      "source": [
        "context_one_hot_vector"
      ],
      "metadata": {
        "colab": {
          "base_uri": "https://localhost:8080/"
        },
        "id": "KtuG7LMlb1cg",
        "outputId": "fad2edec-d000-4faa-ca53-34aa7e2aedf3"
      },
      "execution_count": 113,
      "outputs": [
        {
          "output_type": "execute_result",
          "data": {
            "text/plain": [
              "array([0., 0., 0., 0., 0., 0., 0., 0., 0., 0., 0., 0., 0., 0., 0., 0., 0.,\n",
              "       0., 0., 0., 0., 0., 0., 0., 0., 0., 0., 0., 0., 0., 0., 0., 0., 0.,\n",
              "       0., 0., 0., 0., 0., 0., 0., 0., 0., 0., 0., 0., 0., 0., 0., 0., 0.,\n",
              "       0., 0., 0., 0., 0., 0., 0., 0., 0., 0., 0., 0., 0., 0., 1., 0., 0.,\n",
              "       0., 0., 0., 0., 0., 0., 0., 0., 0., 0., 0., 0., 0., 0., 0., 0., 0.,\n",
              "       0., 0., 0., 0., 0., 0., 0., 0., 0., 0., 0., 0., 0., 0., 0.])"
            ]
          },
          "metadata": {},
          "execution_count": 113
        }
      ]
    },
    {
      "cell_type": "code",
      "source": [
        "center_one_hot_vector"
      ],
      "metadata": {
        "colab": {
          "base_uri": "https://localhost:8080/"
        },
        "id": "Z4gYfb_8Z8ja",
        "outputId": "3b41bcea-8464-4877-98a4-6df39874f91f"
      },
      "execution_count": 61,
      "outputs": [
        {
          "output_type": "execute_result",
          "data": {
            "text/plain": [
              "array([0., 0., 0., 0., 0., 0., 0., 0., 0., 0., 0., 0., 0., 0., 0., 0., 0.,\n",
              "       0., 0., 0., 0., 0., 0., 0., 0., 0., 0., 0., 0., 0., 0., 1., 0., 0.,\n",
              "       0., 0., 0., 0., 0., 0., 0., 0., 0., 0., 0., 0., 0., 0., 0., 0., 0.,\n",
              "       0., 0., 0., 0., 0., 0., 0., 0., 0., 0., 0., 0., 0., 0., 0., 0., 0.,\n",
              "       0., 0., 0., 0., 0., 0., 0., 0., 0., 0., 0., 0., 0., 0., 0., 0., 0.,\n",
              "       0., 0., 0., 0., 0., 0., 0., 0., 0., 0., 0., 0., 0., 0., 0.])"
            ]
          },
          "metadata": {},
          "execution_count": 61
        }
      ]
    },
    {
      "cell_type": "code",
      "source": [],
      "metadata": {
        "id": "hAvXaRZMb83m"
      },
      "execution_count": null,
      "outputs": []
    },
    {
      "cell_type": "markdown",
      "source": [
        "\n",
        "🔁 If You Used One-Hot Encoding (OHE)\n",
        "You’d do something like:\n",
        "\n",
        "Create a vocab_size × vocab_size identity matrix (each row = one-hot vector).\n",
        "\n",
        "Multiply that OHE vector by a vocab_size × embedding_dim weight matrix.\n",
        "\n",
        "This would give you an embedding_dim vector for that word.\n",
        "\n",
        "So:\n",
        "\n",
        "python\n",
        "Copy\n",
        "Edit\n",
        "embedding = one_hot_vector @ W  # W is vocab_size × embedding_dim\n",
        "You would then learn W through training — the weights get updated via backpropagation.\n",
        "\n"
      ],
      "metadata": {
        "id": "fG6V9VrXJFKF"
      }
    },
    {
      "cell_type": "markdown",
      "source": [
        "✅ What nn.Embedding Does Instead\n",
        "Using:\n",
        "\n",
        "python\n",
        "Copy\n",
        "Edit\n",
        "self.in_embeddings = nn.Embedding(vocab_size, embedding_dim)\n",
        "PyTorch internally does exactly the same thing, but more efficiently:\n",
        "\n",
        "It stores a vocab_size × embedding_dim matrix.\n",
        "\n",
        "Instead of creating a one-hot vector and doing matrix multiplication, it just looks up the row corresponding to your word index.\n",
        "\n",
        "This is:\n",
        "\n",
        "python\n",
        "Copy\n",
        "Edit\n",
        "embedding = self.in_embeddings[word_id]\n",
        "It’s:\n",
        "\n",
        "Faster (no matrix multiplication, just indexing)\n",
        "\n",
        "Memory efficient (you don’t need to store the full one-hot matrix)\n",
        "📦 nn.Embedding(vocab_size, embedding_dim) is:\n",
        "A learnable weight matrix of shape:\n",
        "\n",
        "[vocab_size, embedding_dim]\n",
        "\n",
        "Each row in that matrix is the embedding vector for one word (indexed by word ID).\n"
      ],
      "metadata": {
        "id": "GBTtzFK9JgxR"
      }
    },
    {
      "cell_type": "markdown",
      "source": [],
      "metadata": {
        "id": "9RJyCGzrJcQN"
      }
    },
    {
      "cell_type": "code",
      "source": [
        "weight= np.random.randn(len(vocab), 5)"
      ],
      "metadata": {
        "id": "SZaJl0MvF4Ob"
      },
      "execution_count": 62,
      "outputs": []
    },
    {
      "cell_type": "code",
      "source": [
        "center_one_hot_vector.shape"
      ],
      "metadata": {
        "colab": {
          "base_uri": "https://localhost:8080/"
        },
        "id": "Oa4hJgIQcMEa",
        "outputId": "21e4c7ca-41d6-4d22-ffea-a81785de8622"
      },
      "execution_count": 66,
      "outputs": [
        {
          "output_type": "execute_result",
          "data": {
            "text/plain": [
              "(100,)"
            ]
          },
          "metadata": {},
          "execution_count": 66
        }
      ]
    },
    {
      "cell_type": "code",
      "source": [
        "weight"
      ],
      "metadata": {
        "colab": {
          "base_uri": "https://localhost:8080/"
        },
        "id": "o5qG8YIKcFgA",
        "outputId": "5c4f49ff-15ec-45c5-99b2-1d55c3522bd0"
      },
      "execution_count": 63,
      "outputs": [
        {
          "output_type": "execute_result",
          "data": {
            "text/plain": [
              "array([[-8.35070832e-01,  3.27408672e-01, -4.96757397e-02,\n",
              "        -7.04312040e-01, -2.01481839e+00],\n",
              "       [-9.56297735e-01,  5.40130233e-01, -4.33396722e-01,\n",
              "         8.55267028e-01,  4.20612506e-01],\n",
              "       [ 3.10265352e-01, -4.34817314e-01,  2.27013545e+00,\n",
              "         1.07568368e-01,  3.75053958e-01],\n",
              "       [-1.68761375e+00,  1.85392723e+00,  9.62167264e-01,\n",
              "         2.15255308e+00,  5.46668249e-01],\n",
              "       [ 1.64656882e+00,  9.66773034e-01,  2.75458532e-02,\n",
              "         9.77509012e-01, -2.78272266e+00],\n",
              "       [ 7.15945898e-01, -4.29086301e-01,  4.48557569e-01,\n",
              "         3.35146519e-01,  6.67111430e-01],\n",
              "       [ 2.35131066e+00, -5.10987053e-01, -6.91677825e-01,\n",
              "        -1.00371870e+00,  5.23699359e-01],\n",
              "       [ 9.96883372e-02,  1.54525894e+00,  1.42607329e-01,\n",
              "         5.85605671e-01, -1.36900742e+00],\n",
              "       [-6.61474207e-01,  3.15358261e-01,  7.88892208e-01,\n",
              "         3.28044937e-01, -5.61624574e-01],\n",
              "       [-5.54038757e-01, -6.55737777e-01, -7.30369372e-01,\n",
              "        -1.03773210e+00,  6.87557846e-01],\n",
              "       [-1.12950274e+00, -1.36706986e+00, -1.10388215e+00,\n",
              "        -6.17201738e-01, -6.99630603e-01],\n",
              "       [ 1.70925726e+00,  4.34016510e-01,  1.30852441e+00,\n",
              "         9.36417952e-01, -1.15274038e+00],\n",
              "       [ 1.77428143e+00,  2.15248022e+00, -3.56354194e-01,\n",
              "         2.71076746e-01,  1.02217741e+00],\n",
              "       [-6.92144994e-01, -7.21721016e-01, -7.93630576e-01,\n",
              "        -6.03596497e-01, -1.02306339e+00],\n",
              "       [-6.07192489e-01, -1.37450185e+00,  2.55884438e-01,\n",
              "        -2.85287691e+00,  1.00984597e+00],\n",
              "       [-2.66948178e-01, -5.62215366e-01,  6.90092002e-01,\n",
              "        -2.80347382e-01, -8.11356806e-02],\n",
              "       [-5.27218456e-01,  1.26108045e+00, -3.55954380e-01,\n",
              "         5.43310904e-01, -8.05959320e-02],\n",
              "       [-1.61942519e+00,  1.04162197e+00, -1.89661695e-01,\n",
              "        -5.99083738e-01,  3.75085547e-01],\n",
              "       [ 4.23963307e-01,  9.39939161e-01, -1.61672165e+00,\n",
              "        -5.07632132e-01, -1.28793362e-01],\n",
              "       [ 1.53996077e+00,  1.59372177e-01, -1.16326828e+00,\n",
              "        -3.92849721e-01, -8.95271760e-01],\n",
              "       [ 3.48445672e-01,  1.25583680e+00, -6.73277099e-01,\n",
              "        -9.68784826e-01,  4.75358671e-05],\n",
              "       [-1.51131777e+00, -3.92735843e-01,  6.08499909e-01,\n",
              "         4.79197623e-01, -3.86222149e-02],\n",
              "       [ 1.42728229e+00,  7.66959414e-01, -6.23379097e-01,\n",
              "        -6.23728010e-01, -6.20941322e-01],\n",
              "       [-9.14607337e-01,  6.82474962e-01,  4.23795358e-01,\n",
              "        -4.26533781e-02,  1.29078503e-01],\n",
              "       [-1.16344033e+00,  1.41262893e+00, -7.12193031e-01,\n",
              "         5.40193804e-01,  6.38489841e-01],\n",
              "       [-2.46467615e-01, -1.13073809e-01,  3.57464418e-01,\n",
              "         3.52625818e-01,  6.70166715e-01],\n",
              "       [-1.64466014e-01, -7.21337499e-01,  5.28067512e-01,\n",
              "         7.01551206e-01, -1.22649621e+00],\n",
              "       [ 4.33364558e-01, -4.53210239e-01,  1.76869740e+00,\n",
              "        -1.73938698e+00, -5.70585686e-01],\n",
              "       [-5.11979846e-01, -1.60633385e+00, -2.16835084e+00,\n",
              "         1.02364680e+00,  3.75873913e-01],\n",
              "       [-6.58731784e-01,  2.11701846e-02, -1.03498765e+00,\n",
              "         1.23659179e+00, -3.83408457e-02],\n",
              "       [-1.32572035e+00,  9.39771657e-02, -3.20198915e-01,\n",
              "         7.44573633e-01,  6.41973483e-01],\n",
              "       [ 4.29511559e-01, -2.38387670e-03, -1.72216162e+00,\n",
              "         1.91946329e+00, -6.39456295e-02],\n",
              "       [ 3.26137957e-01, -5.25090270e-01,  3.17927676e-01,\n",
              "        -1.13901257e+00, -2.93806790e-01],\n",
              "       [-8.17020389e-01, -1.00346598e+00, -1.25225857e+00,\n",
              "         1.88744276e+00,  1.69428071e-01],\n",
              "       [ 8.10232206e-01, -1.19196186e+00,  6.38697608e-01,\n",
              "        -8.22034340e-02,  1.02159094e+00],\n",
              "       [-2.39436761e+00, -6.21051330e-01, -2.37084860e-01,\n",
              "         7.73873889e-01,  1.33129384e-01],\n",
              "       [-1.57752029e+00,  4.16344645e-01,  1.17251046e+00,\n",
              "        -2.02575104e+00,  2.78497086e+00],\n",
              "       [ 5.01663108e-01,  1.85054042e+00,  2.87263145e-01,\n",
              "        -1.74593724e-01,  6.64440970e-01],\n",
              "       [-2.03364318e-02,  3.41801459e-01, -1.00490952e+00,\n",
              "        -6.03172411e-01, -9.79101815e-03],\n",
              "       [-4.34331719e-01,  1.78098095e-01, -1.30420471e+00,\n",
              "        -1.62174142e-01, -3.39915161e-01],\n",
              "       [ 1.04844073e+00, -3.24852779e-01, -1.30604670e+00,\n",
              "         1.41156343e+00,  1.69622983e+00],\n",
              "       [ 1.07533730e+00,  8.47717333e-01,  9.91002322e-01,\n",
              "         6.16389079e-01,  1.28264260e+00],\n",
              "       [-1.88128921e+00, -1.05987282e+00, -1.35116819e-01,\n",
              "        -1.27008162e+00, -1.62220669e-01],\n",
              "       [ 1.16146100e+00,  2.22821571e-02, -5.80123607e-02,\n",
              "         1.80541358e+00,  4.42281790e-01],\n",
              "       [-2.16089844e-01,  1.16695365e+00,  3.35090133e-01,\n",
              "         2.36557921e-01, -1.05481527e+00],\n",
              "       [ 6.35781692e-01,  4.47078865e-01, -1.05365799e+00,\n",
              "         3.61625427e-01,  3.98273829e-01],\n",
              "       [-4.75129748e-01,  8.92927972e-01,  5.95029540e-01,\n",
              "        -2.13382389e-01,  1.67771773e-01],\n",
              "       [ 4.25419187e-01, -7.11596813e-02,  6.05368526e-01,\n",
              "         1.09611279e-01,  1.39823550e-01],\n",
              "       [ 1.36930878e+00, -1.13169857e+00, -2.50904451e-01,\n",
              "         9.74150430e-04,  5.95422711e-01],\n",
              "       [-1.74347664e+00, -1.72282995e-03,  8.04425814e-01,\n",
              "        -4.91746686e-01, -6.23305943e-01],\n",
              "       [-1.85374916e-01,  6.07399074e-01,  7.75203723e-01,\n",
              "         5.42958284e-01, -1.65028878e-01],\n",
              "       [ 6.37828729e-02,  3.94225117e-02,  1.26286393e+00,\n",
              "         9.61232258e-01,  8.66086676e-01],\n",
              "       [ 2.03918432e-01,  3.90498922e-01, -8.64578711e-01,\n",
              "         1.48418724e-02,  1.70845516e+00],\n",
              "       [-5.32904561e-02,  6.91343580e-02, -9.61872993e-01,\n",
              "         1.03219324e+00, -1.04824436e+00],\n",
              "       [ 1.83694934e+00,  2.10165777e-01, -8.85394782e-01,\n",
              "        -1.01630408e+00,  1.32962322e+00],\n",
              "       [-5.85720401e-01,  4.27632957e-01, -9.77137218e-01,\n",
              "        -7.04188803e-02, -1.25289922e+00],\n",
              "       [ 1.29837579e+00,  2.16520024e+00,  2.60563814e+00,\n",
              "        -3.83314391e-01, -5.23610664e-01],\n",
              "       [ 8.41157796e-01,  1.36019458e+00,  4.70218155e-01,\n",
              "         1.26356420e+00, -7.10069507e-01],\n",
              "       [-3.53827887e-02, -1.14912008e+00,  5.01419470e-01,\n",
              "        -1.25211324e+00, -2.47554629e-01],\n",
              "       [-4.12990905e-02,  3.17603395e-01,  6.38418662e-01,\n",
              "        -1.34176956e-01,  2.09525784e-01],\n",
              "       [-9.15600771e-01, -8.53441505e-01,  1.56032536e+00,\n",
              "        -3.33935012e-01,  7.28231642e-02],\n",
              "       [ 4.50756184e-01, -1.59091925e-01,  1.76521761e+00,\n",
              "         4.53842012e-01, -3.42873674e-01],\n",
              "       [-4.36041373e-01,  7.01076408e-01,  2.89133322e-01,\n",
              "        -3.44703098e-01, -3.33093155e-01],\n",
              "       [ 6.41528564e-01,  1.64072106e+00,  9.45259020e-01,\n",
              "         1.83473801e+00, -6.12798072e-01],\n",
              "       [-2.49697081e-01, -5.74109448e-01, -8.14513491e-02,\n",
              "         7.07072768e-01,  1.31671352e-01],\n",
              "       [ 7.51305085e-01,  4.72014486e-02, -2.12701100e+00,\n",
              "         5.24819871e-01, -3.59233460e-02],\n",
              "       [ 7.23891217e-01, -7.37805138e-02,  3.25309009e-01,\n",
              "        -7.91360610e-01, -6.41138074e-01],\n",
              "       [-4.78536721e-01,  9.17016950e-01,  9.00763792e-01,\n",
              "         7.27646732e-01, -8.99368425e-01],\n",
              "       [ 7.29340038e-01,  1.56545307e-01,  7.72051326e-01,\n",
              "        -1.12797802e+00, -1.05093951e+00],\n",
              "       [-1.65245437e-01, -3.49998408e-01, -2.96527440e-01,\n",
              "         4.46773356e-01,  1.08565130e+00],\n",
              "       [-1.14754267e+00, -7.63679341e-01, -4.30644234e-01,\n",
              "        -2.77731811e-01, -3.03333760e-01],\n",
              "       [ 2.22273600e-01, -1.18845635e+00,  1.16929998e-01,\n",
              "        -4.11627472e-01,  4.60310938e-01],\n",
              "       [-1.00700640e+00,  8.70245070e-01,  8.45036208e-01,\n",
              "        -1.42591220e+00, -7.27539919e-01],\n",
              "       [-6.57051643e-01,  8.76721184e-01,  1.78490657e-01,\n",
              "         9.11476680e-01,  1.94662814e+00],\n",
              "       [ 1.13652950e+00, -2.58999701e-01,  2.44531055e+00,\n",
              "         4.22944335e-01, -9.80853154e-01],\n",
              "       [-1.29244544e-01,  8.28402438e-01,  2.61845608e+00,\n",
              "        -1.45511005e+00, -4.89131118e-01],\n",
              "       [-7.22821320e-01, -1.15431679e+00, -6.63161088e-01,\n",
              "         1.70034273e+00,  9.07671858e-01],\n",
              "       [-2.39030291e-01,  1.47430558e+00,  9.36257451e-01,\n",
              "         1.83091939e-01, -1.36899093e+00],\n",
              "       [-1.28779665e-01,  1.25980267e+00, -1.41214936e+00,\n",
              "        -1.79505887e+00,  4.83866778e-01],\n",
              "       [-1.41058772e+00,  2.64692979e-01,  1.18625367e-01,\n",
              "        -1.06393571e-01, -1.28389287e-02],\n",
              "       [ 6.64872989e-01, -1.25849794e-01, -3.73106706e-01,\n",
              "         1.53635640e+00, -3.04006201e-01],\n",
              "       [ 3.00133439e-01,  6.43769768e-01,  9.61366701e-01,\n",
              "         3.09628658e+00, -1.56304607e+00],\n",
              "       [-1.20732739e+00, -6.01054387e-01, -5.31051802e-01,\n",
              "         7.19204105e-01, -3.31993622e-02],\n",
              "       [ 1.16407597e+00, -7.70298104e-02,  9.02811397e-01,\n",
              "         1.16167503e-01,  6.34741952e-02],\n",
              "       [-6.75382069e-01,  5.75472554e-01,  3.17188902e-01,\n",
              "         8.30782884e-01, -5.88129168e-01],\n",
              "       [ 1.60815447e-01, -4.74251619e-01, -1.99268786e-01,\n",
              "         3.56294418e-01, -8.46653590e-01],\n",
              "       [ 6.29539676e-01, -2.82943448e-01, -9.06666164e-01,\n",
              "         1.33406756e-01,  5.98383239e-01],\n",
              "       [ 4.10345984e-01, -8.34789336e-01, -5.46239087e-01,\n",
              "         7.94133784e-01, -3.87575746e-02],\n",
              "       [ 1.71044261e+00,  8.29880145e-02,  5.16860360e-01,\n",
              "        -1.24804943e+00, -4.66789901e-01],\n",
              "       [-7.90447781e-01, -5.03201554e-01, -4.71138868e-01,\n",
              "         6.58105747e-01,  1.25992146e+00],\n",
              "       [-1.37928306e+00,  2.52505171e-01,  3.89786488e-01,\n",
              "        -1.59853063e+00, -1.84561986e+00],\n",
              "       [ 8.06313190e-01,  1.24326331e+00,  8.90275352e-01,\n",
              "         6.29579986e-01, -1.32565792e-01],\n",
              "       [-9.92893953e-01,  6.32146452e-01, -5.98834429e-01,\n",
              "        -1.28612988e+00, -1.15915502e+00],\n",
              "       [ 9.54597016e-01,  9.95865796e-01,  6.52235899e-01,\n",
              "         1.59256914e-01,  1.12501101e-01],\n",
              "       [-1.44321094e+00,  1.77492151e+00,  4.69954811e-01,\n",
              "         1.40864469e+00,  2.53613340e+00],\n",
              "       [ 8.38460020e-01, -7.61479995e-01, -2.67502417e-01,\n",
              "        -2.03118521e-01, -4.56581504e-01],\n",
              "       [ 1.03755001e+00, -1.06393333e+00, -8.02526578e-01,\n",
              "        -6.13417601e-01,  3.79726803e-01],\n",
              "       [-1.70894969e-01,  2.95138749e-01, -8.75753417e-01,\n",
              "        -7.48272070e-01, -6.01528113e-01],\n",
              "       [ 1.61334777e-01, -1.30031397e+00, -1.33198016e+00,\n",
              "         6.41384314e-01, -1.82241486e-01],\n",
              "       [-3.28032204e-01,  5.96666838e-03,  9.92713219e-01,\n",
              "         5.53265918e-01, -3.36940132e-01]])"
            ]
          },
          "metadata": {},
          "execution_count": 63
        }
      ]
    },
    {
      "cell_type": "code",
      "source": [
        "embeddng_vec= np.dot(center_one_hot_vector,weight)"
      ],
      "metadata": {
        "id": "7KFJNGpPcGjj"
      },
      "execution_count": 67,
      "outputs": []
    },
    {
      "cell_type": "code",
      "source": [
        "embeddng_vec"
      ],
      "metadata": {
        "colab": {
          "base_uri": "https://localhost:8080/"
        },
        "id": "YpK4Tyn2eIUF",
        "outputId": "298d53b9-b822-4fe6-ace6-fe3d057959cf"
      },
      "execution_count": 68,
      "outputs": [
        {
          "output_type": "execute_result",
          "data": {
            "text/plain": [
              "array([ 0.42951156, -0.00238388, -1.72216162,  1.91946329, -0.06394563])"
            ]
          },
          "metadata": {},
          "execution_count": 68
        }
      ]
    },
    {
      "cell_type": "code",
      "source": [
        "W2= np.random.randn(5,len(vocab))"
      ],
      "metadata": {
        "id": "tULyczLXeJG4"
      },
      "execution_count": 141,
      "outputs": []
    },
    {
      "cell_type": "code",
      "source": [
        "def backpropogation(W1,W2):\n",
        "  embeddng_vec= np.dot(center_one_hot_vector,W1)\n",
        "  output_l= np.dot(embeddng_vec,W2)\n",
        "  softmax_output= softmax(output_l)\n",
        "  return softmax_output,embeddng_vec,output_l"
      ],
      "metadata": {
        "id": "urKzFTdcBYR1"
      },
      "execution_count": 178,
      "outputs": []
    },
    {
      "cell_type": "code",
      "source": [
        "-2.54E+00"
      ],
      "metadata": {
        "id": "D3cwE-mE6ziv"
      },
      "execution_count": null,
      "outputs": []
    },
    {
      "cell_type": "code",
      "source": [
        "W2"
      ],
      "metadata": {
        "colab": {
          "base_uri": "https://localhost:8080/"
        },
        "id": "QkohZ14Pe6RS",
        "outputId": "6cde656b-6460-4955-d096-36d671f62ac8"
      },
      "execution_count": 142,
      "outputs": [
        {
          "output_type": "execute_result",
          "data": {
            "text/plain": [
              "array([[ 1.82949946e+00, -4.68796332e-01, -5.92252176e-01,\n",
              "         6.15570264e-01, -8.05804577e-01,  5.49614036e-01,\n",
              "         2.63805627e-01,  1.19462487e+00,  7.81931474e-01,\n",
              "        -8.71202411e-01,  1.24778480e+00, -1.24871308e+00,\n",
              "        -1.87108363e-01,  6.29390303e-01, -6.60570381e-01,\n",
              "         9.94690109e-01, -1.21871010e+00, -1.15824336e+00,\n",
              "        -1.28490762e+00,  1.55114049e+00,  7.73118259e-01,\n",
              "         2.15580062e-01, -5.74041380e-01, -1.24153706e+00,\n",
              "         2.20117668e-01, -2.54042366e-01, -2.40884488e-01,\n",
              "         3.88187524e-01,  3.26085334e-01,  1.28967134e+00,\n",
              "        -8.08048521e-01,  5.70027560e-01, -1.34350124e+00,\n",
              "         8.80406980e-01, -8.63994898e-01, -7.64508612e-01,\n",
              "         1.52306281e+00, -2.80828963e-01,  3.52749993e-02,\n",
              "        -2.01483672e-01,  5.25921088e-01, -5.38606767e-02,\n",
              "         6.39575323e-01, -1.59439445e+00, -4.38249369e-01,\n",
              "        -2.56546187e-01, -5.64514385e-01,  3.27052205e-01,\n",
              "         3.22314974e-01,  1.63510947e+00, -9.84928923e-01,\n",
              "        -1.51733437e-01, -1.76785317e+00,  5.57524197e-03,\n",
              "         3.22511009e-01,  8.77747113e-01, -1.79730787e-01,\n",
              "        -1.23010489e-01, -6.15850444e-01, -2.97137818e-01,\n",
              "        -1.04618830e-01, -3.07552459e-01,  5.34947227e-03,\n",
              "        -4.09550428e-01, -1.76800390e-03,  1.15500082e+00,\n",
              "         7.57990983e-01, -9.76174410e-01, -6.99300680e-02,\n",
              "        -3.29770159e-01, -1.00718486e+00, -1.66829199e+00,\n",
              "        -2.62115181e-01,  4.70125588e-01, -6.24657694e-01,\n",
              "         4.63292139e-01, -1.26352100e+00, -1.66011534e+00,\n",
              "         9.69281169e-01, -8.19147975e-01, -9.97667150e-01,\n",
              "         8.34929416e-01, -8.85386906e-01, -5.36560014e-01,\n",
              "         9.65190974e-01, -3.97241482e-01,  1.75797779e+00,\n",
              "         9.59487815e-01, -1.58773783e+00, -3.85345163e-01,\n",
              "        -2.75907874e-01,  9.86813483e-01, -6.23245822e-01,\n",
              "         1.50310138e+00, -1.31472755e+00,  2.83826871e-01,\n",
              "         1.06771478e+00, -1.69544244e+00,  6.37972834e-01,\n",
              "         1.02261457e+00],\n",
              "       [ 9.54344750e-02,  1.76584958e+00, -1.16780410e-01,\n",
              "         3.76446158e-01, -1.09738918e-01,  9.40970285e-01,\n",
              "         4.45417876e-01,  8.01386678e-01, -2.79797902e+00,\n",
              "        -1.53910531e+00, -1.14375378e+00, -1.78483778e+00,\n",
              "        -1.78293120e+00,  3.02508864e-01,  7.95706426e-03,\n",
              "        -2.94831959e-01,  2.73519342e-01,  7.49522599e-01,\n",
              "         3.42432977e-01, -8.67190249e-01, -4.22166059e-01,\n",
              "         8.83882611e-01, -7.85519754e-01, -7.67737323e-01,\n",
              "        -5.21252202e-01, -1.15321529e+00, -3.34333975e-01,\n",
              "         3.99425517e-02,  6.07246572e-02,  4.19801623e-01,\n",
              "        -3.08467648e-01, -3.52220862e-01,  1.40257342e+00,\n",
              "         1.57897853e+00,  7.10848723e-01, -4.43388409e-01,\n",
              "         3.52507805e-01, -8.02762391e-01,  9.78084154e-02,\n",
              "        -2.72528617e-01,  1.43564646e+00,  2.62818974e-01,\n",
              "         7.38738900e-01, -1.23836028e+00, -1.53415979e+00,\n",
              "         8.47896997e-01,  4.30035584e-01,  8.11824346e-01,\n",
              "        -1.04206314e+00,  2.70439152e-01,  8.11443745e-01,\n",
              "        -1.08810975e+00,  2.02695481e-01, -1.95999067e+00,\n",
              "         7.94744692e-02, -5.00892322e-01, -9.85613027e-01,\n",
              "         6.56777306e-02, -1.77007336e+00,  1.13197057e+00,\n",
              "         2.07269934e-01,  4.51335974e-01, -4.70343405e-01,\n",
              "        -1.96956278e-02,  8.99077157e-01, -1.36474767e-02,\n",
              "         1.60231098e+00,  1.24292388e-01, -6.09459737e-02,\n",
              "         1.03686073e+00,  5.73167275e-01, -4.70164043e-01,\n",
              "        -9.74513653e-01,  1.66202007e+00, -2.94120362e+00,\n",
              "         1.94279079e-01,  7.51218452e-01, -2.53242966e-01,\n",
              "         2.19995255e-01,  1.13284038e-01,  1.55592583e+00,\n",
              "         6.13013552e-01, -1.45920122e-01,  2.29440183e+00,\n",
              "         9.47916999e-01,  1.74278331e+00,  2.17467365e+00,\n",
              "         1.32013805e-01,  1.40339713e-01, -2.51631318e-01,\n",
              "         1.02327744e+00,  4.70780498e-01,  1.89567816e+00,\n",
              "         3.46785226e-01,  4.27685916e-01, -8.00624413e-01,\n",
              "        -8.35091154e-01, -9.81079608e-02,  3.18037370e-01,\n",
              "        -1.61330748e+00],\n",
              "       [ 1.41873783e+00, -5.54094445e-01, -1.66976273e+00,\n",
              "         5.64102679e-02, -9.62606335e-01, -1.39599038e+00,\n",
              "        -2.78792409e-02, -7.60457400e-01, -1.61882679e+00,\n",
              "         1.08319679e+00, -1.69655428e+00,  7.03515520e-02,\n",
              "         1.93644475e-01,  5.52031057e-01,  1.40208935e+00,\n",
              "        -2.56908407e-01, -1.74061526e-01, -1.35058802e+00,\n",
              "         1.00269495e+00,  1.39844030e+00, -4.39035516e-02,\n",
              "         9.79607793e-01,  1.23784959e+00, -1.74574121e+00,\n",
              "         8.53653917e-01, -7.32848083e-01, -1.00546857e+00,\n",
              "        -8.22509966e-01,  1.32265792e+00,  2.11063839e+00,\n",
              "        -1.19404896e+00,  1.24663142e+00,  8.09194727e-01,\n",
              "        -8.28184215e-02, -1.21135028e+00, -2.77015395e+00,\n",
              "         9.67537254e-01,  1.86339217e+00,  2.96998517e-01,\n",
              "        -1.08454567e+00,  2.43658983e+00,  2.47652116e-01,\n",
              "        -9.27906945e-01, -2.72648219e-01, -2.42121516e+00,\n",
              "         2.85017610e+00, -5.13431243e-01,  2.63545222e-01,\n",
              "        -1.05989361e+00, -5.80302624e-01, -2.21410942e-01,\n",
              "         7.29269520e-01, -8.76045481e-01, -5.13848738e-01,\n",
              "         7.90881008e-01, -3.54773244e-01, -1.09119827e+00,\n",
              "        -5.46105453e-01,  1.36736215e-01, -1.25180798e+00,\n",
              "        -2.49041137e-01,  2.94694861e-01,  3.11045459e-01,\n",
              "         1.25436848e-01,  1.96209095e+00, -1.04369925e-01,\n",
              "        -5.89958359e-01, -1.26551792e+00, -1.48035017e-01,\n",
              "         1.38437418e+00, -6.85990941e-01,  4.29710358e-01,\n",
              "        -4.67115517e-01, -5.17118475e-02,  1.27553828e+00,\n",
              "        -4.38633910e-01, -1.79331331e+00, -6.68785800e-01,\n",
              "         1.25979400e+00,  4.09086297e-01, -4.54401467e-01,\n",
              "         3.51411857e-01, -1.46975744e-01,  7.14669810e-01,\n",
              "         9.93388980e-01, -4.20022573e-01,  1.65189158e+00,\n",
              "         6.76475380e-02,  1.31369671e-01, -1.87418616e-01,\n",
              "         3.93855994e-01, -1.66664278e-01, -1.16095983e+00,\n",
              "        -4.52772019e-01,  1.07369828e+00, -1.80812570e+00,\n",
              "        -1.42764293e+00,  1.58580836e+00, -1.49707595e+00,\n",
              "        -1.32290604e+00],\n",
              "       [-4.42141882e-01,  8.36079577e-02, -9.20806505e-01,\n",
              "         6.92129828e-01,  1.69093288e+00,  2.61618788e-01,\n",
              "        -5.61653437e-01, -9.27237571e-01, -3.52120696e-01,\n",
              "         3.32847479e-01,  7.10307578e-01,  6.26218309e-01,\n",
              "         3.81886060e-01, -7.78536028e-01,  1.46883252e+00,\n",
              "         2.51404079e-01, -5.79488014e-01,  1.25207669e+00,\n",
              "        -8.30531153e-02,  8.65976680e-01, -6.30750695e-01,\n",
              "        -5.88204180e-01,  1.68369390e+00,  7.23071443e-01,\n",
              "        -1.56412640e+00, -3.98554868e-01, -1.41673962e+00,\n",
              "        -1.00626330e+00,  9.38699045e-01, -1.60472898e+00,\n",
              "        -6.78658973e-01, -4.69201975e-01, -1.87511253e+00,\n",
              "         2.21284244e+00, -1.12412194e+00,  1.11182343e+00,\n",
              "        -4.88570696e-01,  1.65826849e+00,  1.18444607e-01,\n",
              "        -3.33780397e-01, -1.90229434e+00,  7.56302910e-01,\n",
              "         2.57441407e-01,  3.94351458e-01, -2.57762153e+00,\n",
              "         3.26848235e+00,  1.67281898e+00,  1.49757334e+00,\n",
              "        -7.08671560e-02, -7.94167854e-01, -1.96096972e-02,\n",
              "         8.98096713e-01, -1.69423217e+00, -1.25267521e+00,\n",
              "         4.84448224e-01,  5.10974027e-01, -3.23177542e-01,\n",
              "         1.52872615e-01,  2.89090368e-01,  1.38370168e-02,\n",
              "        -3.35775133e-01,  3.36381864e-01,  3.82806942e-01,\n",
              "         1.41405887e-01,  8.38155072e-01, -1.28371742e+00,\n",
              "         6.71383924e-01,  1.82575782e-01, -4.27613451e-01,\n",
              "        -4.70465154e-01, -6.03992528e-02, -6.33682598e-02,\n",
              "         3.33660145e-01, -2.26798158e+00, -5.46264952e-01,\n",
              "        -4.35832376e-01, -1.35147669e+00, -4.56741811e-02,\n",
              "         6.96032436e-02, -1.04373116e+00,  5.49579234e-01,\n",
              "        -1.72407324e+00,  1.29792938e+00, -4.48324840e-02,\n",
              "         4.75379012e-01, -4.02699827e-01, -3.55496802e-02,\n",
              "         8.01958724e-01, -2.67936361e+00,  1.57845356e+00,\n",
              "         1.52006588e-01,  6.87257437e-01, -2.31618755e+00,\n",
              "        -5.71516652e-01, -1.17040797e+00, -9.08856494e-01,\n",
              "         9.88578537e-01, -6.39180468e-01, -9.65935951e-01,\n",
              "        -4.66145274e-01],\n",
              "       [-1.26626159e-01,  5.81383067e-01, -7.81775216e-01,\n",
              "         1.22981158e-01, -1.29202503e+00,  9.74227923e-01,\n",
              "         1.33360521e+00,  6.30855405e-01,  4.76356163e-01,\n",
              "         1.55476776e+00, -2.42593421e-01, -2.35528401e-01,\n",
              "        -2.04955295e-01,  1.17257272e-01,  5.95675139e-01,\n",
              "         1.08907342e+00, -5.75477585e-01, -7.23235566e-01,\n",
              "        -1.11268706e+00,  3.37559896e-01, -3.22117481e-01,\n",
              "         2.76321120e-01,  2.11536164e+00, -5.80622840e-01,\n",
              "        -6.91417739e-01, -7.49382942e-02,  3.23743048e-01,\n",
              "        -1.56563027e+00, -3.25203545e-01,  5.79302696e-01,\n",
              "         7.71907956e-01, -1.67345702e+00,  1.36673700e+00,\n",
              "         2.72977564e-01, -7.05736682e-01,  3.73661310e-01,\n",
              "        -7.53891629e-01,  5.06145731e-02,  5.94393414e-01,\n",
              "        -1.44982562e+00, -2.02375788e+00,  7.56504983e-01,\n",
              "         1.27579493e+00,  1.52352440e+00, -1.80435842e-01,\n",
              "        -5.19427385e-01, -2.04837789e+00,  3.08567969e-01,\n",
              "         2.83821228e-01,  1.71488020e-01, -8.74249387e-02,\n",
              "        -1.39476332e+00, -1.08211798e+00, -1.72993898e-01,\n",
              "         1.03732635e+00, -1.07502585e+00,  1.29093444e+00,\n",
              "        -1.50587966e+00, -9.59785898e-01,  3.61504975e-01,\n",
              "        -4.32756237e-01,  1.50968979e+00,  1.98893311e+00,\n",
              "         8.42230644e-01, -3.52498569e-01,  7.61729383e-01,\n",
              "         9.18894901e-01, -4.86186059e-02,  2.24726402e-01,\n",
              "        -5.26049889e-01,  1.46694728e-04,  5.32523208e-02,\n",
              "        -3.02781710e-01,  6.09122472e-01, -1.29527606e+00,\n",
              "         4.23906055e-01,  1.07061207e-01, -6.52000699e-02,\n",
              "         1.86741415e-01, -2.97818745e-01, -8.75026861e-03,\n",
              "         9.42448553e-02,  1.65952031e-01,  1.84933163e-01,\n",
              "        -9.17190354e-01, -1.31789671e+00, -1.20080188e-01,\n",
              "        -3.64362114e-01,  2.55155453e+00, -4.08946770e-01,\n",
              "        -5.12803875e-01,  4.83366161e-01, -1.92626547e-01,\n",
              "        -1.37322105e+00,  1.45408338e+00, -1.54208521e+00,\n",
              "        -1.68575198e+00, -2.37339008e-02, -9.67328985e-01,\n",
              "        -6.10089257e-01]])"
            ]
          },
          "metadata": {},
          "execution_count": 142
        }
      ]
    },
    {
      "cell_type": "code",
      "source": [
        "embeddng_vec.shape"
      ],
      "metadata": {
        "colab": {
          "base_uri": "https://localhost:8080/"
        },
        "id": "9HHrm3xkeu0b",
        "outputId": "acf9ad06-1b2d-43f2-9f08-045b79ce5399"
      },
      "execution_count": 73,
      "outputs": [
        {
          "output_type": "execute_result",
          "data": {
            "text/plain": [
              "(5,)"
            ]
          },
          "metadata": {},
          "execution_count": 73
        }
      ]
    },
    {
      "cell_type": "code",
      "source": [
        "len(vocab)"
      ],
      "metadata": {
        "colab": {
          "base_uri": "https://localhost:8080/"
        },
        "id": "TOV_xlm4exOF",
        "outputId": "876a9ac4-4a43-4349-afc8-8501951a4a7a"
      },
      "execution_count": 76,
      "outputs": [
        {
          "output_type": "execute_result",
          "data": {
            "text/plain": [
              "100"
            ]
          },
          "metadata": {},
          "execution_count": 76
        }
      ]
    },
    {
      "cell_type": "code",
      "source": [
        "output_l= np.dot(embeddng_vec,W2)"
      ],
      "metadata": {
        "id": "EUCnT7tzel5A"
      },
      "execution_count": 123,
      "outputs": []
    },
    {
      "cell_type": "code",
      "source": [],
      "metadata": {
        "id": "x6aGjLEG2Jbp"
      },
      "execution_count": null,
      "outputs": []
    },
    {
      "cell_type": "code",
      "source": [
        "output_l"
      ],
      "metadata": {
        "colab": {
          "base_uri": "https://localhost:8080/"
        },
        "id": "p0CqmW9Uepw1",
        "outputId": "79f90e79-87fa-4344-dd52-27c07a5e897f"
      },
      "execution_count": 124,
      "outputs": [
        {
          "output_type": "execute_result",
          "data": {
            "text/plain": [
              "array([ 0.29912572, -0.32678253, -2.0872731 , -4.58177218, -1.81759635,\n",
              "       -0.12604851,  0.95143767, -2.12711725, -3.76678868, -4.53108359,\n",
              "        0.78105273,  1.27099948,  0.88757933,  0.12537276,  5.49739692,\n",
              "        0.91091397,  0.11887419, -3.02220573,  1.64913222, -2.77067951,\n",
              "       -0.20909057,  0.04383361,  1.12365191, -1.75644257,  0.15626568,\n",
              "        3.54427251,  1.79677561, -0.10033429,  1.40321599,  2.26475997,\n",
              "        5.34279193,  1.81113959, -4.90261031,  0.61251935, -0.00899541,\n",
              "       -2.52931275, -4.64944075,  0.40011667, -1.94105308,  0.87584784,\n",
              "        0.43592348,  5.18909548, -1.08850608, -2.00979102, -1.16827069,\n",
              "       -0.6079085 , -0.46032951,  1.62738259, -1.02747165,  1.8766419 ,\n",
              "        1.7409598 ,  0.18878656,  1.12757305,  2.09971907, -1.39079459,\n",
              "       -2.71058927,  1.33412565,  0.23782396,  1.84254721, -1.7292365 ,\n",
              "       -3.42054691,  0.95783267, -2.79742574,  2.10217657, -4.94515053,\n",
              "        0.02900677,  4.64932327, -1.14078505, -0.35871548,  1.76901463,\n",
              "       -6.18133788, -2.9950518 ,  0.45096769,  0.355339  , -1.58721968,\n",
              "       -3.72627932, -1.84252184,  0.12452288, -2.92137484,  2.43067956,\n",
              "       -0.73018594,  1.6233014 , -3.76804707,  0.68537399,  0.35372888,\n",
              "       -0.71726863, -2.05276212, -0.6663136 , -2.77133255,  5.28166123,\n",
              "        0.43174931,  4.4310971 ,  0.24016555, -3.40189479, -2.87778368,\n",
              "        0.36044275, -2.72603547,  2.35744131,  1.04678457, -4.73916554])"
            ]
          },
          "metadata": {},
          "execution_count": 124
        }
      ]
    },
    {
      "cell_type": "markdown",
      "source": [
        "Given a vector\n",
        "𝑥\n",
        "=\n",
        "[\n",
        "𝑥\n",
        "1\n",
        ",\n",
        "𝑥\n",
        "2\n",
        ",\n",
        ".\n",
        ".\n",
        ".\n",
        ",\n",
        "𝑥\n",
        "𝑛\n",
        "]\n",
        "x=[x\n",
        "1\n",
        "​\n",
        " ,x\n",
        "2\n",
        "​\n",
        " ,...,x\n",
        "n\n",
        "​\n",
        " ], softmax is defined as:\n",
        "\n",
        "softmax\n",
        "(\n",
        "𝑥\n",
        "𝑖\n",
        ")\n",
        "=\n",
        "𝑒\n",
        "𝑥\n",
        "𝑖\n",
        "∑\n",
        "𝑗\n",
        "=\n",
        "1\n",
        "𝑛\n",
        "𝑒\n",
        "𝑥\n",
        "𝑗\n",
        "softmax(x\n",
        "i\n",
        "​\n",
        " )=\n",
        "∑\n",
        "j=1\n",
        "n\n",
        "​\n",
        " e\n",
        "x\n",
        "j\n",
        "​\n",
        "\n",
        "\n",
        "e\n",
        "x\n",
        "i\n",
        "​\n",
        "\n",
        "\n",
        "​\n",
        "\n",
        "You exponentiate each value and divide it by the sum of exponentials of the whole vector. This ensures everything is positive and sums to 1.\n",
        "\n",
        "So, the biggest value gets the highest softmax score — like attention to the most likely class/word."
      ],
      "metadata": {
        "id": "VjRCd6Doh8a8"
      }
    },
    {
      "cell_type": "code",
      "source": [
        "def softmax(output_l):\n",
        "  softmaxx= np.exp(output_l-max(output_l))\n",
        "  print(softmaxx)\n",
        "  print(softmaxx.sum())\n",
        "\n",
        "  return softmaxx/softmaxx.sum()"
      ],
      "metadata": {
        "id": "lj8i0COLerev"
      },
      "execution_count": 125,
      "outputs": []
    },
    {
      "cell_type": "code",
      "source": [
        "ab=softmax(output_l)"
      ],
      "metadata": {
        "colab": {
          "base_uri": "https://localhost:8080/"
        },
        "id": "6Bn8h32qisPZ",
        "outputId": "4cabd421-bb7a-4ec9-a4ce-c97a6354b814"
      },
      "execution_count": 126,
      "outputs": [
        {
          "output_type": "stream",
          "name": "stdout",
          "text": [
            "[5.52610968e-03 2.95522806e-03 5.08182451e-04 4.19442541e-05\n",
            " 6.65485790e-04 3.61217415e-03 1.06099902e-02 4.88332432e-04\n",
            " 9.47578758e-05 4.41251558e-05 8.94783037e-03 1.46049109e-02\n",
            " 9.95363383e-03 4.64472011e-03 1.00000000e+00 1.01886293e-02\n",
            " 4.61463395e-03 1.99518689e-04 2.13166951e-02 2.56578364e-04\n",
            " 3.32432882e-03 4.28102288e-03 1.26039501e-02 7.07452907e-04\n",
            " 4.79044850e-03 1.41830242e-01 2.47081701e-02 3.70626290e-03\n",
            " 1.66693942e-02 3.94533250e-02 8.56753540e-01 2.50656392e-02\n",
            " 3.04322630e-05 7.56004929e-03 4.06073078e-03 3.26621135e-04\n",
            " 3.91998486e-05 6.11335077e-03 5.88196196e-04 9.83754515e-03\n",
            " 6.33621658e-03 7.34693820e-01 1.37968096e-03 5.49123087e-04\n",
            " 1.27390586e-03 2.23099987e-03 2.58578425e-03 2.08580706e-02\n",
            " 1.46651188e-03 2.67624627e-02 2.33668456e-02 4.94879900e-03\n",
            " 1.26534690e-02 3.34508578e-02 1.01975639e-03 2.72468868e-04\n",
            " 1.55565848e-02 5.19752381e-03 2.58653844e-02 7.26964134e-04\n",
            " 1.33963413e-04 1.06780585e-02 2.49806820e-04 3.35331645e-02\n",
            " 2.91648177e-05 4.21801706e-03 4.28239075e-01 1.30940562e-03\n",
            " 2.86234975e-03 2.40316808e-02 8.47207755e-06 2.05010632e-04\n",
            " 6.43226060e-03 5.84564745e-03 8.37895977e-04 9.86752663e-05\n",
            " 6.49103251e-04 4.64077435e-03 2.20685542e-04 4.65737893e-02\n",
            " 1.97421810e-03 2.07731183e-02 9.46387085e-05 8.13139384e-03\n",
            " 5.83624282e-03 1.99988510e-03 5.26026459e-04 2.10443024e-03\n",
            " 2.56410861e-04 8.05948295e-01 6.30982328e-03 3.44280061e-01\n",
            " 5.20970854e-03 1.36485564e-04 2.30518231e-04 5.87555845e-03\n",
            " 2.68292598e-04 4.32847194e-02 1.16714178e-02 3.58358252e-05]\n",
            "5.018662693697182\n"
          ]
        }
      ]
    },
    {
      "cell_type": "code",
      "source": [
        "y_pred=np.array(ab)"
      ],
      "metadata": {
        "id": "GNJ0t-2Miuhy"
      },
      "execution_count": 132,
      "outputs": []
    },
    {
      "cell_type": "code",
      "source": [
        "ab[65]"
      ],
      "metadata": {
        "colab": {
          "base_uri": "https://localhost:8080/"
        },
        "id": "XQVYz1r8jL4c",
        "outputId": "07d0dd85-05c1-4adf-cbda-55f717cd8334"
      },
      "execution_count": 128,
      "outputs": [
        {
          "output_type": "execute_result",
          "data": {
            "text/plain": [
              "np.float64(0.0008404663386522754)"
            ]
          },
          "metadata": {},
          "execution_count": 128
        }
      ]
    },
    {
      "cell_type": "code",
      "source": [
        "loss = -np.log(ab[65])"
      ],
      "metadata": {
        "id": "irxfFeN6kMJy"
      },
      "execution_count": 129,
      "outputs": []
    },
    {
      "cell_type": "code",
      "source": [
        "loss"
      ],
      "metadata": {
        "colab": {
          "base_uri": "https://localhost:8080/"
        },
        "id": "CCVEUhgzl7V0",
        "outputId": "6d6d7d9d-c671-472f-d3b6-c60abc0f39e6"
      },
      "execution_count": 130,
      "outputs": [
        {
          "output_type": "execute_result",
          "data": {
            "text/plain": [
              "np.float64(7.081553655111794)"
            ]
          },
          "metadata": {},
          "execution_count": 130
        }
      ]
    },
    {
      "cell_type": "markdown",
      "source": [
        "If the model assigns a high probability to the correct context word → low loss\n",
        "\n",
        "If it assigns low probability → high loss"
      ],
      "metadata": {
        "id": "N8IBMC3XmGjp"
      }
    },
    {
      "cell_type": "code",
      "source": [
        "np.exp(-loss)"
      ],
      "metadata": {
        "colab": {
          "base_uri": "https://localhost:8080/"
        },
        "id": "TjUmQxJ5l_WQ",
        "outputId": "047e982c-15ab-4a32-9d42-73c4efeee609"
      },
      "execution_count": 131,
      "outputs": [
        {
          "output_type": "execute_result",
          "data": {
            "text/plain": [
              "np.float64(0.0008404663386522753)"
            ]
          },
          "metadata": {},
          "execution_count": 131
        }
      ]
    },
    {
      "cell_type": "code",
      "source": [
        "error= context_one_hot_vector- ab"
      ],
      "metadata": {
        "id": "ZJHBc4FppJ_f"
      },
      "execution_count": 117,
      "outputs": []
    },
    {
      "cell_type": "code",
      "source": [
        "error"
      ],
      "metadata": {
        "colab": {
          "base_uri": "https://localhost:8080/"
        },
        "id": "73rYLajHprKT",
        "outputId": "8b571959-cf52-4eff-83d5-1dec7eeb71d4"
      },
      "execution_count": 118,
      "outputs": [
        {
          "output_type": "execute_result",
          "data": {
            "text/plain": [
              "array([-1.10111199e-03, -5.88847715e-04, -1.01258539e-04, -8.35765554e-06,\n",
              "       -1.32602215e-04, -7.19748341e-04, -2.11410706e-03, -9.73032981e-05,\n",
              "       -1.88811007e-05, -8.79221389e-06, -1.78291129e-03, -2.91012005e-03,\n",
              "       -1.98332393e-03, -9.25489596e-04, -1.99256268e-01, -2.03014826e-03,\n",
              "       -9.19494740e-04, -3.97553494e-05, -4.24748513e-03, -5.11248474e-05,\n",
              "       -6.62393354e-04, -8.53020644e-04, -2.51141607e-03, -1.40964426e-04,\n",
              "       -9.54526891e-04, -2.82605648e-02, -4.92325778e-03, -7.38496114e-04,\n",
              "       -3.32148128e-03, -7.86132231e-03, -1.70713513e-01, -4.99448573e-03,\n",
              "       -6.06381916e-06, -1.50638721e-03, -8.09126062e-04, -6.50813084e-05,\n",
              "       -7.81081555e-06, -1.21812346e-03, -1.17201779e-04, -1.96019253e-03,\n",
              "       -1.26253087e-03, -1.46392349e-01, -2.74910079e-04, -1.09416217e-04,\n",
              "       -2.53833729e-04, -4.44540709e-04, -5.15233720e-04, -4.15610130e-03,\n",
              "       -2.92211685e-04, -5.33258844e-03, -4.65599046e-03, -9.86079220e-04,\n",
              "       -2.52128302e-03, -6.66529309e-03, -2.03192853e-04, -5.42911299e-05,\n",
              "       -3.09974704e-03, -1.03563920e-03, -5.15383997e-03, -1.44852160e-04,\n",
              "       -2.66930498e-05, -2.12767010e-03, -4.97755748e-05, -6.68169321e-03,\n",
              "       -5.81127274e-06,  9.99159534e-01, -8.53293201e-02, -2.60907278e-04,\n",
              "       -5.70341130e-04, -4.78846303e-03, -1.68811456e-06, -4.08496534e-05,\n",
              "       -1.28166824e-03, -1.16478190e-03, -1.66956026e-04, -1.96616653e-05,\n",
              "       -1.29337892e-04, -9.24703380e-04, -4.39729775e-05, -9.28011945e-03,\n",
              "       -3.93375331e-04, -4.13917402e-03, -1.88573559e-05, -1.62023119e-03,\n",
              "       -1.16290796e-03, -3.98489643e-04, -1.04814069e-04, -4.19320917e-04,\n",
              "       -5.10914713e-05, -1.60590250e-01, -1.25727184e-03, -6.85999602e-02,\n",
              "       -1.03806708e-03, -2.71956041e-05, -4.59322025e-05, -1.17074185e-03,\n",
              "       -5.34589820e-05, -8.62475166e-03, -2.32560315e-03, -7.14051281e-06])"
            ]
          },
          "metadata": {},
          "execution_count": 118
        }
      ]
    },
    {
      "cell_type": "markdown",
      "source": [
        "✅ Why we use np.outer(h, error):\n",
        "h is the hidden vector of shape (D,)\n",
        "\n",
        "error = y_pred - y_true, shape (V,)\n",
        "\n",
        "We want dW2 to match the shape of W2: (D, V)\n",
        "\n",
        "So:\n",
        "\n",
        "python\n",
        "Copy\n",
        "Edit\n",
        "dW2 = np.outer(h, error)  # This gives us shape (D, V)\n",
        "Each column of W2 connects the hidden vector to one output word. So for every output word j:\n",
        "\n",
        "text\n",
        "Copy\n",
        "Edit\n",
        "dW2[:, j] = h * error[j]\n",
        "Which is exactly what np.outer computes for all j at once.\n",
        "\n",
        "🧪 Example:\n",
        "python\n",
        "Copy\n",
        "Edit\n",
        "import numpy as np\n",
        "\n",
        "h = np.array([1, 2])         # shape (2,)\n",
        "error = np.array([0.1, 0.2]) # shape (2,)\n",
        "\n",
        "np.outer(h, error)\n",
        "Output:\n",
        "\n",
        "lua\n",
        "Copy\n",
        "Edit\n",
        "array([[0.1, 0.2],\n",
        "       [0.2, 0.4]])  # shape (2, 2)\n",
        "❌ If you used np.dot(h, error) instead:\n",
        "You'd just get a scalar: the sum of elementwise products → 1×0.1 + 2×0.2 = 0.5\n",
        "\n",
        "That’s not useful for updating a full weight matrix!"
      ],
      "metadata": {
        "id": "RvjWzIWtvZbE"
      }
    },
    {
      "cell_type": "markdown",
      "source": [
        "# **Back propogation**"
      ],
      "metadata": {
        "id": "_uxTrdpcvb2w"
      }
    },
    {
      "cell_type": "code",
      "source": [
        "def gradient_descent(**args):\n",
        "  dl_dsoftmax_op= y_pred- context_one_hot_vector\n",
        "  dw2= np.outer(embeddng_vec,dl_dsoftmax_op)\n",
        "  dh = np.dot(W2,dl_dsoftmax_op)\n",
        "  dw1= np.outer(center_one_hot_vector,dh)\n",
        "  return dw1,dw2\n"
      ],
      "metadata": {
        "id": "gU9pv7PyCFU1"
      },
      "execution_count": 174,
      "outputs": []
    },
    {
      "cell_type": "code",
      "source": [
        "def update_weights(W1,W2):\n",
        "  learning_rate= 0.001\n",
        "  update_weight_w1= W1- learning_rate*dw1\n",
        "  update_weight_w2= W2- learning_rate*dw2\n",
        "  return update_weight_w1,update_weight_w2"
      ],
      "metadata": {
        "id": "bYpd-O64CUG_"
      },
      "execution_count": 177,
      "outputs": []
    },
    {
      "cell_type": "code",
      "source": [
        "# calculating gradient\n",
        "\n",
        "\n",
        "#dl/du\n",
        "# output of hidden layer before softmax is applied- this is softmax+cross entropy loss\n",
        "\n",
        "dl_dsoftmax_op= y_pred- context_one_hot_vector\n"
      ],
      "metadata": {
        "id": "2x-W3Nl3vZMc"
      },
      "execution_count": 133,
      "outputs": []
    },
    {
      "cell_type": "code",
      "source": [
        "dl_dsoftmax_op"
      ],
      "metadata": {
        "colab": {
          "base_uri": "https://localhost:8080/"
        },
        "id": "NpofJZZmpr1-",
        "outputId": "16487a20-f632-4165-b1f3-fe8210fa638d"
      },
      "execution_count": 134,
      "outputs": [
        {
          "output_type": "execute_result",
          "data": {
            "text/plain": [
              "array([ 1.10111199e-03,  5.88847715e-04,  1.01258539e-04,  8.35765554e-06,\n",
              "        1.32602215e-04,  7.19748341e-04,  2.11410706e-03,  9.73032981e-05,\n",
              "        1.88811007e-05,  8.79221389e-06,  1.78291129e-03,  2.91012005e-03,\n",
              "        1.98332393e-03,  9.25489596e-04,  1.99256268e-01,  2.03014826e-03,\n",
              "        9.19494740e-04,  3.97553494e-05,  4.24748513e-03,  5.11248474e-05,\n",
              "        6.62393354e-04,  8.53020644e-04,  2.51141607e-03,  1.40964426e-04,\n",
              "        9.54526891e-04,  2.82605648e-02,  4.92325778e-03,  7.38496114e-04,\n",
              "        3.32148128e-03,  7.86132231e-03,  1.70713513e-01,  4.99448573e-03,\n",
              "        6.06381916e-06,  1.50638721e-03,  8.09126062e-04,  6.50813084e-05,\n",
              "        7.81081555e-06,  1.21812346e-03,  1.17201779e-04,  1.96019253e-03,\n",
              "        1.26253087e-03,  1.46392349e-01,  2.74910079e-04,  1.09416217e-04,\n",
              "        2.53833729e-04,  4.44540709e-04,  5.15233720e-04,  4.15610130e-03,\n",
              "        2.92211685e-04,  5.33258844e-03,  4.65599046e-03,  9.86079220e-04,\n",
              "        2.52128302e-03,  6.66529309e-03,  2.03192853e-04,  5.42911299e-05,\n",
              "        3.09974704e-03,  1.03563920e-03,  5.15383997e-03,  1.44852160e-04,\n",
              "        2.66930498e-05,  2.12767010e-03,  4.97755748e-05,  6.68169321e-03,\n",
              "        5.81127274e-06, -9.99159534e-01,  8.53293201e-02,  2.60907278e-04,\n",
              "        5.70341130e-04,  4.78846303e-03,  1.68811456e-06,  4.08496534e-05,\n",
              "        1.28166824e-03,  1.16478190e-03,  1.66956026e-04,  1.96616653e-05,\n",
              "        1.29337892e-04,  9.24703380e-04,  4.39729775e-05,  9.28011945e-03,\n",
              "        3.93375331e-04,  4.13917402e-03,  1.88573559e-05,  1.62023119e-03,\n",
              "        1.16290796e-03,  3.98489643e-04,  1.04814069e-04,  4.19320917e-04,\n",
              "        5.10914713e-05,  1.60590250e-01,  1.25727184e-03,  6.85999602e-02,\n",
              "        1.03806708e-03,  2.71956041e-05,  4.59322025e-05,  1.17074185e-03,\n",
              "        5.34589820e-05,  8.62475166e-03,  2.32560315e-03,  7.14051281e-06])"
            ]
          },
          "metadata": {},
          "execution_count": 134
        }
      ]
    },
    {
      "cell_type": "code",
      "source": [
        "embeddng_vec"
      ],
      "metadata": {
        "colab": {
          "base_uri": "https://localhost:8080/"
        },
        "id": "X2O_3PuZ5q5_",
        "outputId": "d1a27422-a9d4-4146-b780-9ca12bfe4980"
      },
      "execution_count": 135,
      "outputs": [
        {
          "output_type": "execute_result",
          "data": {
            "text/plain": [
              "array([ 0.42951156, -0.00238388, -1.72216162,  1.91946329, -0.06394563])"
            ]
          },
          "metadata": {},
          "execution_count": 135
        }
      ]
    },
    {
      "cell_type": "code",
      "source": [
        "# dl.dw2 = dl.du* du/dw2\n",
        "#u = W2.T @ embedding_layer_out\n",
        "#du/dw2 = embedding_layer\n",
        "#u is output of output layer before softmax function\n",
        "#(100,5)\n",
        "dw2= np.outer(embeddng_vec,dl_dsoftmax_op)"
      ],
      "metadata": {
        "id": "9XrUQ5JCvzmk"
      },
      "execution_count": 161,
      "outputs": []
    },
    {
      "cell_type": "markdown",
      "source": [
        "Shouldn't this be dL/dh = dL/du * du/dW2 * dW2/dh?\n",
        "\n",
        "That would only make sense if W2 itself depended on h, which it normally doesn’t — unless you are using dynamic weights or doing meta-learning, which is rare in typical feedforward neural nets or Word2Vec.\n",
        "\n",
        "✅ Standard case:\n",
        "In a typical neural network or embedding layer, the flow is:\n",
        "\n",
        "h is the hidden vector (e.g. from the embedding layer).\n",
        "\n",
        "u = W2 @ h — matrix-vector multiplication.\n",
        "\n",
        "L is the loss computed from u.\n",
        "\n",
        "Then by the chain rule, the gradient is:\n",
        "\n",
        "𝑑\n",
        "𝐿\n",
        "/\n",
        "𝑑\n",
        "ℎ\n",
        "=\n",
        "𝑑\n",
        "𝐿\n",
        "/\n",
        "𝑑\n",
        "𝑢\n",
        "×\n",
        "𝑑\n",
        "𝑢\n",
        "/\n",
        "𝑑\n",
        "ℎ\n",
        "dL/dh=dL/du×du/dh"
      ],
      "metadata": {
        "id": "UBdh5WRm-p5f"
      }
    },
    {
      "cell_type": "code",
      "source": [
        "# dl.dh = dl/du*du/dh\n",
        "#np.outer(dl_dsoftmax_op,embeddng_vec) * dw2/dembedding_layer\n",
        "##u = W2.T @ embedding_layer_out\n",
        "#du/dwh = w2\n",
        "#(100, 5,100)\n",
        "\n",
        "dh = np.dot(W2,dl_dsoftmax_op)\n"
      ],
      "metadata": {
        "id": "bFsgRtiDwTji"
      },
      "execution_count": 152,
      "outputs": []
    },
    {
      "cell_type": "code",
      "source": [
        "dh.shape"
      ],
      "metadata": {
        "colab": {
          "base_uri": "https://localhost:8080/"
        },
        "id": "UWgmxPtqAd_F",
        "outputId": "6ed33f5d-4a47-446f-eb8c-a36c917e7a45"
      },
      "execution_count": 153,
      "outputs": [
        {
          "output_type": "execute_result",
          "data": {
            "text/plain": [
              "(5,)"
            ]
          },
          "metadata": {},
          "execution_count": 153
        }
      ]
    },
    {
      "cell_type": "code",
      "source": [
        "#✅ Step 4: Gradient w.r.t. W1 (input weights)\n",
        "\n",
        "\n",
        "#dL/dh × dh/dW1\n",
        "\n",
        "\n",
        "#h = input_vector*w1\n",
        "#dh/dw1= input vectore\n",
        "\n",
        "\n",
        "dw1= np.outer(center_one_hot_vector,dh)"
      ],
      "metadata": {
        "id": "WRzEQ4fw_DDo"
      },
      "execution_count": 154,
      "outputs": []
    },
    {
      "cell_type": "code",
      "source": [
        "dw1.shape"
      ],
      "metadata": {
        "colab": {
          "base_uri": "https://localhost:8080/"
        },
        "id": "JOIAGhFUAyrx",
        "outputId": "fd00a403-2c4d-46c8-f581-bb611a1ad49d"
      },
      "execution_count": 155,
      "outputs": [
        {
          "output_type": "execute_result",
          "data": {
            "text/plain": [
              "(100, 5)"
            ]
          },
          "metadata": {},
          "execution_count": 155
        }
      ]
    },
    {
      "cell_type": "code",
      "source": [
        "learning_rate= 0.001\n",
        "\n",
        "update_weight_w1= weight- learning_rate*dw1"
      ],
      "metadata": {
        "id": "90P9bkGAAzz3"
      },
      "execution_count": 157,
      "outputs": []
    },
    {
      "cell_type": "code",
      "source": [
        "update_weight_w2= W2- learning_rate*dw2"
      ],
      "metadata": {
        "id": "Rd1_ErehA9Xe"
      },
      "execution_count": 162,
      "outputs": []
    },
    {
      "cell_type": "code",
      "source": [
        "update_weight_w1"
      ],
      "metadata": {
        "colab": {
          "base_uri": "https://localhost:8080/"
        },
        "id": "iH-kgTzABFp_",
        "outputId": "e5d319cc-44f8-4546-b41f-0677312fa8e8"
      },
      "execution_count": 163,
      "outputs": [
        {
          "output_type": "execute_result",
          "data": {
            "text/plain": [
              "array([[-8.35070832e-01,  3.27408672e-01, -4.96757397e-02,\n",
              "        -7.04312040e-01, -2.01481839e+00],\n",
              "       [-9.56297735e-01,  5.40130233e-01, -4.33396722e-01,\n",
              "         8.55267028e-01,  4.20612506e-01],\n",
              "       [ 3.10265352e-01, -4.34817314e-01,  2.27013545e+00,\n",
              "         1.07568368e-01,  3.75053958e-01],\n",
              "       [-1.68761375e+00,  1.85392723e+00,  9.62167264e-01,\n",
              "         2.15255308e+00,  5.46668249e-01],\n",
              "       [ 1.64656882e+00,  9.66773034e-01,  2.75458532e-02,\n",
              "         9.77509012e-01, -2.78272266e+00],\n",
              "       [ 7.15945898e-01, -4.29086301e-01,  4.48557569e-01,\n",
              "         3.35146519e-01,  6.67111430e-01],\n",
              "       [ 2.35131066e+00, -5.10987053e-01, -6.91677825e-01,\n",
              "        -1.00371870e+00,  5.23699359e-01],\n",
              "       [ 9.96883372e-02,  1.54525894e+00,  1.42607329e-01,\n",
              "         5.85605671e-01, -1.36900742e+00],\n",
              "       [-6.61474207e-01,  3.15358261e-01,  7.88892208e-01,\n",
              "         3.28044937e-01, -5.61624574e-01],\n",
              "       [-5.54038757e-01, -6.55737777e-01, -7.30369372e-01,\n",
              "        -1.03773210e+00,  6.87557846e-01],\n",
              "       [-1.12950274e+00, -1.36706986e+00, -1.10388215e+00,\n",
              "        -6.17201738e-01, -6.99630603e-01],\n",
              "       [ 1.70925726e+00,  4.34016510e-01,  1.30852441e+00,\n",
              "         9.36417952e-01, -1.15274038e+00],\n",
              "       [ 1.77428143e+00,  2.15248022e+00, -3.56354194e-01,\n",
              "         2.71076746e-01,  1.02217741e+00],\n",
              "       [-6.92144994e-01, -7.21721016e-01, -7.93630576e-01,\n",
              "        -6.03596497e-01, -1.02306339e+00],\n",
              "       [-6.07192489e-01, -1.37450185e+00,  2.55884438e-01,\n",
              "        -2.85287691e+00,  1.00984597e+00],\n",
              "       [-2.66948178e-01, -5.62215366e-01,  6.90092002e-01,\n",
              "        -2.80347382e-01, -8.11356806e-02],\n",
              "       [-5.27218456e-01,  1.26108045e+00, -3.55954380e-01,\n",
              "         5.43310904e-01, -8.05959320e-02],\n",
              "       [-1.61942519e+00,  1.04162197e+00, -1.89661695e-01,\n",
              "        -5.99083738e-01,  3.75085547e-01],\n",
              "       [ 4.23963307e-01,  9.39939161e-01, -1.61672165e+00,\n",
              "        -5.07632132e-01, -1.28793362e-01],\n",
              "       [ 1.53996077e+00,  1.59372177e-01, -1.16326828e+00,\n",
              "        -3.92849721e-01, -8.95271760e-01],\n",
              "       [ 3.48445672e-01,  1.25583680e+00, -6.73277099e-01,\n",
              "        -9.68784826e-01,  4.75358671e-05],\n",
              "       [-1.51131777e+00, -3.92735843e-01,  6.08499909e-01,\n",
              "         4.79197623e-01, -3.86222149e-02],\n",
              "       [ 1.42728229e+00,  7.66959414e-01, -6.23379097e-01,\n",
              "        -6.23728010e-01, -6.20941322e-01],\n",
              "       [-9.14607337e-01,  6.82474962e-01,  4.23795358e-01,\n",
              "        -4.26533781e-02,  1.29078503e-01],\n",
              "       [-1.16344033e+00,  1.41262893e+00, -7.12193031e-01,\n",
              "         5.40193804e-01,  6.38489841e-01],\n",
              "       [-2.46467615e-01, -1.13073809e-01,  3.57464418e-01,\n",
              "         3.52625818e-01,  6.70166715e-01],\n",
              "       [-1.64466014e-01, -7.21337499e-01,  5.28067512e-01,\n",
              "         7.01551206e-01, -1.22649621e+00],\n",
              "       [ 4.33364558e-01, -4.53210239e-01,  1.76869740e+00,\n",
              "        -1.73938698e+00, -5.70585686e-01],\n",
              "       [-5.11979846e-01, -1.60633385e+00, -2.16835084e+00,\n",
              "         1.02364680e+00,  3.75873913e-01],\n",
              "       [-6.58731784e-01,  2.11701846e-02, -1.03498765e+00,\n",
              "         1.23659179e+00, -3.83408457e-02],\n",
              "       [-1.32572035e+00,  9.39771657e-02, -3.20198915e-01,\n",
              "         7.44573633e-01,  6.41973483e-01],\n",
              "       [ 4.30897701e-01, -2.47656117e-03, -1.72230445e+00,\n",
              "         1.91759893e+00, -6.35745952e-02],\n",
              "       [ 3.26137957e-01, -5.25090270e-01,  3.17927676e-01,\n",
              "        -1.13901257e+00, -2.93806790e-01],\n",
              "       [-8.17020389e-01, -1.00346598e+00, -1.25225857e+00,\n",
              "         1.88744276e+00,  1.69428071e-01],\n",
              "       [ 8.10232206e-01, -1.19196186e+00,  6.38697608e-01,\n",
              "        -8.22034340e-02,  1.02159094e+00],\n",
              "       [-2.39436761e+00, -6.21051330e-01, -2.37084860e-01,\n",
              "         7.73873889e-01,  1.33129384e-01],\n",
              "       [-1.57752029e+00,  4.16344645e-01,  1.17251046e+00,\n",
              "        -2.02575104e+00,  2.78497086e+00],\n",
              "       [ 5.01663108e-01,  1.85054042e+00,  2.87263145e-01,\n",
              "        -1.74593724e-01,  6.64440970e-01],\n",
              "       [-2.03364318e-02,  3.41801459e-01, -1.00490952e+00,\n",
              "        -6.03172411e-01, -9.79101815e-03],\n",
              "       [-4.34331719e-01,  1.78098095e-01, -1.30420471e+00,\n",
              "        -1.62174142e-01, -3.39915161e-01],\n",
              "       [ 1.04844073e+00, -3.24852779e-01, -1.30604670e+00,\n",
              "         1.41156343e+00,  1.69622983e+00],\n",
              "       [ 1.07533730e+00,  8.47717333e-01,  9.91002322e-01,\n",
              "         6.16389079e-01,  1.28264260e+00],\n",
              "       [-1.88128921e+00, -1.05987282e+00, -1.35116819e-01,\n",
              "        -1.27008162e+00, -1.62220669e-01],\n",
              "       [ 1.16146100e+00,  2.22821571e-02, -5.80123607e-02,\n",
              "         1.80541358e+00,  4.42281790e-01],\n",
              "       [-2.16089844e-01,  1.16695365e+00,  3.35090133e-01,\n",
              "         2.36557921e-01, -1.05481527e+00],\n",
              "       [ 6.35781692e-01,  4.47078865e-01, -1.05365799e+00,\n",
              "         3.61625427e-01,  3.98273829e-01],\n",
              "       [-4.75129748e-01,  8.92927972e-01,  5.95029540e-01,\n",
              "        -2.13382389e-01,  1.67771773e-01],\n",
              "       [ 4.25419187e-01, -7.11596813e-02,  6.05368526e-01,\n",
              "         1.09611279e-01,  1.39823550e-01],\n",
              "       [ 1.36930878e+00, -1.13169857e+00, -2.50904451e-01,\n",
              "         9.74150430e-04,  5.95422711e-01],\n",
              "       [-1.74347664e+00, -1.72282995e-03,  8.04425814e-01,\n",
              "        -4.91746686e-01, -6.23305943e-01],\n",
              "       [-1.85374916e-01,  6.07399074e-01,  7.75203723e-01,\n",
              "         5.42958284e-01, -1.65028878e-01],\n",
              "       [ 6.37828729e-02,  3.94225117e-02,  1.26286393e+00,\n",
              "         9.61232258e-01,  8.66086676e-01],\n",
              "       [ 2.03918432e-01,  3.90498922e-01, -8.64578711e-01,\n",
              "         1.48418724e-02,  1.70845516e+00],\n",
              "       [-5.32904561e-02,  6.91343580e-02, -9.61872993e-01,\n",
              "         1.03219324e+00, -1.04824436e+00],\n",
              "       [ 1.83694934e+00,  2.10165777e-01, -8.85394782e-01,\n",
              "        -1.01630408e+00,  1.32962322e+00],\n",
              "       [-5.85720401e-01,  4.27632957e-01, -9.77137218e-01,\n",
              "        -7.04188803e-02, -1.25289922e+00],\n",
              "       [ 1.29837579e+00,  2.16520024e+00,  2.60563814e+00,\n",
              "        -3.83314391e-01, -5.23610664e-01],\n",
              "       [ 8.41157796e-01,  1.36019458e+00,  4.70218155e-01,\n",
              "         1.26356420e+00, -7.10069507e-01],\n",
              "       [-3.53827887e-02, -1.14912008e+00,  5.01419470e-01,\n",
              "        -1.25211324e+00, -2.47554629e-01],\n",
              "       [-4.12990905e-02,  3.17603395e-01,  6.38418662e-01,\n",
              "        -1.34176956e-01,  2.09525784e-01],\n",
              "       [-9.15600771e-01, -8.53441505e-01,  1.56032536e+00,\n",
              "        -3.33935012e-01,  7.28231642e-02],\n",
              "       [ 4.50756184e-01, -1.59091925e-01,  1.76521761e+00,\n",
              "         4.53842012e-01, -3.42873674e-01],\n",
              "       [-4.36041373e-01,  7.01076408e-01,  2.89133322e-01,\n",
              "        -3.44703098e-01, -3.33093155e-01],\n",
              "       [ 6.41528564e-01,  1.64072106e+00,  9.45259020e-01,\n",
              "         1.83473801e+00, -6.12798072e-01],\n",
              "       [-2.49697081e-01, -5.74109448e-01, -8.14513491e-02,\n",
              "         7.07072768e-01,  1.31671352e-01],\n",
              "       [ 7.51305085e-01,  4.72014486e-02, -2.12701100e+00,\n",
              "         5.24819871e-01, -3.59233460e-02],\n",
              "       [ 7.23891217e-01, -7.37805138e-02,  3.25309009e-01,\n",
              "        -7.91360610e-01, -6.41138074e-01],\n",
              "       [-4.78536721e-01,  9.17016950e-01,  9.00763792e-01,\n",
              "         7.27646732e-01, -8.99368425e-01],\n",
              "       [ 7.29340038e-01,  1.56545307e-01,  7.72051326e-01,\n",
              "        -1.12797802e+00, -1.05093951e+00],\n",
              "       [-1.65245437e-01, -3.49998408e-01, -2.96527440e-01,\n",
              "         4.46773356e-01,  1.08565130e+00],\n",
              "       [-1.14754267e+00, -7.63679341e-01, -4.30644234e-01,\n",
              "        -2.77731811e-01, -3.03333760e-01],\n",
              "       [ 2.22273600e-01, -1.18845635e+00,  1.16929998e-01,\n",
              "        -4.11627472e-01,  4.60310938e-01],\n",
              "       [-1.00700640e+00,  8.70245070e-01,  8.45036208e-01,\n",
              "        -1.42591220e+00, -7.27539919e-01],\n",
              "       [-6.57051643e-01,  8.76721184e-01,  1.78490657e-01,\n",
              "         9.11476680e-01,  1.94662814e+00],\n",
              "       [ 1.13652950e+00, -2.58999701e-01,  2.44531055e+00,\n",
              "         4.22944335e-01, -9.80853154e-01],\n",
              "       [-1.29244544e-01,  8.28402438e-01,  2.61845608e+00,\n",
              "        -1.45511005e+00, -4.89131118e-01],\n",
              "       [-7.22821320e-01, -1.15431679e+00, -6.63161088e-01,\n",
              "         1.70034273e+00,  9.07671858e-01],\n",
              "       [-2.39030291e-01,  1.47430558e+00,  9.36257451e-01,\n",
              "         1.83091939e-01, -1.36899093e+00],\n",
              "       [-1.28779665e-01,  1.25980267e+00, -1.41214936e+00,\n",
              "        -1.79505887e+00,  4.83866778e-01],\n",
              "       [-1.41058772e+00,  2.64692979e-01,  1.18625367e-01,\n",
              "        -1.06393571e-01, -1.28389287e-02],\n",
              "       [ 6.64872989e-01, -1.25849794e-01, -3.73106706e-01,\n",
              "         1.53635640e+00, -3.04006201e-01],\n",
              "       [ 3.00133439e-01,  6.43769768e-01,  9.61366701e-01,\n",
              "         3.09628658e+00, -1.56304607e+00],\n",
              "       [-1.20732739e+00, -6.01054387e-01, -5.31051802e-01,\n",
              "         7.19204105e-01, -3.31993622e-02],\n",
              "       [ 1.16407597e+00, -7.70298104e-02,  9.02811397e-01,\n",
              "         1.16167503e-01,  6.34741952e-02],\n",
              "       [-6.75382069e-01,  5.75472554e-01,  3.17188902e-01,\n",
              "         8.30782884e-01, -5.88129168e-01],\n",
              "       [ 1.60815447e-01, -4.74251619e-01, -1.99268786e-01,\n",
              "         3.56294418e-01, -8.46653590e-01],\n",
              "       [ 6.29539676e-01, -2.82943448e-01, -9.06666164e-01,\n",
              "         1.33406756e-01,  5.98383239e-01],\n",
              "       [ 4.10345984e-01, -8.34789336e-01, -5.46239087e-01,\n",
              "         7.94133784e-01, -3.87575746e-02],\n",
              "       [ 1.71044261e+00,  8.29880145e-02,  5.16860360e-01,\n",
              "        -1.24804943e+00, -4.66789901e-01],\n",
              "       [-7.90447781e-01, -5.03201554e-01, -4.71138868e-01,\n",
              "         6.58105747e-01,  1.25992146e+00],\n",
              "       [-1.37928306e+00,  2.52505171e-01,  3.89786488e-01,\n",
              "        -1.59853063e+00, -1.84561986e+00],\n",
              "       [ 8.06313190e-01,  1.24326331e+00,  8.90275352e-01,\n",
              "         6.29579986e-01, -1.32565792e-01],\n",
              "       [-9.92893953e-01,  6.32146452e-01, -5.98834429e-01,\n",
              "        -1.28612988e+00, -1.15915502e+00],\n",
              "       [ 9.54597016e-01,  9.95865796e-01,  6.52235899e-01,\n",
              "         1.59256914e-01,  1.12501101e-01],\n",
              "       [-1.44321094e+00,  1.77492151e+00,  4.69954811e-01,\n",
              "         1.40864469e+00,  2.53613340e+00],\n",
              "       [ 8.38460020e-01, -7.61479995e-01, -2.67502417e-01,\n",
              "        -2.03118521e-01, -4.56581504e-01],\n",
              "       [ 1.03755001e+00, -1.06393333e+00, -8.02526578e-01,\n",
              "        -6.13417601e-01,  3.79726803e-01],\n",
              "       [-1.70894969e-01,  2.95138749e-01, -8.75753417e-01,\n",
              "        -7.48272070e-01, -6.01528113e-01],\n",
              "       [ 1.61334777e-01, -1.30031397e+00, -1.33198016e+00,\n",
              "         6.41384314e-01, -1.82241486e-01],\n",
              "       [-3.28032204e-01,  5.96666838e-03,  9.92713219e-01,\n",
              "         5.53265918e-01, -3.36940132e-01]])"
            ]
          },
          "metadata": {},
          "execution_count": 163
        }
      ]
    },
    {
      "cell_type": "code",
      "source": [
        "update_weight_w2"
      ],
      "metadata": {
        "colab": {
          "base_uri": "https://localhost:8080/"
        },
        "id": "zf1BfCCVBSFr",
        "outputId": "2479db7a-fb78-4d4a-bd04-97a77ca5fcc9"
      },
      "execution_count": 164,
      "outputs": [
        {
          "output_type": "execute_result",
          "data": {
            "text/plain": [
              "array([[ 1.82949899e+00, -4.68796585e-01, -5.92252220e-01,\n",
              "         6.15570261e-01, -8.05804634e-01,  5.49613727e-01,\n",
              "         2.63804719e-01,  1.19462483e+00,  7.81931466e-01,\n",
              "        -8.71202415e-01,  1.24778403e+00, -1.24871433e+00,\n",
              "        -1.87109215e-01,  6.29389905e-01, -6.60655964e-01,\n",
              "         9.94689237e-01, -1.21871050e+00, -1.15824338e+00,\n",
              "        -1.28490944e+00,  1.55114047e+00,  7.73117974e-01,\n",
              "         2.15579696e-01, -5.74042458e-01, -1.24153712e+00,\n",
              "         2.20117258e-01, -2.54054505e-01, -2.40886603e-01,\n",
              "         3.88187207e-01,  3.26083907e-01,  1.28966797e+00,\n",
              "        -8.08121845e-01,  5.70025414e-01, -1.34350124e+00,\n",
              "         8.80406333e-01, -8.63995246e-01, -7.64508640e-01,\n",
              "         1.52306281e+00, -2.80829487e-01,  3.52749489e-02,\n",
              "        -2.01484514e-01,  5.25920546e-01, -5.39235539e-02,\n",
              "         6.39575205e-01, -1.59439450e+00, -4.38249478e-01,\n",
              "        -2.56546378e-01, -5.64514606e-01,  3.27050420e-01,\n",
              "         3.22314848e-01,  1.63510718e+00, -9.84930923e-01,\n",
              "        -1.51733860e-01, -1.76785425e+00,  5.57237915e-03,\n",
              "         3.22510922e-01,  8.77747090e-01, -1.79732119e-01,\n",
              "        -1.23010934e-01, -6.15852657e-01, -2.97137880e-01,\n",
              "        -1.04618842e-01, -3.07553373e-01,  5.34945089e-03,\n",
              "        -4.09553298e-01, -1.76800640e-03,  1.15542997e+00,\n",
              "         7.57954333e-01, -9.76174522e-01, -6.99303130e-02,\n",
              "        -3.29772215e-01, -1.00718486e+00, -1.66829201e+00,\n",
              "        -2.62115731e-01,  4.70125087e-01, -6.24657766e-01,\n",
              "         4.63292131e-01, -1.26352105e+00, -1.66011574e+00,\n",
              "         9.69281150e-01, -8.19151961e-01, -9.97667319e-01,\n",
              "         8.34927638e-01, -8.85386914e-01, -5.36560710e-01,\n",
              "         9.65190475e-01, -3.97241653e-01,  1.75797774e+00,\n",
              "         9.59487635e-01, -1.58773785e+00, -3.85414139e-01,\n",
              "        -2.75908415e-01,  9.86784019e-01, -6.23246268e-01,\n",
              "         1.50310137e+00, -1.31472757e+00,  2.83826368e-01,\n",
              "         1.06771475e+00, -1.69544615e+00,  6.37971835e-01,\n",
              "         1.02261457e+00],\n",
              "       [ 9.54344777e-02,  1.76584958e+00, -1.16780409e-01,\n",
              "         3.76446158e-01, -1.09738918e-01,  9.40970287e-01,\n",
              "         4.45417881e-01,  8.01386678e-01, -2.79797902e+00,\n",
              "        -1.53910531e+00, -1.14375377e+00, -1.78483777e+00,\n",
              "        -1.78293120e+00,  3.02508867e-01,  7.95753926e-03,\n",
              "        -2.94831954e-01,  2.73519344e-01,  7.49522599e-01,\n",
              "         3.42432987e-01, -8.67190248e-01, -4.22166057e-01,\n",
              "         8.83882613e-01, -7.85519748e-01, -7.67737323e-01,\n",
              "        -5.21252199e-01, -1.15321523e+00, -3.34333963e-01,\n",
              "         3.99425535e-02,  6.07246651e-02,  4.19801642e-01,\n",
              "        -3.08467241e-01, -3.52220850e-01,  1.40257342e+00,\n",
              "         1.57897854e+00,  7.10848725e-01, -4.43388409e-01,\n",
              "         3.52507805e-01, -8.02762388e-01,  9.78084157e-02,\n",
              "        -2.72528612e-01,  1.43564646e+00,  2.62819323e-01,\n",
              "         7.38738900e-01, -1.23836028e+00, -1.53415979e+00,\n",
              "         8.47896998e-01,  4.30035585e-01,  8.11824356e-01,\n",
              "        -1.04206314e+00,  2.70439165e-01,  8.11443757e-01,\n",
              "        -1.08810975e+00,  2.02695487e-01, -1.95999065e+00,\n",
              "         7.94744697e-02, -5.00892322e-01, -9.85613020e-01,\n",
              "         6.56777331e-02, -1.77007335e+00,  1.13197057e+00,\n",
              "         2.07269934e-01,  4.51335980e-01, -4.70343405e-01,\n",
              "        -1.96956118e-02,  8.99077157e-01, -1.36498585e-02,\n",
              "         1.60231118e+00,  1.24292389e-01, -6.09459724e-02,\n",
              "         1.03686074e+00,  5.73167275e-01, -4.70164043e-01,\n",
              "        -9.74513650e-01,  1.66202007e+00, -2.94120362e+00,\n",
              "         1.94279079e-01,  7.51218452e-01, -2.53242964e-01,\n",
              "         2.19995255e-01,  1.13284060e-01,  1.55592583e+00,\n",
              "         6.13013561e-01, -1.45920122e-01,  2.29440183e+00,\n",
              "         9.47917002e-01,  1.74278331e+00,  2.17467365e+00,\n",
              "         1.32013806e-01,  1.40339714e-01, -2.51630935e-01,\n",
              "         1.02327745e+00,  4.70780662e-01,  1.89567817e+00,\n",
              "         3.46785226e-01,  4.27685916e-01, -8.00624410e-01,\n",
              "        -8.35091154e-01, -9.81079402e-02,  3.18037376e-01,\n",
              "        -1.61330748e+00],\n",
              "       [ 1.41873973e+00, -5.54093431e-01, -1.66976256e+00,\n",
              "         5.64102823e-02, -9.62606107e-01, -1.39598914e+00,\n",
              "        -2.78756001e-02, -7.60457233e-01, -1.61882676e+00,\n",
              "         1.08319680e+00, -1.69655121e+00,  7.03565637e-02,\n",
              "         1.93647890e-01,  5.52032650e-01,  1.40243250e+00,\n",
              "        -2.56904911e-01, -1.74059943e-01, -1.35058795e+00,\n",
              "         1.00270227e+00,  1.39844039e+00, -4.39024108e-02,\n",
              "         9.79609262e-01,  1.23785392e+00, -1.74574097e+00,\n",
              "         8.53655561e-01, -7.32799414e-01, -1.00546009e+00,\n",
              "        -8.22508694e-01,  1.32266364e+00,  2.11065193e+00,\n",
              "        -1.19375497e+00,  1.24664002e+00,  8.09194737e-01,\n",
              "        -8.28158273e-02, -1.21134889e+00, -2.77015384e+00,\n",
              "         9.67537267e-01,  1.86339427e+00,  2.96998718e-01,\n",
              "        -1.08454230e+00,  2.43659201e+00,  2.47904228e-01,\n",
              "        -9.27906471e-01, -2.72648030e-01, -2.42121472e+00,\n",
              "         2.85017686e+00, -5.13430356e-01,  2.63552379e-01,\n",
              "        -1.05989311e+00, -5.80293441e-01, -2.21402924e-01,\n",
              "         7.29271218e-01, -8.76041139e-01, -5.13837259e-01,\n",
              "         7.90881357e-01, -3.54773150e-01, -1.09119294e+00,\n",
              "        -5.46103669e-01,  1.36745091e-01, -1.25180773e+00,\n",
              "        -2.49041091e-01,  2.94698525e-01,  3.11045544e-01,\n",
              "         1.25448355e-01,  1.96209096e+00, -1.06090639e-01,\n",
              "        -5.89811408e-01, -1.26551747e+00, -1.48034035e-01,\n",
              "         1.38438243e+00, -6.85990938e-01,  4.29710428e-01,\n",
              "        -4.67113310e-01, -5.17098416e-02,  1.27553857e+00,\n",
              "        -4.38633876e-01, -1.79331308e+00, -6.68784207e-01,\n",
              "         1.25979407e+00,  4.09102279e-01, -4.54400790e-01,\n",
              "         3.51418985e-01, -1.46975711e-01,  7.14672600e-01,\n",
              "         9.93390983e-01, -4.20021887e-01,  1.65189176e+00,\n",
              "         6.76482601e-02,  1.31369759e-01, -1.87142054e-01,\n",
              "         3.93858159e-01, -1.66546138e-01, -1.16095804e+00,\n",
              "        -4.52771972e-01,  1.07369836e+00, -1.80812369e+00,\n",
              "        -1.42764284e+00,  1.58582321e+00, -1.49707194e+00,\n",
              "        -1.32290603e+00],\n",
              "       [-4.42143995e-01,  8.36068275e-02, -9.20806699e-01,\n",
              "         6.92129812e-01,  1.69093263e+00,  2.61617406e-01,\n",
              "        -5.61657495e-01, -9.27237757e-01, -3.52120733e-01,\n",
              "         3.32847462e-01,  7.10304155e-01,  6.26212723e-01,\n",
              "         3.81882253e-01, -7.78537804e-01,  1.46845005e+00,\n",
              "         2.51400182e-01, -5.79489779e-01,  1.25207661e+00,\n",
              "        -8.30612681e-02,  8.65976581e-01, -6.30751967e-01,\n",
              "        -5.88205817e-01,  1.68368908e+00,  7.23071172e-01,\n",
              "        -1.56412823e+00, -3.98609113e-01, -1.41674907e+00,\n",
              "        -1.00626472e+00,  9.38692670e-01, -1.60474407e+00,\n",
              "        -6.78986651e-01, -4.69211562e-01, -1.87511254e+00,\n",
              "         2.21283955e+00, -1.12412349e+00,  1.11182330e+00,\n",
              "        -4.88570711e-01,  1.65826615e+00,  1.18444382e-01,\n",
              "        -3.33784159e-01, -1.90229676e+00,  7.56021916e-01,\n",
              "         2.57440880e-01,  3.94351248e-01, -2.57762202e+00,\n",
              "         3.26848150e+00,  1.67281799e+00,  1.49756537e+00,\n",
              "        -7.08677169e-02, -7.94178090e-01, -1.96186342e-02,\n",
              "         8.98094820e-01, -1.69423701e+00, -1.25268801e+00,\n",
              "         4.84447834e-01,  5.10973922e-01, -3.23183492e-01,\n",
              "         1.52870627e-01,  2.89080475e-01,  1.38367387e-02,\n",
              "        -3.35775184e-01,  3.36377780e-01,  3.82806847e-01,\n",
              "         1.41393062e-01,  8.38155061e-01, -1.28179957e+00,\n",
              "         6.71220138e-01,  1.82575281e-01, -4.27614545e-01,\n",
              "        -4.70474345e-01, -6.03992561e-02, -6.33683382e-02,\n",
              "         3.33657685e-01, -2.26798381e+00, -5.46265273e-01,\n",
              "        -4.35832414e-01, -1.35147694e+00, -4.56759560e-02,\n",
              "         6.96031592e-02, -1.04374898e+00,  5.49578479e-01,\n",
              "        -1.72408118e+00,  1.29792934e+00, -4.48355940e-02,\n",
              "         4.75376780e-01, -4.02700591e-01, -3.55498814e-02,\n",
              "         8.01957919e-01, -2.67936371e+00,  1.57814531e+00,\n",
              "         1.52004175e-01,  6.87125762e-01, -2.31618954e+00,\n",
              "        -5.71516704e-01, -1.17040805e+00, -9.08858741e-01,\n",
              "         9.88578434e-01, -6.39197022e-01, -9.65940415e-01,\n",
              "        -4.66145288e-01],\n",
              "       [-1.26626089e-01,  5.81383105e-01, -7.81775209e-01,\n",
              "         1.22981158e-01, -1.29202503e+00,  9.74227969e-01,\n",
              "         1.33360534e+00,  6.30855411e-01,  4.76356164e-01,\n",
              "         1.55476776e+00, -2.42593307e-01, -2.35528215e-01,\n",
              "        -2.04955168e-01,  1.17257332e-01,  5.95687880e-01,\n",
              "         1.08907355e+00, -5.75477526e-01, -7.23235563e-01,\n",
              "        -1.11268678e+00,  3.37559899e-01, -3.22117438e-01,\n",
              "         2.76321174e-01,  2.11536180e+00, -5.80622831e-01,\n",
              "        -6.91417678e-01, -7.49364871e-02,  3.23743363e-01,\n",
              "        -1.56563023e+00, -3.25203332e-01,  5.79303198e-01,\n",
              "         7.71918872e-01, -1.67345670e+00,  1.36673700e+00,\n",
              "         2.72977660e-01, -7.05736630e-01,  3.73661314e-01,\n",
              "        -7.53891629e-01,  5.06146510e-02,  5.94393422e-01,\n",
              "        -1.44982549e+00, -2.02375780e+00,  7.56514344e-01,\n",
              "         1.27579495e+00,  1.52352441e+00, -1.80435826e-01,\n",
              "        -5.19427356e-01, -2.04837786e+00,  3.08568234e-01,\n",
              "         2.83821247e-01,  1.71488361e-01, -8.74246410e-02,\n",
              "        -1.39476325e+00, -1.08211782e+00, -1.72993472e-01,\n",
              "         1.03732636e+00, -1.07502585e+00,  1.29093464e+00,\n",
              "        -1.50587960e+00, -9.59785568e-01,  3.61504984e-01,\n",
              "        -4.32756236e-01,  1.50968993e+00,  1.98893311e+00,\n",
              "         8.42231072e-01, -3.52498568e-01,  7.61665491e-01,\n",
              "         9.18900357e-01, -4.86185892e-02,  2.24726438e-01,\n",
              "        -5.26049583e-01,  1.46694836e-04,  5.32523234e-02,\n",
              "        -3.02781628e-01,  6.09122546e-01, -1.29527605e+00,\n",
              "         4.23906057e-01,  1.07061215e-01, -6.52000108e-02,\n",
              "         1.86741418e-01, -2.97818152e-01, -8.75024346e-03,\n",
              "         9.42451200e-02,  1.65952032e-01,  1.84933266e-01,\n",
              "        -9.17190279e-01, -1.31789669e+00, -1.20080181e-01,\n",
              "        -3.64362087e-01,  2.55155453e+00, -4.08936501e-01,\n",
              "        -5.12803794e-01,  4.83370548e-01, -1.92626481e-01,\n",
              "        -1.37322105e+00,  1.45408339e+00, -1.54208514e+00,\n",
              "        -1.68575198e+00, -2.37333493e-02, -9.67328836e-01,\n",
              "        -6.10089256e-01]])"
            ]
          },
          "metadata": {},
          "execution_count": 164
        }
      ]
    },
    {
      "cell_type": "code",
      "source": [
        "new_putput= update_weight(update_weight_w1,update_weight_w2)"
      ],
      "metadata": {
        "colab": {
          "base_uri": "https://localhost:8080/"
        },
        "id": "bfMqSUWGBTYF",
        "outputId": "65010735-c4ad-4325-e37c-c8e19f84ea34"
      },
      "execution_count": 168,
      "outputs": [
        {
          "output_type": "stream",
          "name": "stdout",
          "text": [
            "[1.17836438e-04 3.41460650e-03 3.53124252e-03 6.31752085e-03\n",
            " 1.47286825e-01 3.10411724e-02 5.24935907e-04 1.43490249e-03\n",
            " 1.61710401e-02 2.61584010e-04 1.80681702e-01 2.50360896e-03\n",
            " 1.99841634e-03 1.61389506e-04 1.54446126e-03 5.16246084e-03\n",
            " 3.89100412e-04 1.02401493e-01 1.33553566e-04 1.29418874e-03\n",
            " 6.55406843e-04 9.20674951e-05 2.92573496e-03 7.03761754e-02\n",
            " 1.88211929e-05 2.12259196e-03 4.71497562e-04 1.11679247e-03\n",
            " 1.04060033e-03 2.91514330e-06 2.04258303e-03 9.65966841e-05\n",
            " 4.98206758e-06 1.64158286e-01 9.59123518e-04 1.00000000e+00\n",
            " 2.13700732e-04 1.22761931e-03 1.05078138e-03 4.90685783e-03\n",
            " 7.95996858e-07 3.69713006e-03 1.40302782e-02 2.22941020e-03\n",
            " 5.54555526e-04 5.13407506e-03 7.63056682e-02 1.80630437e-02\n",
            " 8.75602924e-03 1.69261877e-03 1.32260676e-03 2.33707751e-03\n",
            " 1.25334323e-04 3.19129686e-04 9.96427462e-04 1.09729435e-02\n",
            " 4.30299967e-03 5.11934934e-03 1.60900186e-03 1.08640970e-02\n",
            " 1.13169842e-03 1.30292987e-03 1.54054657e-03 1.19944835e-03\n",
            " 2.47611788e-04 2.30151926e-04 1.86144430e-02 1.18061714e-02\n",
            " 7.76821899e-04 4.77883422e-05 2.68317116e-03 2.93483627e-04\n",
            " 5.52790369e-03 2.36703960e-05 4.65532611e-05 1.56622480e-03\n",
            " 1.35078157e-03 2.03491114e-03 2.79633432e-04 6.83133503e-05\n",
            " 5.81276357e-03 4.06673401e-05 1.49857959e-02 2.98571920e-04\n",
            " 1.02971204e-03 1.24140472e-03 1.65842634e-04 9.15553954e-03\n",
            " 2.86794425e-06 3.53702317e-02 8.87875523e-04 1.05332809e-02\n",
            " 9.57279204e-05 2.17006157e-03 1.23158820e-05 7.03143920e-03\n",
            " 1.96488846e-01 1.31800911e-05 4.13090279e-03 9.25116283e-03]\n",
            "2.277778194876361\n"
          ]
        }
      ]
    },
    {
      "cell_type": "code",
      "source": [
        "new_putput"
      ],
      "metadata": {
        "colab": {
          "base_uri": "https://localhost:8080/"
        },
        "id": "Y7C8I_LSBvYe",
        "outputId": "90aa8dad-e6a8-4448-d839-c0bb64028323"
      },
      "execution_count": 169,
      "outputs": [
        {
          "output_type": "execute_result",
          "data": {
            "text/plain": [
              "array([5.17330609e-05, 1.49909526e-03, 1.55030131e-03, 2.77354523e-03,\n",
              "       6.46624967e-02, 1.36278293e-02, 2.30459624e-04, 6.29957074e-04,\n",
              "       7.09947971e-03, 1.14841739e-04, 7.93236593e-02, 1.09914519e-03,\n",
              "       8.77353357e-04, 7.08539163e-05, 6.78056039e-04, 2.26644581e-03,\n",
              "       1.70824540e-04, 4.49567448e-02, 5.86332621e-05, 5.68180319e-04,\n",
              "       2.87739537e-04, 4.04198685e-05, 1.28446877e-03, 3.08968518e-02,\n",
              "       8.26296124e-06, 9.31869469e-04, 2.06998892e-04, 4.90299044e-04,\n",
              "       4.56848842e-04, 1.27981878e-06, 8.96743606e-04, 4.24082926e-05,\n",
              "       2.18724878e-06, 7.20694783e-02, 4.21078541e-04, 4.39024310e-01,\n",
              "       9.38198162e-05, 5.38954719e-04, 4.61318572e-04, 2.15422987e-03,\n",
              "       3.49461971e-07, 1.62312997e-03, 6.15963321e-03, 9.78765275e-04,\n",
              "       2.43463357e-04, 2.25398376e-03, 3.35000433e-02, 7.93011528e-03,\n",
              "       3.84410970e-03, 7.43100789e-04, 5.80656521e-04, 1.02603384e-03,\n",
              "       5.50248148e-05, 1.40105690e-04, 4.37455879e-04, 4.81738897e-03,\n",
              "       1.88912146e-03, 2.24751881e-03, 7.06390930e-04, 4.76960271e-03,\n",
              "       4.96843116e-04, 5.72017886e-04, 6.76337395e-04, 5.26586983e-04,\n",
              "       1.08707594e-04, 1.01042291e-04, 8.17219301e-03, 5.18319623e-03,\n",
              "       3.41043698e-04, 2.09802439e-05, 1.17797737e-03, 1.28846447e-04,\n",
              "       2.42688410e-03, 1.03918793e-05, 2.04380133e-05, 6.87610761e-04,\n",
              "       5.93025947e-04, 8.93375457e-04, 1.22765874e-04, 2.99912215e-05,\n",
              "       2.55194451e-03, 1.78539509e-05, 6.57912870e-03, 1.31080331e-04,\n",
              "       4.52068616e-04, 5.45006852e-04, 7.28089478e-05, 4.01950443e-03,\n",
              "       1.25909725e-06, 1.55283916e-02, 3.89798939e-04, 4.62436639e-03,\n",
              "       4.20268842e-05, 9.52709781e-04, 5.40697161e-06, 3.08697274e-03,\n",
              "       8.62633801e-02, 5.78638039e-06, 1.81356675e-03, 4.06148538e-03])"
            ]
          },
          "metadata": {},
          "execution_count": 169
        }
      ]
    },
    {
      "cell_type": "code",
      "source": [
        "new_putput[65]"
      ],
      "metadata": {
        "colab": {
          "base_uri": "https://localhost:8080/"
        },
        "id": "glLrYjfLB2m8",
        "outputId": "01500819-1884-41d3-da7c-e14ddb6b062a"
      },
      "execution_count": 171,
      "outputs": [
        {
          "output_type": "execute_result",
          "data": {
            "text/plain": [
              "np.float64(0.00010104229054264136)"
            ]
          },
          "metadata": {},
          "execution_count": 171
        }
      ]
    },
    {
      "cell_type": "code",
      "source": [
        "-np.log(new_putput[65])"
      ],
      "metadata": {
        "colab": {
          "base_uri": "https://localhost:8080/"
        },
        "id": "Yb2AngCQB4Ew",
        "outputId": "a48a6942-6186-48ae-c80e-648beb697d87"
      },
      "execution_count": 173,
      "outputs": [
        {
          "output_type": "execute_result",
          "data": {
            "text/plain": [
              "np.float64(9.199971410517062)"
            ]
          },
          "metadata": {},
          "execution_count": 173
        }
      ]
    },
    {
      "cell_type": "code",
      "source": [
        "for epoch in range(5):\n",
        "  backpropogation(W1,W2)\n",
        "  gradient_descent(softmax_output,embeddng_vec,output_l)\n",
        "  update_weights(W1,W2"
      ],
      "metadata": {
        "id": "NewQJQFGB_L0"
      },
      "execution_count": null,
      "outputs": []
    },
    {
      "cell_type": "markdown",
      "source": [
        "Flow\n",
        "- data preprocessing\n",
        "- generate training data\n",
        "- one-hot encoding\n",
        "- forward propogation\n",
        "-loss\n",
        "-update weights\n",
        "-back propogation"
      ],
      "metadata": {
        "id": "mixo7RIFOG8x"
      }
    },
    {
      "cell_type": "markdown",
      "source": [
        "pre processing"
      ],
      "metadata": {
        "id": "HqAuICq7OO9r"
      }
    },
    {
      "cell_type": "code",
      "source": [
        "import spacy"
      ],
      "metadata": {
        "id": "KbqbjcrrOWVU"
      },
      "execution_count": 6,
      "outputs": []
    },
    {
      "cell_type": "code",
      "source": [
        "nlp = spacy.load(\"en_core_web_sm\")"
      ],
      "metadata": {
        "id": "vVCRI89WObjb"
      },
      "execution_count": 7,
      "outputs": []
    },
    {
      "cell_type": "code",
      "source": [
        "doc= nlp(\"\"\"I have three visions for India. In 3000 years of our history, people from all over\n",
        "               the world have come and invaded us, captured our lands, conquered our minds.\n",
        "               From Alexander onwards, the Greeks, the Turks, the Moguls, the Portuguese, the British,\n",
        "               the French, the Dutch, all of them came and looted us, took over what was ours.\n",
        "               Yet we have not done this to any other nation. We have not conquered anyone.\n",
        "               We have not grabbed their land, their culture,\n",
        "               their history and tried to enforce our way of life on them.\n",
        "               Why? Because we respect the freedom of others.That is why my\n",
        "               first vision is that of freedom. I believe that India got its first vision of\n",
        "               this in 1857, when we started the War of Independence. It is this freedom that\n",
        "               we must protect and nurture and build on. If we are not free, no one will respect us.\n",
        "               My second vision for India’s development. For fifty years we have been a developing nation.\n",
        "               It is time we see ourselves as a developed nation. We are among the top 5 nations of the world\n",
        "               in terms of GDP. We have a 10 percent growth rate in most areas. Our poverty levels are falling.\n",
        "               Our achievements are being globally recognised today. Yet we lack the self-confidence to\n",
        "               see ourselves as a developed nation, self-reliant and self-assured. Isn’t this incorrect?\n",
        "               I have a third vision. India must stand up to the world. Because I believe that unless India\n",
        "               stands up to the world, no one will respect us. Only strength respects strength. We must be\n",
        "               strong not only as a military power but also as an economic power. Both must go hand-in-hand.\n",
        "               My good fortune was to have worked with three great minds. Dr. Vikram Sarabhai of the Dept. of\n",
        "               space, Professor Satish Dhawan, who succeeded him and Dr. Brahm Prakash, father of nuclear material.\n",
        "               I was lucky to have worked with all three of them closely and consider this the great opportunity of my life.\n",
        "               I see four milestones in my career\"\"\"\n",
        ")"
      ],
      "metadata": {
        "id": "-L6rTrvAON48"
      },
      "execution_count": 8,
      "outputs": []
    },
    {
      "cell_type": "code",
      "source": [
        "corpus=[]\n",
        "for sentence in doc.sents:\n",
        "  new_list= [word.lemma_ for word in sentence if not word.is_stop and not word.is_punct and not word.is_space ]\n",
        "  corpus.append(new_list)\n",
        "\n"
      ],
      "metadata": {
        "id": "kZRWWpDDO_Eg"
      },
      "execution_count": 9,
      "outputs": []
    },
    {
      "cell_type": "code",
      "source": [
        "corpus"
      ],
      "metadata": {
        "colab": {
          "base_uri": "https://localhost:8080/"
        },
        "id": "XyKbFdsfQOSP",
        "outputId": "2e96a21f-78c1-41ee-f38c-fd92d3993c15"
      },
      "execution_count": 10,
      "outputs": [
        {
          "output_type": "execute_result",
          "data": {
            "text/plain": [
              "[['vision', 'India'],\n",
              " ['3000',\n",
              "  'year',\n",
              "  'history',\n",
              "  'people',\n",
              "  'world',\n",
              "  'come',\n",
              "  'invade',\n",
              "  'capture',\n",
              "  'land',\n",
              "  'conquer',\n",
              "  'mind'],\n",
              " ['Alexander',\n",
              "  'onwards',\n",
              "  'Greeks',\n",
              "  'Turks',\n",
              "  'Moguls',\n",
              "  'Portuguese',\n",
              "  'British',\n",
              "  'French',\n",
              "  'Dutch',\n",
              "  'come',\n",
              "  'loot',\n",
              "  'take'],\n",
              " ['nation'],\n",
              " ['conquer'],\n",
              " ['grab', 'land', 'culture', 'history', 'try', 'enforce', 'way', 'life'],\n",
              " [],\n",
              " ['respect', 'freedom'],\n",
              " ['vision', 'freedom'],\n",
              " ['believe', 'India', 'get', 'vision', '1857', 'start', 'War', 'Independence'],\n",
              " ['freedom', 'protect', 'nurture', 'build'],\n",
              " ['free', 'respect'],\n",
              " ['second', 'vision', 'India', 'development'],\n",
              " ['year', 'develop', 'nation'],\n",
              " ['time', 'developed', 'nation'],\n",
              " ['5', 'nation', 'world', 'term', 'GDP'],\n",
              " ['10', 'percent', 'growth', 'rate', 'area'],\n",
              " ['poverty', 'level', 'fall'],\n",
              " ['achievement', 'globally', 'recognise', 'today'],\n",
              " ['lack',\n",
              "  'self',\n",
              "  'confidence',\n",
              "  'developed',\n",
              "  'nation',\n",
              "  'self',\n",
              "  'reliant',\n",
              "  'self',\n",
              "  'assure'],\n",
              " ['incorrect'],\n",
              " ['vision'],\n",
              " ['India', 'stand', 'world'],\n",
              " ['believe', 'India', 'stand', 'world', 'respect'],\n",
              " ['strength', 'respect', 'strength'],\n",
              " ['strong', 'military', 'power', 'economic', 'power'],\n",
              " ['hand', 'hand'],\n",
              " ['good', 'fortune', 'work', 'great', 'mind'],\n",
              " ['Dr.',\n",
              "  'Vikram',\n",
              "  'Sarabhai',\n",
              "  'Dept',\n",
              "  'space',\n",
              "  'Professor',\n",
              "  'Satish',\n",
              "  'Dhawan',\n",
              "  'succeed',\n",
              "  'Dr.',\n",
              "  'Brahm',\n",
              "  'Prakash',\n",
              "  'father',\n",
              "  'nuclear',\n",
              "  'material'],\n",
              " ['lucky', 'work', 'closely', 'consider', 'great', 'opportunity', 'life'],\n",
              " ['milestone', 'career']]"
            ]
          },
          "metadata": {},
          "execution_count": 10
        }
      ]
    },
    {
      "cell_type": "markdown",
      "source": [
        "step 2- wordto id and id_to_word"
      ],
      "metadata": {
        "id": "yrJZe4BQQ1ir"
      }
    },
    {
      "cell_type": "code",
      "source": [
        "word_to_id = []\n",
        "id_to_word=[]"
      ],
      "metadata": {
        "id": "ZDd2xGimPrBU"
      },
      "execution_count": 11,
      "outputs": []
    },
    {
      "cell_type": "code",
      "source": [
        "all_word= [word for sentence in corpus for word in sentence ]"
      ],
      "metadata": {
        "id": "3NOuQpkKUQDr"
      },
      "execution_count": 12,
      "outputs": []
    },
    {
      "cell_type": "code",
      "source": [
        "vocab = sorted(set(all_word))"
      ],
      "metadata": {
        "id": "30R57X4UVX56"
      },
      "execution_count": 13,
      "outputs": []
    },
    {
      "cell_type": "code",
      "source": [
        "word_to_id={word:id for id, word in enumerate(vocab)}\n",
        "id_to_word={value:key for key, value in word_to_id.items()}\n"
      ],
      "metadata": {
        "id": "7yr1lRhlRMRY"
      },
      "execution_count": 14,
      "outputs": []
    },
    {
      "cell_type": "code",
      "source": [
        "word_to_id"
      ],
      "metadata": {
        "colab": {
          "base_uri": "https://localhost:8080/"
        },
        "id": "h84yXhrDVC8T",
        "outputId": "b8ad577d-caa8-4a17-ca80-97c17fa327d8"
      },
      "execution_count": 15,
      "outputs": [
        {
          "output_type": "execute_result",
          "data": {
            "text/plain": [
              "{'10': 0,\n",
              " '1857': 1,\n",
              " '3000': 2,\n",
              " '5': 3,\n",
              " 'Alexander': 4,\n",
              " 'Brahm': 5,\n",
              " 'British': 6,\n",
              " 'Dept': 7,\n",
              " 'Dhawan': 8,\n",
              " 'Dr.': 9,\n",
              " 'Dutch': 10,\n",
              " 'French': 11,\n",
              " 'GDP': 12,\n",
              " 'Greeks': 13,\n",
              " 'Independence': 14,\n",
              " 'India': 15,\n",
              " 'Moguls': 16,\n",
              " 'Portuguese': 17,\n",
              " 'Prakash': 18,\n",
              " 'Professor': 19,\n",
              " 'Sarabhai': 20,\n",
              " 'Satish': 21,\n",
              " 'Turks': 22,\n",
              " 'Vikram': 23,\n",
              " 'War': 24,\n",
              " 'achievement': 25,\n",
              " 'area': 26,\n",
              " 'assure': 27,\n",
              " 'believe': 28,\n",
              " 'build': 29,\n",
              " 'capture': 30,\n",
              " 'career': 31,\n",
              " 'closely': 32,\n",
              " 'come': 33,\n",
              " 'confidence': 34,\n",
              " 'conquer': 35,\n",
              " 'consider': 36,\n",
              " 'culture': 37,\n",
              " 'develop': 38,\n",
              " 'developed': 39,\n",
              " 'development': 40,\n",
              " 'economic': 41,\n",
              " 'enforce': 42,\n",
              " 'fall': 43,\n",
              " 'father': 44,\n",
              " 'fortune': 45,\n",
              " 'free': 46,\n",
              " 'freedom': 47,\n",
              " 'get': 48,\n",
              " 'globally': 49,\n",
              " 'good': 50,\n",
              " 'grab': 51,\n",
              " 'great': 52,\n",
              " 'growth': 53,\n",
              " 'hand': 54,\n",
              " 'history': 55,\n",
              " 'incorrect': 56,\n",
              " 'invade': 57,\n",
              " 'lack': 58,\n",
              " 'land': 59,\n",
              " 'level': 60,\n",
              " 'life': 61,\n",
              " 'loot': 62,\n",
              " 'lucky': 63,\n",
              " 'material': 64,\n",
              " 'milestone': 65,\n",
              " 'military': 66,\n",
              " 'mind': 67,\n",
              " 'nation': 68,\n",
              " 'nuclear': 69,\n",
              " 'nurture': 70,\n",
              " 'onwards': 71,\n",
              " 'opportunity': 72,\n",
              " 'people': 73,\n",
              " 'percent': 74,\n",
              " 'poverty': 75,\n",
              " 'power': 76,\n",
              " 'protect': 77,\n",
              " 'rate': 78,\n",
              " 'recognise': 79,\n",
              " 'reliant': 80,\n",
              " 'respect': 81,\n",
              " 'second': 82,\n",
              " 'self': 83,\n",
              " 'space': 84,\n",
              " 'stand': 85,\n",
              " 'start': 86,\n",
              " 'strength': 87,\n",
              " 'strong': 88,\n",
              " 'succeed': 89,\n",
              " 'take': 90,\n",
              " 'term': 91,\n",
              " 'time': 92,\n",
              " 'today': 93,\n",
              " 'try': 94,\n",
              " 'vision': 95,\n",
              " 'way': 96,\n",
              " 'work': 97,\n",
              " 'world': 98,\n",
              " 'year': 99}"
            ]
          },
          "metadata": {},
          "execution_count": 15
        }
      ]
    },
    {
      "cell_type": "markdown",
      "source": [
        "generate training  data"
      ],
      "metadata": {
        "id": "ifFDrp4IViww"
      }
    },
    {
      "cell_type": "markdown",
      "source": [],
      "metadata": {
        "id": "bxnwctduXatE"
      }
    },
    {
      "cell_type": "code",
      "source": [
        "sentence_id = [[word_to_id[word] for word in sentence ]for sentence in corpus ]"
      ],
      "metadata": {
        "id": "f3w245AeV0Qe"
      },
      "execution_count": 16,
      "outputs": []
    },
    {
      "cell_type": "code",
      "source": [
        "sentence_id"
      ],
      "metadata": {
        "colab": {
          "base_uri": "https://localhost:8080/"
        },
        "id": "s5wrsn9PWCIi",
        "outputId": "6823b921-bbea-405f-f921-96a21727b1f1"
      },
      "execution_count": 73,
      "outputs": [
        {
          "output_type": "execute_result",
          "data": {
            "text/plain": [
              "[[95, 15],\n",
              " [2, 99, 55, 73, 98, 33, 57, 30, 59, 35, 67],\n",
              " [4, 71, 13, 22, 16, 17, 6, 11, 10, 33, 62, 90],\n",
              " [68],\n",
              " [35],\n",
              " [51, 59, 37, 55, 94, 42, 96, 61],\n",
              " [],\n",
              " [81, 47],\n",
              " [95, 47],\n",
              " [28, 15, 48, 95, 1, 86, 24, 14],\n",
              " [47, 77, 70, 29],\n",
              " [46, 81],\n",
              " [82, 95, 15, 40],\n",
              " [99, 38, 68],\n",
              " [92, 39, 68],\n",
              " [3, 68, 98, 91, 12],\n",
              " [0, 74, 53, 78, 26],\n",
              " [75, 60, 43],\n",
              " [25, 49, 79, 93],\n",
              " [58, 83, 34, 39, 68, 83, 80, 83, 27],\n",
              " [56],\n",
              " [95],\n",
              " [15, 85, 98],\n",
              " [28, 15, 85, 98, 81],\n",
              " [87, 81, 87],\n",
              " [88, 66, 76, 41, 76],\n",
              " [54, 54],\n",
              " [50, 45, 97, 52, 67],\n",
              " [9, 23, 20, 7, 84, 19, 21, 8, 89, 9, 5, 18, 44, 69, 64],\n",
              " [63, 97, 32, 36, 52, 72, 61],\n",
              " [65, 31]]"
            ]
          },
          "metadata": {},
          "execution_count": 73
        }
      ]
    },
    {
      "cell_type": "code",
      "source": [
        "sentence_id"
      ],
      "metadata": {
        "colab": {
          "base_uri": "https://localhost:8080/"
        },
        "id": "joewipIjWr92",
        "outputId": "e6df7fa4-d4a2-4aa4-c76c-2ecb92c12969"
      },
      "execution_count": 103,
      "outputs": [
        {
          "output_type": "execute_result",
          "data": {
            "text/plain": [
              "[[95, 15],\n",
              " [2, 99, 55, 73, 98, 33, 57, 30, 59, 35, 67],\n",
              " [4, 71, 13, 22, 16, 17, 6, 11, 10, 33, 62, 90],\n",
              " [68],\n",
              " [35],\n",
              " [51, 59, 37, 55, 94, 42, 96, 61],\n",
              " [],\n",
              " [81, 47],\n",
              " [95, 47],\n",
              " [28, 15, 48, 95, 1, 86, 24, 14],\n",
              " [47, 77, 70, 29],\n",
              " [46, 81],\n",
              " [82, 95, 15, 40],\n",
              " [99, 38, 68],\n",
              " [92, 39, 68],\n",
              " [3, 68, 98, 91, 12],\n",
              " [0, 74, 53, 78, 26],\n",
              " [75, 60, 43],\n",
              " [25, 49, 79, 93],\n",
              " [58, 83, 34, 39, 68, 83, 80, 83, 27],\n",
              " [56],\n",
              " [95],\n",
              " [15, 85, 98],\n",
              " [28, 15, 85, 98, 81],\n",
              " [87, 81, 87],\n",
              " [88, 66, 76, 41, 76],\n",
              " [54, 54],\n",
              " [50, 45, 97, 52, 67],\n",
              " [9, 23, 20, 7, 84, 19, 21, 8, 89, 9, 5, 18, 44, 69, 64],\n",
              " [63, 97, 32, 36, 52, 72, 61],\n",
              " [65, 31]]"
            ]
          },
          "metadata": {},
          "execution_count": 103
        }
      ]
    },
    {
      "cell_type": "code",
      "source": [
        "def generate_train_data(sentence_id, window_size=2):\n",
        "  pair=[]\n",
        "  for sentence in sentence_id:\n",
        "\n",
        "    for id, center_word_id in enumerate(sentence):\n",
        "      for offset in range(-window_size , window_size+1):\n",
        "        context_id=id+offset\n",
        "        if offset==0 or context_id<0 or context_id>=len(sentence):\n",
        "          continue\n",
        "        context_word_id= sentence[context_id]\n",
        "        pair.append((center_word_id,context_word_id))\n",
        "  return pair\n",
        "\n",
        ""
      ],
      "metadata": {
        "id": "SJd8AnmYUKp0"
      },
      "execution_count": 17,
      "outputs": []
    },
    {
      "cell_type": "code",
      "source": [
        "pair=generate_train_data(sentence_id)"
      ],
      "metadata": {
        "id": "d7u3mqa9WwEf"
      },
      "execution_count": 24,
      "outputs": []
    },
    {
      "cell_type": "code",
      "source": [
        "pair"
      ],
      "metadata": {
        "colab": {
          "base_uri": "https://localhost:8080/"
        },
        "id": "Vi67Mw2CW6Cz",
        "outputId": "7d4ac2fa-5f3d-47ce-9934-438479b438d5"
      },
      "execution_count": 25,
      "outputs": [
        {
          "output_type": "execute_result",
          "data": {
            "text/plain": [
              "[(95, 15),\n",
              " (15, 95),\n",
              " (2, 99),\n",
              " (2, 55),\n",
              " (99, 2),\n",
              " (99, 55),\n",
              " (99, 73),\n",
              " (55, 2),\n",
              " (55, 99),\n",
              " (55, 73),\n",
              " (55, 98),\n",
              " (73, 99),\n",
              " (73, 55),\n",
              " (73, 98),\n",
              " (73, 33),\n",
              " (98, 55),\n",
              " (98, 73),\n",
              " (98, 33),\n",
              " (98, 57),\n",
              " (33, 73),\n",
              " (33, 98),\n",
              " (33, 57),\n",
              " (33, 30),\n",
              " (57, 98),\n",
              " (57, 33),\n",
              " (57, 30),\n",
              " (57, 59),\n",
              " (30, 33),\n",
              " (30, 57),\n",
              " (30, 59),\n",
              " (30, 35),\n",
              " (59, 57),\n",
              " (59, 30),\n",
              " (59, 35),\n",
              " (59, 67),\n",
              " (35, 30),\n",
              " (35, 59),\n",
              " (35, 67),\n",
              " (67, 59),\n",
              " (67, 35),\n",
              " (4, 71),\n",
              " (4, 13),\n",
              " (71, 4),\n",
              " (71, 13),\n",
              " (71, 22),\n",
              " (13, 4),\n",
              " (13, 71),\n",
              " (13, 22),\n",
              " (13, 16),\n",
              " (22, 71),\n",
              " (22, 13),\n",
              " (22, 16),\n",
              " (22, 17),\n",
              " (16, 13),\n",
              " (16, 22),\n",
              " (16, 17),\n",
              " (16, 6),\n",
              " (17, 22),\n",
              " (17, 16),\n",
              " (17, 6),\n",
              " (17, 11),\n",
              " (6, 16),\n",
              " (6, 17),\n",
              " (6, 11),\n",
              " (6, 10),\n",
              " (11, 17),\n",
              " (11, 6),\n",
              " (11, 10),\n",
              " (11, 33),\n",
              " (10, 6),\n",
              " (10, 11),\n",
              " (10, 33),\n",
              " (10, 62),\n",
              " (33, 11),\n",
              " (33, 10),\n",
              " (33, 62),\n",
              " (33, 90),\n",
              " (62, 10),\n",
              " (62, 33),\n",
              " (62, 90),\n",
              " (90, 33),\n",
              " (90, 62),\n",
              " (51, 59),\n",
              " (51, 37),\n",
              " (59, 51),\n",
              " (59, 37),\n",
              " (59, 55),\n",
              " (37, 51),\n",
              " (37, 59),\n",
              " (37, 55),\n",
              " (37, 94),\n",
              " (55, 59),\n",
              " (55, 37),\n",
              " (55, 94),\n",
              " (55, 42),\n",
              " (94, 37),\n",
              " (94, 55),\n",
              " (94, 42),\n",
              " (94, 96),\n",
              " (42, 55),\n",
              " (42, 94),\n",
              " (42, 96),\n",
              " (42, 61),\n",
              " (96, 94),\n",
              " (96, 42),\n",
              " (96, 61),\n",
              " (61, 42),\n",
              " (61, 96),\n",
              " (81, 47),\n",
              " (47, 81),\n",
              " (95, 47),\n",
              " (47, 95),\n",
              " (28, 15),\n",
              " (28, 48),\n",
              " (15, 28),\n",
              " (15, 48),\n",
              " (15, 95),\n",
              " (48, 28),\n",
              " (48, 15),\n",
              " (48, 95),\n",
              " (48, 1),\n",
              " (95, 15),\n",
              " (95, 48),\n",
              " (95, 1),\n",
              " (95, 86),\n",
              " (1, 48),\n",
              " (1, 95),\n",
              " (1, 86),\n",
              " (1, 24),\n",
              " (86, 95),\n",
              " (86, 1),\n",
              " (86, 24),\n",
              " (86, 14),\n",
              " (24, 1),\n",
              " (24, 86),\n",
              " (24, 14),\n",
              " (14, 86),\n",
              " (14, 24),\n",
              " (47, 77),\n",
              " (47, 70),\n",
              " (77, 47),\n",
              " (77, 70),\n",
              " (77, 29),\n",
              " (70, 47),\n",
              " (70, 77),\n",
              " (70, 29),\n",
              " (29, 77),\n",
              " (29, 70),\n",
              " (46, 81),\n",
              " (81, 46),\n",
              " (82, 95),\n",
              " (82, 15),\n",
              " (95, 82),\n",
              " (95, 15),\n",
              " (95, 40),\n",
              " (15, 82),\n",
              " (15, 95),\n",
              " (15, 40),\n",
              " (40, 95),\n",
              " (40, 15),\n",
              " (99, 38),\n",
              " (99, 68),\n",
              " (38, 99),\n",
              " (38, 68),\n",
              " (68, 99),\n",
              " (68, 38),\n",
              " (92, 39),\n",
              " (92, 68),\n",
              " (39, 92),\n",
              " (39, 68),\n",
              " (68, 92),\n",
              " (68, 39),\n",
              " (3, 68),\n",
              " (3, 98),\n",
              " (68, 3),\n",
              " (68, 98),\n",
              " (68, 91),\n",
              " (98, 3),\n",
              " (98, 68),\n",
              " (98, 91),\n",
              " (98, 12),\n",
              " (91, 68),\n",
              " (91, 98),\n",
              " (91, 12),\n",
              " (12, 98),\n",
              " (12, 91),\n",
              " (0, 74),\n",
              " (0, 53),\n",
              " (74, 0),\n",
              " (74, 53),\n",
              " (74, 78),\n",
              " (53, 0),\n",
              " (53, 74),\n",
              " (53, 78),\n",
              " (53, 26),\n",
              " (78, 74),\n",
              " (78, 53),\n",
              " (78, 26),\n",
              " (26, 53),\n",
              " (26, 78),\n",
              " (75, 60),\n",
              " (75, 43),\n",
              " (60, 75),\n",
              " (60, 43),\n",
              " (43, 75),\n",
              " (43, 60),\n",
              " (25, 49),\n",
              " (25, 79),\n",
              " (49, 25),\n",
              " (49, 79),\n",
              " (49, 93),\n",
              " (79, 25),\n",
              " (79, 49),\n",
              " (79, 93),\n",
              " (93, 49),\n",
              " (93, 79),\n",
              " (58, 83),\n",
              " (58, 34),\n",
              " (83, 58),\n",
              " (83, 34),\n",
              " (83, 39),\n",
              " (34, 58),\n",
              " (34, 83),\n",
              " (34, 39),\n",
              " (34, 68),\n",
              " (39, 83),\n",
              " (39, 34),\n",
              " (39, 68),\n",
              " (39, 83),\n",
              " (68, 34),\n",
              " (68, 39),\n",
              " (68, 83),\n",
              " (68, 80),\n",
              " (83, 39),\n",
              " (83, 68),\n",
              " (83, 80),\n",
              " (83, 83),\n",
              " (80, 68),\n",
              " (80, 83),\n",
              " (80, 83),\n",
              " (80, 27),\n",
              " (83, 83),\n",
              " (83, 80),\n",
              " (83, 27),\n",
              " (27, 80),\n",
              " (27, 83),\n",
              " (15, 85),\n",
              " (15, 98),\n",
              " (85, 15),\n",
              " (85, 98),\n",
              " (98, 15),\n",
              " (98, 85),\n",
              " (28, 15),\n",
              " (28, 85),\n",
              " (15, 28),\n",
              " (15, 85),\n",
              " (15, 98),\n",
              " (85, 28),\n",
              " (85, 15),\n",
              " (85, 98),\n",
              " (85, 81),\n",
              " (98, 15),\n",
              " (98, 85),\n",
              " (98, 81),\n",
              " (81, 85),\n",
              " (81, 98),\n",
              " (87, 81),\n",
              " (87, 87),\n",
              " (81, 87),\n",
              " (81, 87),\n",
              " (87, 87),\n",
              " (87, 81),\n",
              " (88, 66),\n",
              " (88, 76),\n",
              " (66, 88),\n",
              " (66, 76),\n",
              " (66, 41),\n",
              " (76, 88),\n",
              " (76, 66),\n",
              " (76, 41),\n",
              " (76, 76),\n",
              " (41, 66),\n",
              " (41, 76),\n",
              " (41, 76),\n",
              " (76, 76),\n",
              " (76, 41),\n",
              " (54, 54),\n",
              " (54, 54),\n",
              " (50, 45),\n",
              " (50, 97),\n",
              " (45, 50),\n",
              " (45, 97),\n",
              " (45, 52),\n",
              " (97, 50),\n",
              " (97, 45),\n",
              " (97, 52),\n",
              " (97, 67),\n",
              " (52, 45),\n",
              " (52, 97),\n",
              " (52, 67),\n",
              " (67, 97),\n",
              " (67, 52),\n",
              " (9, 23),\n",
              " (9, 20),\n",
              " (23, 9),\n",
              " (23, 20),\n",
              " (23, 7),\n",
              " (20, 9),\n",
              " (20, 23),\n",
              " (20, 7),\n",
              " (20, 84),\n",
              " (7, 23),\n",
              " (7, 20),\n",
              " (7, 84),\n",
              " (7, 19),\n",
              " (84, 20),\n",
              " (84, 7),\n",
              " (84, 19),\n",
              " (84, 21),\n",
              " (19, 7),\n",
              " (19, 84),\n",
              " (19, 21),\n",
              " (19, 8),\n",
              " (21, 84),\n",
              " (21, 19),\n",
              " (21, 8),\n",
              " (21, 89),\n",
              " (8, 19),\n",
              " (8, 21),\n",
              " (8, 89),\n",
              " (8, 9),\n",
              " (89, 21),\n",
              " (89, 8),\n",
              " (89, 9),\n",
              " (89, 5),\n",
              " (9, 8),\n",
              " (9, 89),\n",
              " (9, 5),\n",
              " (9, 18),\n",
              " (5, 89),\n",
              " (5, 9),\n",
              " (5, 18),\n",
              " (5, 44),\n",
              " (18, 9),\n",
              " (18, 5),\n",
              " (18, 44),\n",
              " (18, 69),\n",
              " (44, 5),\n",
              " (44, 18),\n",
              " (44, 69),\n",
              " (44, 64),\n",
              " (69, 18),\n",
              " (69, 44),\n",
              " (69, 64),\n",
              " (64, 44),\n",
              " (64, 69),\n",
              " (63, 97),\n",
              " (63, 32),\n",
              " (97, 63),\n",
              " (97, 32),\n",
              " (97, 36),\n",
              " (32, 63),\n",
              " (32, 97),\n",
              " (32, 36),\n",
              " (32, 52),\n",
              " (36, 97),\n",
              " (36, 32),\n",
              " (36, 52),\n",
              " (36, 72),\n",
              " (52, 32),\n",
              " (52, 36),\n",
              " (52, 72),\n",
              " (52, 61),\n",
              " (72, 36),\n",
              " (72, 52),\n",
              " (72, 61),\n",
              " (61, 52),\n",
              " (61, 72),\n",
              " (65, 31),\n",
              " (31, 65)]"
            ]
          },
          "metadata": {},
          "execution_count": 25
        }
      ]
    },
    {
      "cell_type": "markdown",
      "source": [
        "one hot encoding"
      ],
      "metadata": {
        "id": "O5DtCwLrZAtT"
      }
    },
    {
      "cell_type": "code",
      "source": [
        "import numpy as np"
      ],
      "metadata": {
        "id": "bnvf2JzLZRXa"
      },
      "execution_count": 20,
      "outputs": []
    },
    {
      "cell_type": "code",
      "source": [
        "def one_hot_encoding(id, vocab_size):\n",
        "  one_hot_encode= np.zeros(vocab_size)\n",
        "  one_hot_encode[id]=1\n",
        "  return one_hot_encode"
      ],
      "metadata": {
        "id": "XCC7jszoXKCO"
      },
      "execution_count": 36,
      "outputs": []
    },
    {
      "cell_type": "code",
      "source": [
        "for idx in pair[0]:\n",
        "  print(idx)"
      ],
      "metadata": {
        "colab": {
          "base_uri": "https://localhost:8080/"
        },
        "id": "5KPNR46nGGaB",
        "outputId": "5ed9cf98-e01c-4487-ab13-a12bb0385c91"
      },
      "execution_count": 88,
      "outputs": [
        {
          "output_type": "stream",
          "name": "stdout",
          "text": [
            "95\n",
            "15\n"
          ]
        }
      ]
    },
    {
      "cell_type": "code",
      "source": [
        "\n",
        "center_one_hot_vector= one_hot_encoding(pair[0][0], len(vocab))\n",
        "context_one_hot_vector= one_hot_encoding(pair[0][1],len(vocab))"
      ],
      "metadata": {
        "id": "C8l-hfxUZTAM"
      },
      "execution_count": 91,
      "outputs": []
    },
    {
      "cell_type": "code",
      "source": [
        "context_one_hot_vector"
      ],
      "metadata": {
        "colab": {
          "base_uri": "https://localhost:8080/"
        },
        "id": "JMyGj0zQCkot",
        "outputId": "e56217e4-decf-433b-bccb-ba37b721880e"
      },
      "execution_count": 93,
      "outputs": [
        {
          "output_type": "execute_result",
          "data": {
            "text/plain": [
              "array([0., 0., 0., 0., 0., 0., 0., 0., 0., 0., 0., 0., 0., 0., 0., 1., 0.,\n",
              "       0., 0., 0., 0., 0., 0., 0., 0., 0., 0., 0., 0., 0., 0., 0., 0., 0.,\n",
              "       0., 0., 0., 0., 0., 0., 0., 0., 0., 0., 0., 0., 0., 0., 0., 0., 0.,\n",
              "       0., 0., 0., 0., 0., 0., 0., 0., 0., 0., 0., 0., 0., 0., 0., 0., 0.,\n",
              "       0., 0., 0., 0., 0., 0., 0., 0., 0., 0., 0., 0., 0., 0., 0., 0., 0.,\n",
              "       0., 0., 0., 0., 0., 0., 0., 0., 0., 0., 0., 0., 0., 0., 0.])"
            ]
          },
          "metadata": {},
          "execution_count": 93
        }
      ]
    },
    {
      "cell_type": "code",
      "source": [
        "17*3"
      ],
      "metadata": {
        "colab": {
          "base_uri": "https://localhost:8080/"
        },
        "id": "HbaG3lIZaVVg",
        "outputId": "9a0ba737-33b2-43b7-c864-41fc733ff175"
      },
      "execution_count": 141,
      "outputs": [
        {
          "output_type": "execute_result",
          "data": {
            "text/plain": [
              "51"
            ]
          },
          "metadata": {},
          "execution_count": 141
        }
      ]
    },
    {
      "cell_type": "markdown",
      "source": [],
      "metadata": {
        "id": "R7DNTjAGaU_a"
      }
    },
    {
      "cell_type": "code",
      "source": [
        "center_one_hot_vector"
      ],
      "metadata": {
        "colab": {
          "base_uri": "https://localhost:8080/"
        },
        "id": "J0U6f5EyaDk7",
        "outputId": "c0c0bfeb-fb7b-4533-a737-d47015d73663"
      },
      "execution_count": 27,
      "outputs": [
        {
          "output_type": "execute_result",
          "data": {
            "text/plain": [
              "array([0., 0., 0., 0., 0., 0., 0., 0., 0., 0., 0., 0., 0., 0., 0., 0., 0.,\n",
              "       0., 0., 0., 0., 0., 0., 0., 0., 0., 0., 0., 0., 0., 0., 1., 0., 0.,\n",
              "       0., 0., 0., 0., 0., 0., 0., 0., 0., 0., 0., 0., 0., 0., 0., 0., 0.,\n",
              "       0., 0., 0., 0., 0., 0., 0., 0., 0., 0., 0., 0., 0., 0., 0., 0., 0.,\n",
              "       0., 0., 0., 0., 0., 0., 0., 0., 0., 0., 0., 0., 0., 0., 0., 0., 0.,\n",
              "       0., 0., 0., 0., 0., 0., 0., 0., 0., 0., 0., 0., 0., 0., 0.])"
            ]
          },
          "metadata": {},
          "execution_count": 27
        }
      ]
    },
    {
      "cell_type": "code",
      "source": [
        "context_one_hot_vector"
      ],
      "metadata": {
        "colab": {
          "base_uri": "https://localhost:8080/"
        },
        "id": "kUi0BPycaJq7",
        "outputId": "bce317f0-5dde-4d93-f479-61704a5a1e0f"
      },
      "execution_count": 140,
      "outputs": [
        {
          "output_type": "execute_result",
          "data": {
            "text/plain": [
              "array([0., 0., 0., 0., 0., 0., 0., 0., 0., 0., 0., 0., 0., 0., 0., 0., 0.,\n",
              "       0., 0., 0., 0., 0., 0., 0., 0., 0., 0., 0., 0., 0., 0., 1., 0., 0.,\n",
              "       0., 0., 0., 0., 0., 0., 0., 0., 0., 0., 0., 0., 0., 0., 0., 0., 0.,\n",
              "       0., 0., 0., 0., 0., 0., 0., 0., 0., 0., 0., 0., 0., 0., 0., 0., 0.,\n",
              "       0., 0., 0., 0., 0., 0., 0., 0., 0., 0., 0., 0., 0., 0., 0., 0., 0.,\n",
              "       0., 0., 0., 0., 0., 0., 0., 0., 0., 0., 0., 0., 0., 0., 0.])"
            ]
          },
          "metadata": {},
          "execution_count": 140
        }
      ]
    },
    {
      "cell_type": "code",
      "source": [
        "id_to_word[31]#- center word"
      ],
      "metadata": {
        "colab": {
          "base_uri": "https://localhost:8080/",
          "height": 35
        },
        "id": "htXjF2M0aKrs",
        "outputId": "4607b2e8-1693-4a19-8f9a-16d2c02687be"
      },
      "execution_count": 144,
      "outputs": [
        {
          "output_type": "execute_result",
          "data": {
            "text/plain": [
              "'career'"
            ],
            "application/vnd.google.colaboratory.intrinsic+json": {
              "type": "string"
            }
          },
          "metadata": {},
          "execution_count": 144
        }
      ]
    },
    {
      "cell_type": "code",
      "source": [
        "id_to_word[65]##- context word"
      ],
      "metadata": {
        "colab": {
          "base_uri": "https://localhost:8080/",
          "height": 35
        },
        "id": "2CDscoOqfbKz",
        "outputId": "81ac5685-7cf8-467f-9a84-e623b22d5f71"
      },
      "execution_count": 146,
      "outputs": [
        {
          "output_type": "execute_result",
          "data": {
            "text/plain": [
              "'milestone'"
            ],
            "application/vnd.google.colaboratory.intrinsic+json": {
              "type": "string"
            }
          },
          "metadata": {},
          "execution_count": 146
        }
      ]
    },
    {
      "cell_type": "markdown",
      "source": [
        "FORWARD PROPOGATION\n",
        "\n",
        "assin W1\n",
        " - dot product of input vector . W1= embedding vector of size embedding dim- this is called as hidden layer\n",
        " - assign W2 of size (embedding dim , vocab_size) to have vector of size of context word. this is called output layer\n",
        " -"
      ],
      "metadata": {
        "id": "qadWH4GofqCe"
      }
    },
    {
      "cell_type": "code",
      "source": [
        "def forward_propogation(**args):\n",
        "  embedding_dim=5\n",
        "\n",
        "  embedding_vec = np.dot(center_one_hot_vector,W1)\n",
        "  output_layer = np.dot(embedding_vec,W2)\n",
        "  softmax_fuction= softmax(output_layer)\n",
        "  return W1,W2,embedding_vec,output_layer,softmax_fuction\n",
        "\n",
        "\n",
        "def softmax(output_layer):\n",
        "  num = np.exp(output_layer-max(output_layer))\n",
        "  return num/num.sum()\n",
        "\n",
        "\n",
        "\n",
        "\n"
      ],
      "metadata": {
        "id": "NtB0GwR8fc-X"
      },
      "execution_count": 28,
      "outputs": []
    },
    {
      "cell_type": "code",
      "source": [
        "W1,W2,embedding_vec,output_layer,softmax_fuction= forward_propogation(center_one_hot_vector=center_one_hot_vector,vocab=vocab)"
      ],
      "metadata": {
        "id": "LWgSeI_KhQru"
      },
      "execution_count": 157,
      "outputs": []
    },
    {
      "cell_type": "code",
      "source": [
        "embedding_vec"
      ],
      "metadata": {
        "colab": {
          "base_uri": "https://localhost:8080/"
        },
        "id": "zkrLtnS_hbAp",
        "outputId": "81a820ae-2693-4373-c634-88ab506b00b9"
      },
      "execution_count": 159,
      "outputs": [
        {
          "output_type": "execute_result",
          "data": {
            "text/plain": [
              "array([ 0.20007821, -0.86559855,  1.72855662, -2.21840399, -0.82192282])"
            ]
          },
          "metadata": {},
          "execution_count": 159
        }
      ]
    },
    {
      "cell_type": "code",
      "source": [
        "output_layer"
      ],
      "metadata": {
        "colab": {
          "base_uri": "https://localhost:8080/"
        },
        "id": "mnOAKUoXhjcg",
        "outputId": "8677a88d-ad0b-4464-ddfe-aacaf147b861"
      },
      "execution_count": 161,
      "outputs": [
        {
          "output_type": "execute_result",
          "data": {
            "text/plain": [
              "array([-0.55528955,  0.42691176,  1.35699154, -5.9695246 ,  0.00958305,\n",
              "       -3.49971012, -0.23502432, -2.83038231,  1.46284513,  1.57119085,\n",
              "        5.96533546,  1.88166291,  1.9004497 , -0.42270808,  1.84137823,\n",
              "       -1.06568837, -3.19457354, -2.85379742, -2.36349738,  1.57615882,\n",
              "        2.8704255 ,  3.239378  , -1.00483262, -0.64204785, -0.87307435,\n",
              "        2.5430077 ,  3.93214951, -1.2479524 , -3.64401635,  0.74708934,\n",
              "        0.97812291, -3.40693009,  3.93824027, -7.12640297,  3.72401095,\n",
              "        0.071676  , -3.86451957, -5.89107073, -0.250253  , -3.49706213,\n",
              "        1.75563656, -1.33541457,  0.86007111,  3.39935985,  3.29107177,\n",
              "       -4.27837961, -0.6692946 , -1.74380832, -5.86174007,  1.15767123,\n",
              "        4.2217092 ,  0.61949023, -0.76920447, -0.46524295,  3.87965013,\n",
              "       -1.26580097,  0.73451695,  0.02176362,  3.28883119, -1.39082802,\n",
              "       -1.61201726, -0.17481653,  2.85209335, -7.25637837,  2.4663388 ,\n",
              "       -4.82589519,  9.1666884 , -4.65503248,  6.27774727,  1.55441746,\n",
              "        0.20842148,  3.11113982, -0.22416599,  1.29008521,  0.86521484,\n",
              "       -2.67251121,  1.28416283,  4.14409575, -1.18379349,  4.95021319,\n",
              "        3.70692659, -1.27106356, -6.94288826,  4.64632588,  3.23508473,\n",
              "       -2.06847836,  0.41988283,  1.32097991,  5.88850841,  2.00690526,\n",
              "        6.04754769, -0.77749714, -0.79200985,  3.44603666, -2.84285912,\n",
              "       -2.52581392, -1.87470948,  1.66034097, -1.52168106, -1.42885515])"
            ]
          },
          "metadata": {},
          "execution_count": 161
        }
      ]
    },
    {
      "cell_type": "markdown",
      "source": [
        "This is the propability of all the words in the vocab. Now our context word id is 65 . so we can check the probability of context word 65"
      ],
      "metadata": {
        "id": "vt3s8o2liRE7"
      }
    },
    {
      "cell_type": "code",
      "source": [
        "softmax_fuction[65]"
      ],
      "metadata": {
        "colab": {
          "base_uri": "https://localhost:8080/"
        },
        "id": "YPNEWOdfh6SB",
        "outputId": "659c3717-b6d4-4337-9b9b-8dcb4d8e0be8"
      },
      "execution_count": 163,
      "outputs": [
        {
          "output_type": "execute_result",
          "data": {
            "text/plain": [
              "np.float64(6.549564106548662e-07)"
            ]
          },
          "metadata": {},
          "execution_count": 163
        }
      ]
    },
    {
      "cell_type": "code",
      "source": [
        "6.549564106548662e-07*100"
      ],
      "metadata": {
        "colab": {
          "base_uri": "https://localhost:8080/"
        },
        "id": "SDOjJhGoh8w9",
        "outputId": "a6cf8e72-8ade-49f7-a723-0c6cecffae16"
      },
      "execution_count": 165,
      "outputs": [
        {
          "output_type": "execute_result",
          "data": {
            "text/plain": [
              "6.549564106548662e-05"
            ]
          },
          "metadata": {},
          "execution_count": 165
        }
      ]
    },
    {
      "cell_type": "markdown",
      "source": [
        "CALCULATE THE LOSS FUNCTION"
      ],
      "metadata": {
        "id": "DCGGJLR7kMo8"
      }
    },
    {
      "cell_type": "code",
      "source": [
        "loss = -np.log(softmax_fuction[context_word_id])"
      ],
      "metadata": {
        "id": "jhS67tHmijVl"
      },
      "execution_count": 167,
      "outputs": []
    },
    {
      "cell_type": "markdown",
      "source": [
        "We can see that the loss is very high. now we need to reduce this loss"
      ],
      "metadata": {
        "id": "5cC6CyavkZ46"
      }
    },
    {
      "cell_type": "code",
      "source": [
        "loss"
      ],
      "metadata": {
        "colab": {
          "base_uri": "https://localhost:8080/"
        },
        "id": "OOl_UKLikU2B",
        "outputId": "3cd89218-c96c-4251-c042-cd773c10cdf2"
      },
      "execution_count": 168,
      "outputs": [
        {
          "output_type": "execute_result",
          "data": {
            "text/plain": [
              "np.float64(14.238697152144141)"
            ]
          },
          "metadata": {},
          "execution_count": 168
        }
      ]
    },
    {
      "cell_type": "markdown",
      "source": [
        "# **Gradient descent**"
      ],
      "metadata": {
        "id": "kXPWOdQ3kfFT"
      }
    },
    {
      "cell_type": "markdown",
      "source": [
        "📦 Total Loss:\n",
        "If the center word has multiple context words, like in a window size of 2 (so maybe 4 context words total: two on the left and two on the right), you compute this loss for each context word individually, then:\n",
        "\n",
        "Total Loss\n",
        "=\n",
        "∑\n",
        "𝑖\n",
        "=\n",
        "1\n",
        "𝐶\n",
        "𝐿\n",
        "𝑖\n",
        "Total Loss=\n",
        "i=1\n",
        "∑\n",
        "C\n",
        "​\n",
        " L\n",
        "i\n",
        "​\n",
        "\n",
        "Where:\n",
        "\n",
        "𝐶\n",
        "C is the number of context words,\n",
        "\n",
        "𝐿\n",
        "𝑖\n",
        "L\n",
        "i\n",
        "​\n",
        "  is the loss for the\n",
        "𝑖\n",
        "𝑡\n",
        "ℎ\n",
        "i\n",
        "th\n",
        "  (center, context) pair.\n",
        "\n"
      ],
      "metadata": {
        "id": "7GkPluWZ5-dO"
      }
    },
    {
      "cell_type": "markdown",
      "source": [
        "![Screenshot 2025-04-16 at 1.27.04 PM.png](data:image/png;base64,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)"
      ],
      "metadata": {
        "id": "5WCI2PWb68NR"
      }
    },
    {
      "cell_type": "code",
      "source": [],
      "metadata": {
        "id": "Gdrn5InJ7bFs"
      },
      "execution_count": null,
      "outputs": []
    },
    {
      "cell_type": "code",
      "source": [
        "def gradient_descent(**args):\n",
        "  # calculating dl/du- this is softmax+cross entropy\n",
        "  du=  softmax_fuction-context_one_hot_vector #(ypred-ytrue)\n",
        "\n",
        "  # calculating dw2\n",
        "  # dl/dw2= dl/du * du/dw2\n",
        "  #u = hidden_kayer_output(dim 5,) * W2\n",
        "  # du/dw2= h\n",
        "  #100,5\n",
        "\n",
        "\n",
        "  dw2= np.outer(embedding_vec,du  )\n",
        "\n",
        "  # calculating dembeiing layer output\n",
        "  # dl/dh= dl/du * du/dw2 * dw2/dh(this is not logical) --> dl/du* du/dh\n",
        "  #u = hidden_kayer_output(dim  5) * W2\n",
        "  # du/dh= w2\n",
        "  dh= np.dot(W2,du )\n",
        "\n",
        "  # calculating  W1\n",
        "  # dl/dW1=dl/du* du/dh * DH/DW1\n",
        "  #h = inputvector * w1\n",
        "  #dh/dw1= imputvector\n",
        "  dw1= np.outer(center_one_hot_vector,dh)\n",
        "\n",
        "\n",
        "  return du,dw2,dh,dw1\n",
        "\n",
        "\n",
        "\n",
        "\n",
        "def update_weights(W1,W2,dw2,dw1,learning_rate = 0.001):\n",
        "  W1= W1- learning_rate * dw1\n",
        "  W2= W2- learning_rate * dw2\n",
        "  return W1,W2\n",
        "\n",
        "import numpy as np"
      ],
      "metadata": {
        "id": "VQ7jqnemkWiH"
      },
      "execution_count": 49,
      "outputs": []
    },
    {
      "cell_type": "code",
      "source": [
        "embedding_dim=5\n",
        "\n",
        "W1= np.random.randn(len(vocab),embedding_dim)\n",
        "W2= np.random.randn(embedding_dim,len(vocab))\n",
        "for epoch in range(2000):\n",
        "\n",
        "  W1,W2,embedding_vec,output_layer,softmax_fuction=forward_propogation(W1=W1,W2=W2,center_one_hot_vector=center_one_hot_vector,vocab=vocab)\n",
        "  du,dw2,dh,dw1= gradient_descent(W1=W1,W2=W2,embedding_vec=embedding_vec,output_layer=output_layer,softmax_fuction=softmax_fuction,center_one_hot_vector=center_one_hot_vector,context_one_hot_vector=context_one_hot_vector)\n",
        "  W1,W2= update_weights(W1,W2,dw2,dw1)\n",
        "  print(\"Loss:\", -np.log(softmax_fuction[65]))\n",
        "\n",
        "\n"
      ],
      "metadata": {
        "colab": {
          "base_uri": "https://localhost:8080/"
        },
        "id": "JWKWOrIh-E_V",
        "outputId": "c27e047b-2bfb-456f-f545-2f6e34751dc3"
      },
      "execution_count": 99,
      "outputs": [
        {
          "output_type": "stream",
          "name": "stdout",
          "text": [
            "Loss: 7.287858967179259\n",
            "Loss: 7.283519592684024\n",
            "Loss: 7.279190782690242\n",
            "Loss: 7.274872512786865\n",
            "Loss: 7.270564758650977\n",
            "Loss: 7.266267496047206\n",
            "Loss: 7.2619807008271415\n",
            "Loss: 7.257704348928755\n",
            "Loss: 7.253438416375833\n",
            "Loss: 7.249182879277408\n",
            "Loss: 7.2449377138271975\n",
            "Loss: 7.240702896303052\n",
            "Loss: 7.236478403066404\n",
            "Loss: 7.232264210561728\n",
            "Loss: 7.228060295315993\n",
            "Loss: 7.223866633938143\n",
            "Loss: 7.219683203118557\n",
            "Loss: 7.215509979628536\n",
            "Loss: 7.2113469403197765\n",
            "Loss: 7.20719406212387\n",
            "Loss: 7.203051322051782\n",
            "Loss: 7.198918697193364\n",
            "Loss: 7.194796164716844\n",
            "Loss: 7.190683701868342\n",
            "Loss: 7.186581285971382\n",
            "Loss: 7.182488894426406\n",
            "Loss: 7.178406504710296\n",
            "Loss: 7.174334094375906\n",
            "Loss: 7.17027164105159\n",
            "Loss: 7.166219122440736\n",
            "Loss: 7.16217651632131\n",
            "Loss: 7.158143800545401\n",
            "Loss: 7.154120953038767\n",
            "Loss: 7.150107951800394\n",
            "Loss: 7.146104774902052\n",
            "Loss: 7.142111400487859\n",
            "Loss: 7.138127806773841\n",
            "Loss: 7.134153972047513\n",
            "Loss: 7.130189874667451\n",
            "Loss: 7.126235493062868\n",
            "Loss: 7.1222908057332015\n",
            "Loss: 7.1183557912477005\n",
            "Loss: 7.114430428245014\n",
            "Loss: 7.1105146954327925\n",
            "Loss: 7.106608571587282\n",
            "Loss: 7.102712035552931\n",
            "Loss: 7.0988250662419965\n",
            "Loss: 7.094947642634153\n",
            "Loss: 7.0910797437761115\n",
            "Loss: 7.087221348781238\n",
            "Loss: 7.083372436829168\n",
            "Loss: 7.079532987165446\n",
            "Loss: 7.07570297910114\n",
            "Loss: 7.071882392012488\n",
            "Loss: 7.068071205340525\n",
            "Loss: 7.06426939859073\n",
            "Loss: 7.060476951332664\n",
            "Loss: 7.0566938431996205\n",
            "Loss: 7.0529200538882755\n",
            "Loss: 7.049155563158342\n",
            "Loss: 7.045400350832224\n",
            "Loss: 7.04165439679468\n",
            "Loss: 7.0379176809924875\n",
            "Loss: 7.034190183434106\n",
            "Loss: 7.030471884189352\n",
            "Loss: 7.026762763389066\n",
            "Loss: 7.023062801224798\n",
            "Loss: 7.019371977948475\n",
            "Loss: 7.015690273872094\n",
            "Loss: 7.012017669367406\n",
            "Loss: 7.0083541448656\n",
            "Loss: 7.004699680856994\n",
            "Loss: 7.001054257890737\n",
            "Loss: 6.997417856574501\n",
            "Loss: 6.993790457574177\n",
            "Loss: 6.990172041613594\n",
            "Loss: 6.986562589474202\n",
            "Loss: 6.982962081994801\n",
            "Loss: 6.97937050007124\n",
            "Loss: 6.975787824656138\n",
            "Loss: 6.972214036758597\n",
            "Loss: 6.968649117443924\n",
            "Loss: 6.965093047833353\n",
            "Loss: 6.9615458091037645\n",
            "Loss: 6.958007382487423\n",
            "Loss: 6.9544777492717\n",
            "Loss: 6.950956890798803\n",
            "Loss: 6.947444788465524\n",
            "Loss: 6.943941423722962\n",
            "Loss: 6.9404467780762715\n",
            "Loss: 6.936960833084404\n",
            "Loss: 6.933483570359851\n",
            "Loss: 6.930014971568391\n",
            "Loss: 6.926555018428841\n",
            "Loss: 6.923103692712807\n",
            "Loss: 6.919660976244441\n",
            "Loss: 6.916226850900191\n",
            "Loss: 6.912801298608566\n",
            "Loss: 6.909384301349897\n",
            "Loss: 6.905975841156094\n",
            "Loss: 6.902575900110418\n",
            "Loss: 6.899184460347246\n",
            "Loss: 6.895801504051841\n",
            "Loss: 6.892427013460124\n",
            "Loss: 6.889060970858446\n",
            "Loss: 6.885703358583367\n",
            "Loss: 6.882354159021432\n",
            "Loss: 6.879013354608953\n",
            "Loss: 6.875680927831791\n",
            "Loss: 6.872356861225135\n",
            "Loss: 6.869041137373297\n",
            "Loss: 6.865733738909495\n",
            "Loss: 6.86243464851564\n",
            "Loss: 6.859143848922134\n",
            "Loss: 6.8558613229076615\n",
            "Loss: 6.8525870532989845\n",
            "Loss: 6.849321022970738\n",
            "Loss: 6.846063214845238\n",
            "Loss: 6.842813611892271\n",
            "Loss: 6.839572197128902\n",
            "Loss: 6.836338953619286\n",
            "Loss: 6.8331138644744644\n",
            "Loss: 6.829896912852175\n",
            "Loss: 6.826688081956669\n",
            "Loss: 6.823487355038516\n",
            "Loss: 6.82029471539442\n",
            "Loss: 6.817110146367032\n",
            "Loss: 6.813933631344772\n",
            "Loss: 6.810765153761641\n",
            "Loss: 6.807604697097047\n",
            "Loss: 6.80445224487562\n",
            "Loss: 6.8013077806670434\n",
            "Loss: 6.798171288085869\n",
            "Loss: 6.795042750791352\n",
            "Loss: 6.7919221524872775\n",
            "Loss: 6.788809476921779\n",
            "Loss: 6.785704707887188\n",
            "Loss: 6.78260782921985\n",
            "Loss: 6.7795188247999665\n",
            "Loss: 6.776437678551426\n",
            "Loss: 6.773364374441647\n",
            "Loss: 6.770298896481412\n",
            "Loss: 6.767241228724704\n",
            "Loss: 6.764191355268551\n",
            "Loss: 6.76114926025287\n",
            "Loss: 6.75811492786031\n",
            "Loss: 6.755088342316093\n",
            "Loss: 6.75206948788786\n",
            "Loss: 6.749058348885532\n",
            "Loss: 6.7460549096611375\n",
            "Loss: 6.743059154608682\n",
            "Loss: 6.740071068163989\n",
            "Loss: 6.737090634804554\n",
            "Loss: 6.734117839049405\n",
            "Loss: 6.73115266545895\n",
            "Loss: 6.728195098634836\n",
            "Loss: 6.725245123219808\n",
            "Loss: 6.722302723897571\n",
            "Loss: 6.719367885392643\n",
            "Loss: 6.71644059247022\n",
            "Loss: 6.713520829936044\n",
            "Loss: 6.710608582636255\n",
            "Loss: 6.707703835457267\n",
            "Loss: 6.704806573325626\n",
            "Loss: 6.701916781207884\n",
            "Loss: 6.69903444411046\n",
            "Loss: 6.696159547079515\n",
            "Loss: 6.69329207520082\n",
            "Loss: 6.6904320135996285\n",
            "Loss: 6.687579347440549\n",
            "Loss: 6.684734061927411\n",
            "Loss: 6.681896142303159\n",
            "Loss: 6.679065573849704\n",
            "Loss: 6.676242341887817\n",
            "Loss: 6.673426431777\n",
            "Loss: 6.670617828915368\n",
            "Loss: 6.6678165187395235\n",
            "Loss: 6.6650224867244425\n",
            "Loss: 6.662235718383354\n",
            "Loss: 6.659456199267618\n",
            "Loss: 6.656683914966619\n",
            "Loss: 6.653918851107641\n",
            "Loss: 6.651160993355757\n",
            "Loss: 6.648410327413715\n",
            "Loss: 6.645666839021823\n",
            "Loss: 6.642930513957841\n",
            "Loss: 6.640201338036869\n",
            "Loss: 6.637479297111228\n",
            "Loss: 6.634764377070364\n",
            "Loss: 6.632056563840733\n",
            "Loss: 6.6293558433856905\n",
            "Loss: 6.626662201705392\n",
            "Loss: 6.62397562483668\n",
            "Loss: 6.621296098852981\n",
            "Loss: 6.618623609864204\n",
            "Loss: 6.615958144016632\n",
            "Loss: 6.613299687492826\n",
            "Loss: 6.610648226511513\n",
            "Loss: 6.608003747327496\n",
            "Loss: 6.605366236231543\n",
            "Loss: 6.602735679550297\n",
            "Loss: 6.6001120636461685\n",
            "Loss: 6.597495374917245\n",
            "Loss: 6.594885599797185\n",
            "Loss: 6.592282724755131\n",
            "Loss: 6.5896867362956035\n",
            "Loss: 6.5870976209584144\n",
            "Loss: 6.584515365318566\n",
            "Loss: 6.581939955986161\n",
            "Loss: 6.579371379606307\n",
            "Loss: 6.576809622859024\n",
            "Loss: 6.574254672459154\n",
            "Loss: 6.57170651515627\n",
            "Loss: 6.5691651377345845\n",
            "Loss: 6.566630527012856\n",
            "Loss: 6.564102669844308\n",
            "Loss: 6.5615815531165325\n",
            "Loss: 6.559067163751405\n",
            "Loss: 6.556559488705001\n",
            "Loss: 6.554058514967499\n",
            "Loss: 6.551564229563107\n",
            "Loss: 6.549076619549968\n",
            "Loss: 6.546595672020077\n",
            "Loss: 6.544121374099199\n",
            "Loss: 6.541653712946783\n",
            "Loss: 6.5391926757558805\n",
            "Loss: 6.5367382497530615\n",
            "Loss: 6.53429042219833\n",
            "Loss: 6.53184918038505\n",
            "Loss: 6.529414511639857\n",
            "Loss: 6.52698640332258\n",
            "Loss: 6.5245648428261624\n",
            "Loss: 6.522149817576587\n",
            "Loss: 6.519741315032785\n",
            "Loss: 6.5173393226865715\n",
            "Loss: 6.514943828062558\n",
            "Loss: 6.5125548187180815\n",
            "Loss: 6.510172282243122\n",
            "Loss: 6.507796206260232\n",
            "Loss: 6.505426578424457\n",
            "Loss: 6.503063386423261\n",
            "Loss: 6.500706617976455\n",
            "Loss: 6.498356260836116\n",
            "Loss: 6.496012302786519\n",
            "Loss: 6.493674731644063\n",
            "Loss: 6.4913435352571955\n",
            "Loss: 6.48901870150634\n",
            "Loss: 6.48670021830383\n",
            "Loss: 6.484388073593828\n",
            "Loss: 6.482082255352266\n",
            "Loss: 6.479782751586763\n",
            "Loss: 6.477489550336563\n",
            "Loss: 6.475202639672462\n",
            "Loss: 6.472922007696741\n",
            "Loss: 6.470647642543092\n",
            "Loss: 6.468379532376558\n",
            "Loss: 6.466117665393456\n",
            "Loss: 6.463862029821316\n",
            "Loss: 6.461612613918809\n",
            "Loss: 6.459369405975684\n",
            "Loss: 6.457132394312702\n",
            "Loss: 6.454901567281564\n",
            "Loss: 6.452676913264852\n",
            "Loss: 6.450458420675959\n",
            "Loss: 6.448246077959029\n",
            "Loss: 6.446039873588889\n",
            "Loss: 6.443839796070985\n",
            "Loss: 6.441645833941317\n",
            "Loss: 6.439457975766382\n",
            "Loss: 6.437276210143103\n",
            "Loss: 6.435100525698771\n",
            "Loss: 6.432930911090982\n",
            "Loss: 6.430767355007574\n",
            "Loss: 6.428609846166565\n",
            "Loss: 6.426458373316094\n",
            "Loss: 6.42431292523436\n",
            "Loss: 6.4221734907295565\n",
            "Loss: 6.4200400586398185\n",
            "Loss: 6.417912617833158\n",
            "Loss: 6.415791157207403\n",
            "Loss: 6.413675665690144\n",
            "Loss: 6.41156613223867\n",
            "Loss: 6.409462545839912\n",
            "Loss: 6.407364895510383\n",
            "Loss: 6.4052731702961205\n",
            "Loss: 6.403187359272633\n",
            "Loss: 6.401107451544836\n",
            "Loss: 6.399033436246999\n",
            "Loss: 6.396965302542685\n",
            "Loss: 6.394903039624701\n",
            "Loss: 6.392846636715035\n",
            "Loss: 6.390796083064801\n",
            "Loss: 6.388751367954187\n",
            "Loss: 6.386712480692395\n",
            "Loss: 6.384679410617592\n",
            "Loss: 6.382652147096847\n",
            "Loss: 6.380630679526083\n",
            "Loss: 6.378614997330022\n",
            "Loss: 6.376605089962126\n",
            "Loss: 6.374600946904551\n",
            "Loss: 6.372602557668087\n",
            "Loss: 6.370609911792107\n",
            "Loss: 6.368622998844514\n",
            "Loss: 6.366641808421691\n",
            "Loss: 6.364666330148444\n",
            "Loss: 6.362696553677954\n",
            "Loss: 6.360732468691719\n",
            "Loss: 6.358774064899511\n",
            "Loss: 6.356821332039317\n",
            "Loss: 6.354874259877292\n",
            "Loss: 6.352932838207706\n",
            "Loss: 6.350997056852894\n",
            "Loss: 6.349066905663207\n",
            "Loss: 6.3471423745169595\n",
            "Loss: 6.345223453320378\n",
            "Loss: 6.343310132007558\n",
            "Loss: 6.3414024005404075\n",
            "Loss: 6.339500248908597\n",
            "Loss: 6.33760366712952\n",
            "Loss: 6.3357126452482335\n",
            "Loss: 6.333827173337414\n",
            "Loss: 6.331947241497309\n",
            "Loss: 6.330072839855688\n",
            "Loss: 6.328203958567795\n",
            "Loss: 6.326340587816301\n",
            "Loss: 6.324482717811254\n",
            "Loss: 6.322630338790035\n",
            "Loss: 6.320783441017311\n",
            "Loss: 6.318942014784983\n",
            "Loss: 6.317106050412144\n",
            "Loss: 6.31527553824503\n",
            "Loss: 6.313450468656978\n",
            "Loss: 6.3116308320483725\n",
            "Loss: 6.309816618846606\n",
            "Loss: 6.308007819506028\n",
            "Loss: 6.306204424507907\n",
            "Loss: 6.304406424360376\n",
            "Loss: 6.302613809598392\n",
            "Loss: 6.300826570783694\n",
            "Loss: 6.2990446985047495\n",
            "Loss: 6.297268183376719\n",
            "Loss: 6.295497016041406\n",
            "Loss: 6.293731187167215\n",
            "Loss: 6.291970687449108\n",
            "Loss: 6.290215507608556\n",
            "Loss: 6.288465638393502\n",
            "Loss: 6.286721070578314\n",
            "Loss: 6.284981794963738\n",
            "Loss: 6.283247802376863\n",
            "Loss: 6.281519083671072\n",
            "Loss: 6.279795629726001\n",
            "Loss: 6.278077431447495\n",
            "Loss: 6.276364479767567\n",
            "Loss: 6.274656765644357\n",
            "Loss: 6.272954280062085\n",
            "Loss: 6.271257014031015\n",
            "Loss: 6.269564958587408\n",
            "Loss: 6.267878104793485\n",
            "Loss: 6.266196443737379\n",
            "Loss: 6.264519966533104\n",
            "Loss: 6.262848664320503\n",
            "Loss: 6.261182528265212\n",
            "Loss: 6.25952154955862\n",
            "Loss: 6.257865719417827\n",
            "Loss: 6.256215029085603\n",
            "Loss: 6.254569469830349\n",
            "Loss: 6.252929032946053\n",
            "Loss: 6.251293709752258\n",
            "Loss: 6.2496634915940135\n",
            "Loss: 6.248038369841839\n",
            "Loss: 6.246418335891686\n",
            "Loss: 6.244803381164898\n",
            "Loss: 6.243193497108168\n",
            "Loss: 6.241588675193503\n",
            "Loss: 6.239988906918185\n",
            "Loss: 6.238394183804728\n",
            "Loss: 6.236804497400846\n",
            "Loss: 6.235219839279408\n",
            "Loss: 6.233640201038402\n",
            "Loss: 6.232065574300899\n",
            "Loss: 6.230495950715011\n",
            "Loss: 6.228931321953858\n",
            "Loss: 6.227371679715522\n",
            "Loss: 6.225817015723021\n",
            "Loss: 6.224267321724258\n",
            "Loss: 6.222722589491997\n",
            "Loss: 6.221182810823813\n",
            "Loss: 6.219647977542068\n",
            "Loss: 6.218118081493863\n",
            "Loss: 6.216593114551004\n",
            "Loss: 6.215073068609971\n",
            "Loss: 6.213557935591873\n",
            "Loss: 6.21204770744242\n",
            "Loss: 6.210542376131879\n",
            "Loss: 6.209041933655042\n",
            "Loss: 6.2075463720311905\n",
            "Loss: 6.206055683304058\n",
            "Loss: 6.204569859541795\n",
            "Loss: 6.203088892836932\n",
            "Loss: 6.201612775306346\n",
            "Loss: 6.200141499091225\n",
            "Loss: 6.198675056357031\n",
            "Loss: 6.197213439293467\n",
            "Loss: 6.19575664011444\n",
            "Loss: 6.19430465105803\n",
            "Loss: 6.192857464386451\n",
            "Loss: 6.191415072386017\n",
            "Loss: 6.189977467367112\n",
            "Loss: 6.1885446416641505\n",
            "Loss: 6.187116587635544\n",
            "Loss: 6.185693297663674\n",
            "Loss: 6.1842747641548454\n",
            "Loss: 6.182860979539266\n",
            "Loss: 6.181451936271006\n",
            "Loss: 6.18004762682796\n",
            "Loss: 6.178648043711826\n",
            "Loss: 6.17725317944806\n",
            "Loss: 6.175863026585854\n",
            "Loss: 6.174477577698092\n",
            "Loss: 6.173096825381323\n",
            "Loss: 6.17172076225573\n",
            "Loss: 6.170349380965096\n",
            "Loss: 6.168982674176766\n",
            "Loss: 6.167620634581622\n",
            "Loss: 6.16626325489405\n",
            "Loss: 6.164910527851903\n",
            "Loss: 6.163562446216475\n",
            "Loss: 6.1622190027724635\n",
            "Loss: 6.160880190327943\n",
            "Loss: 6.159546001714331\n",
            "Loss: 6.158216429786354\n",
            "Loss: 6.1568914674220245\n",
            "Loss: 6.155571107522598\n",
            "Loss: 6.154255343012552\n",
            "Loss: 6.152944166839551\n",
            "Loss: 6.1516375719744145\n",
            "Loss: 6.1503355514110885\n",
            "Loss: 6.149038098166616\n",
            "Loss: 6.147745205281103\n",
            "Loss: 6.146456865817689\n",
            "Loss: 6.145173072862523\n",
            "Loss: 6.143893819524721\n",
            "Loss: 6.142619098936351\n",
            "Loss: 6.141348904252391\n",
            "Loss: 6.140083228650705\n",
            "Loss: 6.138822065332013\n",
            "Loss: 6.137565407519862\n",
            "Loss: 6.136313248460594\n",
            "Loss: 6.13506558142332\n",
            "Loss: 6.1338223996998895\n",
            "Loss: 6.132583696604861\n",
            "Loss: 6.131349465475476\n",
            "Loss: 6.130119699671626\n",
            "Loss: 6.128894392575827\n",
            "Loss: 6.127673537593194\n",
            "Loss: 6.126457128151402\n",
            "Loss: 6.125245157700671\n",
            "Loss: 6.12403761971373\n",
            "Loss: 6.122834507685791\n",
            "Loss: 6.121635815134522\n",
            "Loss: 6.120441535600018\n",
            "Loss: 6.119251662644776\n",
            "Loss: 6.118066189853662\n",
            "Loss: 6.11688511083389\n",
            "Loss: 6.115708419214997\n",
            "Loss: 6.114536108648801\n",
            "Loss: 6.113368172809395\n",
            "Loss: 6.112204605393102\n",
            "Loss: 6.111045400118461\n",
            "Loss: 6.109890550726194\n",
            "Loss: 6.10874005097918\n",
            "Loss: 6.107593894662435\n",
            "Loss: 6.106452075583075\n",
            "Loss: 6.105314587570298\n",
            "Loss: 6.1041814244753585\n",
            "Loss: 6.1030525801715365\n",
            "Loss: 6.101928048554118\n",
            "Loss: 6.10080782354036\n",
            "Loss: 6.09969189906948\n",
            "Loss: 6.098580269102615\n",
            "Loss: 6.097472927622809\n",
            "Loss: 6.096369868634979\n",
            "Loss: 6.095271086165897\n",
            "Loss: 6.094176574264159\n",
            "Loss: 6.093086327000166\n",
            "Loss: 6.092000338466097\n",
            "Loss: 6.090918602775883\n",
            "Loss: 6.089841114065188\n",
            "Loss: 6.088767866491379\n",
            "Loss: 6.087698854233506\n",
            "Loss: 6.086634071492276\n",
            "Loss: 6.085573512490033\n",
            "Loss: 6.084517171470728\n",
            "Loss: 6.083465042699903\n",
            "Loss: 6.08241712046466\n",
            "Loss: 6.081373399073648\n",
            "Loss: 6.080333872857029\n",
            "Loss: 6.079298536166462\n",
            "Loss: 6.078267383375079\n",
            "Loss: 6.0772404088774605\n",
            "Loss: 6.076217607089617\n",
            "Loss: 6.07519897244896\n",
            "Loss: 6.074184499414289\n",
            "Loss: 6.0731741824657615\n",
            "Loss: 6.072168016104873\n",
            "Loss: 6.071165994854436\n",
            "Loss: 6.070168113258563\n",
            "Loss: 6.069174365882637\n",
            "Loss: 6.068184747313293\n",
            "Loss: 6.067199252158399\n",
            "Loss: 6.066217875047031\n",
            "Loss: 6.065240610629458\n",
            "Loss: 6.064267453577114\n",
            "Loss: 6.0632983985825835\n",
            "Loss: 6.062333440359576\n",
            "Loss: 6.061372573642907\n",
            "Loss: 6.060415793188483\n",
            "Loss: 6.05946309377327\n",
            "Loss: 6.058514470195287\n",
            "Loss: 6.057569917273575\n",
            "Loss: 6.056629429848183\n",
            "Loss: 6.055693002780148\n",
            "Loss: 6.054760630951473\n",
            "Loss: 6.05383230926511\n",
            "Loss: 6.05290803264494\n",
            "Loss: 6.051987796035754\n",
            "Loss: 6.051071594403235\n",
            "Loss: 6.050159422733937\n",
            "Loss: 6.049251276035268\n",
            "Loss: 6.048347149335473\n",
            "Loss: 6.047447037683612\n",
            "Loss: 6.0465509361495435\n",
            "Loss: 6.0456588398239095\n",
            "Loss: 6.044770743818111\n",
            "Loss: 6.0438866432642975\n",
            "Loss: 6.043006533315344\n",
            "Loss: 6.0421304091448365\n",
            "Loss: 6.041258265947051\n",
            "Loss: 6.040390098936943\n",
            "Loss: 6.039525903350121\n",
            "Loss: 6.038665674442842\n",
            "Loss: 6.037809407491981\n",
            "Loss: 6.036957097795025\n",
            "Loss: 6.036108740670049\n",
            "Loss: 6.03526433145571\n",
            "Loss: 6.034423865511217\n",
            "Loss: 6.033587338216324\n",
            "Loss: 6.032754744971315\n",
            "Loss: 6.031926081196981\n",
            "Loss: 6.031101342334613\n",
            "Loss: 6.03028052384598\n",
            "Loss: 6.029463621213317\n",
            "Loss: 6.028650629939308\n",
            "Loss: 6.027841545547072\n",
            "Loss: 6.02703636358015\n",
            "Loss: 6.026235079602485\n",
            "Loss: 6.025437689198415\n",
            "Loss: 6.024644187972651\n",
            "Loss: 6.023854571550268\n",
            "Loss: 6.023068835576687\n",
            "Loss: 6.022286975717666\n",
            "Loss: 6.02150898765928\n",
            "Loss: 6.020734867107916\n",
            "Loss: 6.0199646097902475\n",
            "Loss: 6.019198211453231\n",
            "Loss: 6.018435667864091\n",
            "Loss: 6.017676974810303\n",
            "Loss: 6.016922128099585\n",
            "Loss: 6.016171123559881\n",
            "Loss: 6.015423957039353\n",
            "Loss: 6.014680624406363\n",
            "Loss: 6.013941121549466\n",
            "Loss: 6.013205444377393\n",
            "Loss: 6.012473588819044\n",
            "Loss: 6.0117455508234725\n",
            "Loss: 6.011021326359876\n",
            "Loss: 6.010300911417581\n",
            "Loss: 6.009584302006037\n",
            "Loss: 6.008871494154802\n",
            "Loss: 6.008162483913528\n",
            "Loss: 6.0074572673519615\n",
            "Loss: 6.006755840559919\n",
            "Loss: 6.006058199647284\n",
            "Loss: 6.005364340743997\n",
            "Loss: 6.0046742600000425\n",
            "Loss: 6.003987953585441\n",
            "Loss: 6.003305417690236\n",
            "Loss: 6.002626648524489\n",
            "Loss: 6.001951642318263\n",
            "Loss: 6.00128039532162\n",
            "Loss: 6.000612903804609\n",
            "Loss: 5.9999491640572575\n",
            "Loss: 5.999289172389557\n",
            "Loss: 5.9986329251314645\n",
            "Loss: 5.997980418632883\n",
            "Loss: 5.997331649263663\n",
            "Loss: 5.996686613413586\n",
            "Loss: 5.996045307492361\n",
            "Loss: 5.995407727929613\n",
            "Loss: 5.994773871174879\n",
            "Loss: 5.994143733697599\n",
            "Loss: 5.993517311987106\n",
            "Loss: 5.992894602552623\n",
            "Loss: 5.992275601923248\n",
            "Loss: 5.99166030664796\n",
            "Loss: 5.991048713295597\n",
            "Loss: 5.990440818454861\n",
            "Loss: 5.989836618734304\n",
            "Loss: 5.989236110762327\n",
            "Loss: 5.988639291187172\n",
            "Loss: 5.988046156676909\n",
            "Loss: 5.9874567039194435\n",
            "Loss: 5.9868709296225\n",
            "Loss: 5.986288830513618\n",
            "Loss: 5.985710403340152\n",
            "Loss: 5.985135644869262\n",
            "Loss: 5.984564551887907\n",
            "Loss: 5.983997121202843\n",
            "Loss: 5.983433349640616\n",
            "Loss: 5.9828732340475606\n",
            "Loss: 5.982316771289793\n",
            "Loss: 5.9817639582532065\n",
            "Loss: 5.981214791843468\n",
            "Loss: 5.980669268986013\n",
            "Loss: 5.980127386626046\n",
            "Loss: 5.979589141728531\n",
            "Loss: 5.979054531278191\n",
            "Loss: 5.978523552279505\n",
            "Loss: 5.977996201756703\n",
            "Loss: 5.977472476753768\n",
            "Loss: 5.976952374334424\n",
            "Loss: 5.976435891582142\n",
            "Loss: 5.975923025600134\n",
            "Loss: 5.97541377351135\n",
            "Loss: 5.974908132458477\n",
            "Loss: 5.974406099603937\n",
            "Loss: 5.973907672129885\n",
            "Loss: 5.9734128472382055\n",
            "Loss: 5.9729216221505155\n",
            "Loss: 5.972433994108158\n",
            "Loss: 5.9719499603722035\n",
            "Loss: 5.971469518223451\n",
            "Loss: 5.97099266496242\n",
            "Loss: 5.970519397909359\n",
            "Loss: 5.970049714404239\n",
            "Loss: 5.969583611806754\n",
            "Loss: 5.969121087496321\n",
            "Loss: 5.968662138872083\n",
            "Loss: 5.968206763352904\n",
            "Loss: 5.967754958377372\n",
            "Loss: 5.967306721403802\n",
            "Loss: 5.96686204991023\n",
            "Loss: 5.966420941394419\n",
            "Loss: 5.965983393373861\n",
            "Loss: 5.965549403385773\n",
            "Loss: 5.965118968987102\n",
            "Loss: 5.964692087754524\n",
            "Loss: 5.96426875728445\n",
            "Loss: 5.963848975193022\n",
            "Loss: 5.963432739116118\n",
            "Loss: 5.963020046709355\n",
            "Loss: 5.962610895648089\n",
            "Loss: 5.962205283627418\n",
            "Loss: 5.961803208362188\n",
            "Loss: 5.961404667586988\n",
            "Loss: 5.9610096590561605\n",
            "Loss: 5.9606181805438005\n",
            "Loss: 5.96023022984376\n",
            "Loss: 5.959845804769651\n",
            "Loss: 5.95946490315485\n",
            "Loss: 5.959087522852499\n",
            "Loss: 5.958713661735513\n",
            "Loss: 5.958343317696582\n",
            "Loss: 5.957976488648173\n",
            "Loss: 5.957613172522538\n",
            "Loss: 5.9572533672717185\n",
            "Loss: 5.956897070867548\n",
            "Loss: 5.956544281301654\n",
            "Loss: 5.956194996585471\n",
            "Loss: 5.955849214750238\n",
            "Loss: 5.955506933847008\n",
            "Loss: 5.955168151946652\n",
            "Loss: 5.954832867139864\n",
            "Loss: 5.9545010775371665\n",
            "Loss: 5.9541727812689205\n",
            "Loss: 5.9538479764853225\n",
            "Loss: 5.953526661356422\n",
            "Loss: 5.953208834072118\n",
            "Loss: 5.952894492842171\n",
            "Loss: 5.952583635896209\n",
            "Loss: 5.952276261483732\n",
            "Loss: 5.95197236787412\n",
            "Loss: 5.951671953356641\n",
            "Loss: 5.9513750162404575\n",
            "Loss: 5.951081554854634\n",
            "Loss: 5.9507915675481415\n",
            "Loss: 5.950505052689872\n",
            "Loss: 5.950222008668639\n",
            "Loss: 5.949942433893191\n",
            "Loss: 5.949666326792214\n",
            "Loss: 5.9493936858143455\n",
            "Loss: 5.949124509428177\n",
            "Loss: 5.948858796122269\n",
            "Loss: 5.948596544405154\n",
            "Loss: 5.948337752805347\n",
            "Loss: 5.948082419871356\n",
            "Loss: 5.947830544171688\n",
            "Loss: 5.947582124294861\n",
            "Loss: 5.947337158849412\n",
            "Loss: 5.947095646463906\n",
            "Loss: 5.946857585786946\n",
            "Loss: 5.946622975487183\n",
            "Loss: 5.9463918142533245\n",
            "Loss: 5.946164100794147\n",
            "Loss: 5.945939833838502\n",
            "Loss: 5.945719012135332\n",
            "Loss: 5.945501634453674\n",
            "Loss: 5.945287699582674\n",
            "Loss: 5.945077206331598\n",
            "Loss: 5.94487015352984\n",
            "Loss: 5.944666540026934\n",
            "Loss: 5.944466364692566\n",
            "Loss: 5.944269626416585\n",
            "Loss: 5.944076324109011\n",
            "Loss: 5.943886456700048\n",
            "Loss: 5.9437000231400985\n",
            "Loss: 5.943517022399769\n",
            "Loss: 5.943337453469887\n",
            "Loss: 5.94316131536151\n",
            "Loss: 5.942988607105937\n",
            "Loss: 5.942819327754719\n",
            "Loss: 5.942653476379677\n",
            "Loss: 5.942491052072908\n",
            "Loss: 5.942332053946798\n",
            "Loss: 5.9421764811340365\n",
            "Loss: 5.9420243327876285\n",
            "Loss: 5.941875608080906\n",
            "Loss: 5.941730306207538\n",
            "Loss: 5.941588426381551\n",
            "Loss: 5.941449967837332\n",
            "Loss: 5.941314929829646\n",
            "Loss: 5.9411833116336545\n",
            "Loss: 5.941055112544916\n",
            "Loss: 5.940930331879408\n",
            "Loss: 5.94080896897354\n",
            "Loss: 5.940691023184163\n",
            "Loss: 5.9405764938885826\n",
            "Loss: 5.940465380484578\n",
            "Loss: 5.940357682390407\n",
            "Loss: 5.9402533990448285\n",
            "Loss: 5.94015252990711\n",
            "Loss: 5.940055074457039\n",
            "Loss: 5.939961032194947\n",
            "Loss: 5.939870402641712\n",
            "Loss: 5.939783185338778\n",
            "Loss: 5.939699379848169\n",
            "Loss: 5.9396189857524995\n",
            "Loss: 5.93954200265499\n",
            "Loss: 5.9394684301794864\n",
            "Loss: 5.939398267970465\n",
            "Loss: 5.93933151569305\n",
            "Loss: 5.939268173033031\n",
            "Loss: 5.939208239696872\n",
            "Loss: 5.939151715411729\n",
            "Loss: 5.9390985999254635\n",
            "Loss: 5.939048893006655\n",
            "Loss: 5.939002594444619\n",
            "Loss: 5.938959704049416\n",
            "Loss: 5.938920221651869\n",
            "Loss: 5.938884147103578\n",
            "Loss: 5.938851480276933\n",
            "Loss: 5.938822221065131\n",
            "Loss: 5.938796369382185\n",
            "Loss: 5.938773925162942\n",
            "Loss: 5.9387548883631\n",
            "Loss: 5.938739258959213\n",
            "Loss: 5.938727036948718\n",
            "Loss: 5.938718222349938\n",
            "Loss: 5.938712815202101\n",
            "Loss: 5.938710815565356\n",
            "Loss: 5.938712223520785\n",
            "Loss: 5.938717039170416\n",
            "Loss: 5.938725262637238\n",
            "Loss: 5.938736894065219\n",
            "Loss: 5.9387519336193115\n",
            "Loss: 5.938770381485478\n",
            "Loss: 5.938792237870692\n",
            "Loss: 5.938817503002965\n",
            "Loss: 5.9388461771313485\n",
            "Loss: 5.938878260525956\n",
            "Loss: 5.9389137534779755\n",
            "Loss: 5.938952656299677\n",
            "Loss: 5.938994969324436\n",
            "Loss: 5.9390406929067385\n",
            "Loss: 5.939089827422198\n",
            "Loss: 5.939142373267571\n",
            "Loss: 5.9391983308607665\n",
            "Loss: 5.9392577006408604\n",
            "Loss: 5.939320483068108\n",
            "Loss: 5.939386678623959\n",
            "Loss: 5.93945628781107\n",
            "Loss: 5.939529311153315\n",
            "Loss: 5.9396057491958\n",
            "Loss: 5.939685602504874\n",
            "Loss: 5.939768871668146\n",
            "Loss: 5.939855557294488\n",
            "Loss: 5.939945660014057\n",
            "Loss: 5.940039180478304\n",
            "Loss: 5.940136119359979\n",
            "Loss: 5.940236477353153\n",
            "Loss: 5.940340255173224\n",
            "Loss: 5.940447453556927\n",
            "Loss: 5.940558073262351\n",
            "Loss: 5.940672115068943\n",
            "Loss: 5.940789579777524\n",
            "Loss: 5.940910468210298\n",
            "Loss: 5.941034781210861\n",
            "Loss: 5.941162519644213\n",
            "Loss: 5.941293684396769\n",
            "Loss: 5.941428276376368\n",
            "Loss: 5.941566296512278\n",
            "Loss: 5.941707745755212\n",
            "Loss: 5.9418526250773365\n",
            "Loss: 5.942000935472276\n",
            "Loss: 5.942152677955124\n",
            "Loss: 5.942307853562456\n",
            "Loss: 5.942466463352327\n",
            "Loss: 5.94262850840429\n",
            "Loss: 5.9427939898194\n",
            "Loss: 5.942962908720219\n",
            "Loss: 5.943135266250824\n",
            "Loss: 5.943311063576817\n",
            "Loss: 5.943490301885331\n",
            "Loss: 5.94367298238503\n",
            "Loss: 5.943859106306122\n",
            "Loss: 5.944048674900362\n",
            "Loss: 5.944241689441057\n",
            "Loss: 5.944438151223072\n",
            "Loss: 5.944638061562833\n",
            "Loss: 5.9448414217983325\n",
            "Loss: 5.945048233289132\n",
            "Loss: 5.945258497416368\n",
            "Loss: 5.945472215582751\n",
            "Loss: 5.945689389212577\n",
            "Loss: 5.945910019751716\n",
            "Loss: 5.946134108667628\n",
            "Loss: 5.946361657449355\n",
            "Loss: 5.9465926676075265\n",
            "Loss: 5.946827140674359\n",
            "Loss: 5.94706507820366\n",
            "Loss: 5.947306481770819\n",
            "Loss: 5.947551352972817\n",
            "Loss: 5.9477996934282205\n",
            "Loss: 5.948051504777176\n",
            "Loss: 5.94830678868142\n",
            "Loss: 5.948565546824265\n",
            "Loss: 5.948827780910602\n",
            "Loss: 5.9490934926668935\n",
            "Loss: 5.9493626838411755\n",
            "Loss: 5.949635356203048\n",
            "Loss: 5.9499115115436725\n",
            "Loss: 5.9501911516757655\n",
            "Loss: 5.950474278433591\n",
            "Loss: 5.950760893672957\n",
            "Loss: 5.951050999271208\n",
            "Loss: 5.951344597127215\n",
            "Loss: 5.9516416891613675\n",
            "Loss: 5.951942277315567\n",
            "Loss: 5.952246363553216\n",
            "Loss: 5.9525539498592055\n",
            "Loss: 5.952865038239908\n",
            "Loss: 5.9531796307231675\n",
            "Loss: 5.953497729358279\n",
            "Loss: 5.953819336215986\n",
            "Loss: 5.9541444533884595\n",
            "Loss: 5.954473082989289\n",
            "Loss: 5.954805227153466\n",
            "Loss: 5.9551408880373655\n",
            "Loss: 5.955480067818735\n",
            "Loss: 5.955822768696676\n",
            "Loss: 5.956168992891621\n",
            "Loss: 5.956518742645325\n",
            "Loss: 5.956872020220839\n",
            "Loss: 5.95722882790249\n",
            "Loss: 5.957589167995868\n",
            "Loss: 5.957953042827794\n",
            "Loss: 5.958320454746303\n",
            "Loss: 5.958691406120624\n",
            "Loss: 5.95906589934115\n",
            "Loss: 5.959443936819415\n",
            "Loss: 5.959825520988074\n",
            "Loss: 5.960210654300867\n",
            "Loss: 5.960599339232598\n",
            "Loss: 5.960991578279104\n",
            "Loss: 5.961387373957229\n",
            "Loss: 5.9617867288047925\n",
            "Loss: 5.962189645380554\n",
            "Loss: 5.962596126264188\n",
            "Loss: 5.963006174056247\n",
            "Loss: 5.963419791378127\n",
            "Loss: 5.963836980872036\n",
            "Loss: 5.964257745200955\n",
            "Loss: 5.9646820870486055\n",
            "Loss: 5.965110009119401\n",
            "Loss: 5.965541514138424\n",
            "Loss: 5.96597660485137\n",
            "Loss: 5.96641528402452\n",
            "Loss: 5.966857554444686\n",
            "Loss: 5.967303418919179\n",
            "Loss: 5.967752880275755\n",
            "Loss: 5.968205941362578\n",
            "Loss: 5.9686626050481655\n",
            "Loss: 5.9691228742213465\n",
            "Loss: 5.96958675179121\n",
            "Loss: 5.970054240687055\n",
            "Loss: 5.970525343858341\n",
            "Loss: 5.971000064274632\n",
            "Loss: 5.971478404925545\n",
            "Loss: 5.971960368820694\n",
            "Loss: 5.972445958989636\n",
            "Loss: 5.9729351784818085\n",
            "Loss: 5.973428030366479\n",
            "Loss: 5.973924517732675\n",
            "Loss: 5.974424643689128\n",
            "Loss: 5.974928411364211\n",
            "Loss: 5.975435823905873\n",
            "Loss: 5.975946884481574\n",
            "Loss: 5.976461596278215\n",
            "Loss: 5.976979962502077\n",
            "Loss: 5.9775019863787415\n",
            "Loss: 5.978027671153029\n",
            "Loss: 5.978557020088919\n",
            "Loss: 5.979090036469479\n",
            "Loss: 5.979626723596791\n",
            "Loss: 5.980167084791869\n",
            "Loss: 5.9807111233945855\n",
            "Loss: 5.981258842763588\n",
            "Loss: 5.981810246276222\n",
            "Loss: 5.98236533732844\n",
            "Loss: 5.982924119334724\n",
            "Loss: 5.983486595727998\n",
            "Loss: 5.984052769959534\n",
            "Loss: 5.98462264549887\n",
            "Loss: 5.9851962258337155\n",
            "Loss: 5.985773514469855\n",
            "Loss: 5.986354514931063\n",
            "Loss: 5.986939230758995\n",
            "Loss: 5.987527665513099\n",
            "Loss: 5.988119822770513\n",
            "Loss: 5.988715706125963\n",
            "Loss: 5.989315319191657\n",
            "Loss: 5.989918665597187\n",
            "Loss: 5.990525748989415\n",
            "Loss: 5.991136573032368\n",
            "Loss: 5.991751141407126\n",
            "Loss: 5.992369457811708\n",
            "Loss: 5.992991525960964\n",
            "Loss: 5.993617349586451\n",
            "Loss: 5.994246932436319\n",
            "Loss: 5.994880278275191\n",
            "Loss: 5.995517390884039\n",
            "Loss: 5.996158274060065\n",
            "Loss: 5.996802931616567\n",
            "Loss: 5.997451367382815\n",
            "Loss: 5.998103585203926\n",
            "Loss: 5.9987595889407235\n",
            "Loss: 5.999419382469609\n",
            "Loss: 6.000082969682424\n",
            "Loss: 6.000750354486312\n",
            "Loss: 6.001421540803578\n",
            "Loss: 6.002096532571545\n",
            "Loss: 6.002775333742413\n",
            "Loss: 6.003457948283108\n",
            "Loss: 6.004144380175135\n",
            "Loss: 6.004834633414427\n",
            "Loss: 6.005528712011192\n",
            "Loss: 6.006226619989755\n",
            "Loss: 6.006928361388402\n",
            "Loss: 6.007633940259221\n",
            "Loss: 6.008343360667939\n",
            "Loss: 6.009056626693751\n",
            "Loss: 6.009773742429165\n",
            "Loss: 6.010494711979824\n",
            "Loss: 6.011219539464332\n",
            "Loss: 6.0119482290140915\n",
            "Loss: 6.012680784773113\n",
            "Loss: 6.0134172108978445\n",
            "Loss: 6.014157511556991\n",
            "Loss: 6.014901690931324\n",
            "Loss: 6.0156497532135\n",
            "Loss: 6.016401702607874\n",
            "Loss: 6.017157543330299\n",
            "Loss: 6.017917279607943\n",
            "Loss: 6.018680915679085\n",
            "Loss: 6.019448455792922\n",
            "Loss: 6.020219904209361\n",
            "Loss: 6.020995265198819\n",
            "Loss: 6.021774543042016\n",
            "Loss: 6.022557742029769\n",
            "Loss: 6.0233448664627725\n",
            "Loss: 6.024135920651387\n",
            "Loss: 6.024930908915426\n",
            "Loss: 6.025729835583932\n",
            "Loss: 6.026532704994953\n",
            "Loss: 6.027339521495321\n",
            "Loss: 6.028150289440421\n",
            "Loss: 6.028965013193962\n",
            "Loss: 6.02978369712774\n",
            "Loss: 6.030606345621407\n",
            "Loss: 6.031432963062227\n",
            "Loss: 6.032263553844839\n",
            "Loss: 6.033098122371004\n",
            "Loss: 6.033936673049368\n",
            "Loss: 6.034779210295205\n",
            "Loss: 6.035625738530162\n",
            "Loss: 6.03647626218201\n",
            "Loss: 6.037330785684379\n",
            "Loss: 6.0381893134764955\n",
            "Loss: 6.039051850002924\n",
            "Loss: 6.039918399713292\n",
            "Loss: 6.040788967062024\n",
            "Loss: 6.041663556508064\n",
            "Loss: 6.042542172514603\n",
            "Loss: 6.043424819548795\n",
            "Loss: 6.044311502081479\n",
            "Loss: 6.04520222458689\n",
            "Loss: 6.046096991542369\n",
            "Loss: 6.0469958074280745\n",
            "Loss: 6.04789867672669\n",
            "Loss: 6.048805603923117\n",
            "Loss: 6.049716593504185\n",
            "Loss: 6.050631649958338\n",
            "Loss: 6.051550777775336\n",
            "Loss: 6.052473981445942\n",
            "Loss: 6.053401265461604\n",
            "Loss: 6.054332634314142\n",
            "Loss: 6.055268092495433\n",
            "Loss: 6.056207644497083\n",
            "Loss: 6.0571512948101045\n",
            "Loss: 6.058099047924584\n",
            "Loss: 6.059050908329352\n",
            "Loss: 6.060006880511652\n",
            "Loss: 6.060966968956795\n",
            "Loss: 6.061931178147825\n",
            "Loss: 6.062899512565169\n",
            "Loss: 6.063871976686291\n",
            "Loss: 6.064848574985346\n",
            "Loss: 6.065829311932818\n",
            "Loss: 6.06681419199517\n",
            "Loss: 6.0678032196344756\n",
            "Loss: 6.068796399308065\n",
            "Loss: 6.069793735468149\n",
            "Loss: 6.070795232561458\n",
            "Loss: 6.071800895028863\n",
            "Loss: 6.072810727305\n",
            "Loss: 6.07382473381789\n",
            "Loss: 6.07484291898856\n",
            "Loss: 6.0758652872306556\n",
            "Loss: 6.076891842950047\n",
            "Loss: 6.077922590544445\n",
            "Loss: 6.078957534403001\n",
            "Loss: 6.079996678905904\n",
            "Loss: 6.081040028423993\n",
            "Loss: 6.082087587318336\n",
            "Loss: 6.083139359939829\n",
            "Loss: 6.08419535062879\n",
            "Loss: 6.085255563714533\n",
            "Loss: 6.08632000351496\n",
            "Loss: 6.087388674336135\n",
            "Loss: 6.088461580471868\n",
            "Loss: 6.089538726203275\n",
            "Loss: 6.09062011579836\n",
            "Loss: 6.091705753511572\n",
            "Loss: 6.092795643583383\n",
            "Loss: 6.093889790239828\n",
            "Loss: 6.094988197692086\n",
            "Loss: 6.0960908701360115\n",
            "Loss: 6.097197811751705\n",
            "Loss: 6.098309026703052\n",
            "Loss: 6.0994245191372665\n",
            "Loss: 6.100544293184441\n",
            "Loss: 6.1016683529570805\n",
            "Loss: 6.102796702549639\n",
            "Loss: 6.103929346038054\n",
            "Loss: 6.105066287479282\n",
            "Loss: 6.106207530910815\n",
            "Loss: 6.107353080350217\n",
            "Loss: 6.1085029397946355\n",
            "Loss: 6.109657113220329\n",
            "Loss: 6.110815604582178\n",
            "Loss: 6.111978417813201\n",
            "Loss: 6.113145556824061\n",
            "Loss: 6.114317025502579\n",
            "Loss: 6.115492827713234\n",
            "Loss: 6.116672967296667\n",
            "Loss: 6.117857448069182\n",
            "Loss: 6.11904627382224\n",
            "Loss: 6.120239448321955\n",
            "Loss: 6.121436975308587\n",
            "Loss: 6.122638858496024\n",
            "Loss: 6.12384510157128\n",
            "Loss: 6.125055708193966\n",
            "Loss: 6.126270681995784\n",
            "Loss: 6.127490026579993\n",
            "Loss: 6.128713745520899\n",
            "Loss: 6.129941842363315\n",
            "Loss: 6.131174320622045\n",
            "Loss: 6.132411183781344\n",
            "Loss: 6.133652435294394\n",
            "Loss: 6.134898078582759\n",
            "Loss: 6.136148117035854\n",
            "Loss: 6.137402554010403\n",
            "Loss: 6.1386613928299\n",
            "Loss: 6.139924636784062\n",
            "Loss: 6.141192289128281\n",
            "Loss: 6.142464353083081\n",
            "Loss: 6.143740831833569\n",
            "Loss: 6.145021728528875\n",
            "Loss: 6.146307046281605\n",
            "Loss: 6.147596788167284\n",
            "Loss: 6.148890957223798\n",
            "Loss: 6.150189556450831\n",
            "Loss: 6.151492588809314\n",
            "Loss: 6.152800057220853\n",
            "Loss: 6.154111964567164\n",
            "Loss: 6.1554283136895185\n",
            "Loss: 6.156749107388161\n",
            "Loss: 6.1580743484217555\n",
            "Loss: 6.159404039506802\n",
            "Loss: 6.160738183317072\n",
            "Loss: 6.162076782483038\n",
            "Loss: 6.163419839591291\n",
            "Loss: 6.1647673571839725\n",
            "Loss: 6.166119337758197\n",
            "Loss: 6.167475783765469\n",
            "Loss: 6.1688366976111135\n",
            "Loss: 6.1702020816536916\n",
            "Loss: 6.171571938204416\n",
            "Loss: 6.172946269526578\n",
            "Loss: 6.174325077834965\n",
            "Loss: 6.175708365295269\n",
            "Loss: 6.177096134023512\n",
            "Loss: 6.17848838608546\n",
            "Loss: 6.179885123496039\n",
            "Loss: 6.181286348218746\n",
            "Loss: 6.1826920621650725\n",
            "Loss: 6.184102267193909\n",
            "Loss: 6.185516965110969\n",
            "Loss: 6.186936157668195\n",
            "Loss: 6.188359846563178\n",
            "Loss: 6.1897880334385675\n",
            "Loss: 6.191220719881491\n",
            "Loss: 6.192657907422961\n",
            "Loss: 6.194099597537297\n",
            "Loss: 6.195545791641536\n",
            "Loss: 6.196996491094845\n",
            "Loss: 6.198451697197942\n",
            "Loss: 6.19991141119251\n",
            "Loss: 6.201375634260613\n",
            "Loss: 6.20284436752411\n",
            "Loss: 6.20431761204408\n",
            "Loss: 6.205795368820235\n",
            "Loss: 6.207277638790338\n",
            "Loss: 6.208764422829636\n",
            "Loss: 6.210255721750262\n",
            "Loss: 6.211751536300675\n",
            "Loss: 6.213251867165074\n",
            "Loss: 6.214756714962828\n",
            "Loss: 6.216266080247899\n",
            "Loss: 6.217779963508277\n",
            "Loss: 6.219298365165398\n",
            "Loss: 6.220821285573588\n",
            "Loss: 6.222348725019485\n",
            "Loss: 6.223880683721482\n",
            "Loss: 6.225417161829162\n",
            "Loss: 6.226958159422733\n",
            "Loss: 6.228503676512469\n",
            "Loss: 6.230053713038159\n",
            "Loss: 6.231608268868546\n",
            "Loss: 6.233167343800778\n",
            "Loss: 6.234730937559855\n",
            "Loss: 6.236299049798084\n",
            "Loss: 6.237871680094532\n",
            "Loss: 6.239448827954487\n",
            "Loss: 6.241030492808914\n",
            "Loss: 6.242616674013922\n",
            "Loss: 6.24420737085023\n",
            "Loss: 6.245802582522634\n",
            "Loss: 6.247402308159482\n",
            "Loss: 6.24900654681215\n",
            "Loss: 6.250615297454519\n",
            "Loss: 6.252228558982458\n",
            "Loss: 6.253846330213317\n",
            "Loss: 6.255468609885405\n",
            "Loss: 6.25709539665749\n",
            "Loss: 6.258726689108299\n",
            "Loss: 6.260362485736012\n",
            "Loss: 6.262002784957775\n",
            "Loss: 6.263647585109205\n",
            "Loss: 6.265296884443903\n",
            "Loss: 6.266950681132973\n",
            "Loss: 6.268608973264542\n",
            "Loss: 6.270271758843292\n",
            "Loss: 6.271939035789989\n",
            "Loss: 6.273610801941012\n",
            "Loss: 6.275287055047903\n",
            "Loss: 6.276967792776909\n",
            "Loss: 6.278653012708528\n",
            "Loss: 6.280342712337074\n",
            "Loss: 6.282036889070225\n",
            "Loss: 6.283735540228603\n",
            "Loss: 6.285438663045331\n",
            "Loss: 6.287146254665618\n",
            "Loss: 6.288858312146341\n",
            "Loss: 6.290574832455625\n",
            "Loss: 6.292295812472446\n",
            "Loss: 6.294021248986223\n",
            "Loss: 6.295751138696424\n",
            "Loss: 6.297485478212181\n",
            "Loss: 6.299224264051898\n",
            "Loss: 6.300967492642884\n",
            "Loss: 6.302715160320972\n",
            "Loss: 6.304467263330164\n",
            "Loss: 6.306223797822265\n",
            "Loss: 6.307984759856537\n",
            "Loss: 6.309750145399345\n",
            "Loss: 6.3115199503238335\n",
            "Loss: 6.313294170409575\n",
            "Loss: 6.315072801342263\n",
            "Loss: 6.31685583871338\n",
            "Loss: 6.3186432780198984\n",
            "Loss: 6.320435114663965\n",
            "Loss: 6.322231343952612\n",
            "Loss: 6.32403196109746\n",
            "Loss: 6.325836961214443\n",
            "Loss: 6.32764633932353\n",
            "Loss: 6.329460090348456\n",
            "Loss: 6.33127820911646\n",
            "Loss: 6.33310069035804\n",
            "Loss: 6.3349275287067\n",
            "Loss: 6.336758718698717\n",
            "Loss: 6.338594254772909\n",
            "Loss: 6.340434131270419\n",
            "Loss: 6.34227834243449\n",
            "Loss: 6.344126882410276\n",
            "Loss: 6.345979745244629\n",
            "Loss: 6.3478369248859225\n",
            "Loss: 6.349698415183858\n",
            "Loss: 6.3515642098893\n",
            "Loss: 6.353434302654117\n",
            "Loss: 6.35530868703101\n",
            "Loss: 6.3571873564733785\n",
            "Loss: 6.3590703043351775\n",
            "Loss: 6.360957523870786\n",
            "Loss: 6.3628490082348845\n",
            "Loss: 6.364744750482349\n",
            "Loss: 6.366644743568135\n",
            "Loss: 6.368548980347192\n",
            "Loss: 6.370457453574375\n",
            "Loss: 6.372370155904363\n",
            "Loss: 6.374287079891597\n",
            "Loss: 6.376208217990212\n",
            "Loss: 6.378133562553994\n",
            "Loss: 6.380063105836335\n",
            "Loss: 6.3819968399902\n",
            "Loss: 6.3839347570681095\n",
            "Loss: 6.385876849022118\n",
            "Loss: 6.387823107703811\n",
            "Loss: 6.389773524864318\n",
            "Loss: 6.391728092154313\n",
            "Loss: 6.393686801124051\n",
            "Loss: 6.395649643223392\n",
            "Loss: 6.397616609801844\n",
            "Loss: 6.3995876921086206\n",
            "Loss: 6.401562881292698\n",
            "Loss: 6.403542168402883\n",
            "Loss: 6.405525544387898\n",
            "Loss: 6.40751300009647\n",
            "Loss: 6.409504526277426\n",
            "Loss: 6.411500113579807\n",
            "Loss: 6.413499752552982\n",
            "Loss: 6.415503433646781\n",
            "Loss: 6.417511147211626\n",
            "Loss: 6.4195228834986855\n",
            "Loss: 6.421538632660027\n",
            "Loss: 6.423558384748782\n",
            "Loss: 6.425582129719331\n",
            "Loss: 6.427609857427477\n",
            "Loss: 6.42964155763065\n",
            "Loss: 6.431677219988113\n",
            "Loss: 6.433716834061166\n",
            "Loss: 6.435760389313385\n",
            "Loss: 6.437807875110845\n",
            "Loss: 6.439859280722369\n",
            "Loss: 6.441914595319781\n",
            "Loss: 6.443973807978165\n",
            "Loss: 6.446036907676145\n",
            "Loss: 6.4481038832961595\n",
            "Loss: 6.45017472362476\n",
            "Loss: 6.452249417352903\n",
            "Loss: 6.454327953076275\n",
            "Loss: 6.456410319295595\n",
            "Loss: 6.45849650441696\n",
            "Loss: 6.460586496752175\n",
            "Loss: 6.462680284519104\n",
            "Loss: 6.464777855842029\n",
            "Loss: 6.466879198752016\n",
            "Loss: 6.468984301187289\n",
            "Loss: 6.4710931509936245\n",
            "Loss: 6.473205735924735\n",
            "Loss: 6.475322043642681\n",
            "Loss: 6.477442061718284\n",
            "Loss: 6.479565777631543\n",
            "Loss: 6.481693178772077\n",
            "Loss: 6.483824252439554\n",
            "Loss: 6.485958985844147\n",
            "Loss: 6.488097366106989\n",
            "Loss: 6.490239380260649\n",
            "Loss: 6.4923850152495906\n",
            "Loss: 6.494534257930677\n",
            "Loss: 6.496687095073653\n",
            "Loss: 6.498843513361646\n",
            "Loss: 6.501003499391683\n",
            "Loss: 6.503167039675208\n",
            "Loss: 6.505334120638607\n",
            "Loss: 6.507504728623746\n",
            "Loss: 6.509678849888516\n",
            "Loss: 6.511856470607381\n",
            "Loss: 6.514037576871949\n",
            "Loss: 6.51622215469153\n",
            "Loss: 6.518410189993714\n",
            "Loss: 6.520601668624969\n",
            "Loss: 6.522796576351214\n",
            "Loss: 6.524994898858434\n",
            "Loss: 6.527196621753281\n",
            "Loss: 6.529401730563693\n",
            "Loss: 6.531610210739518\n",
            "Loss: 6.533822047653139\n",
            "Loss: 6.5360372266001185\n",
            "Loss: 6.538255732799842\n",
            "Loss: 6.540477551396169\n",
            "Loss: 6.542702667458093\n",
            "Loss: 6.544931065980411\n",
            "Loss: 6.547162731884394\n",
            "Loss: 6.549397650018468\n",
            "Loss: 6.5516358051589005\n",
            "Loss: 6.553877182010497\n",
            "Loss: 6.556121765207298\n",
            "Loss: 6.558369539313286\n",
            "Loss: 6.560620488823104\n",
            "Loss: 6.562874598162765\n",
            "Loss: 6.565131851690387\n",
            "Loss: 6.567392233696915\n",
            "Loss: 6.569655728406867\n",
            "Loss: 6.571922319979074\n",
            "Loss: 6.574191992507427\n",
            "Loss: 6.57646473002163\n",
            "Loss: 6.578740516487966\n",
            "Loss: 6.581019335810055\n",
            "Loss: 6.583301171829633\n",
            "Loss: 6.585586008327318\n",
            "Loss: 6.587873829023399\n",
            "Loss: 6.590164617578617\n",
            "Loss: 6.592458357594954\n",
            "Loss: 6.594755032616437\n",
            "Loss: 6.597054626129925\n",
            "Loss: 6.599357121565922\n",
            "Loss: 6.601662502299387\n",
            "Loss: 6.603970751650536\n",
            "Loss: 6.606281852885673\n",
            "Loss: 6.608595789218002\n",
            "Loss: 6.610912543808452\n",
            "Loss: 6.6132320997665115\n",
            "Loss: 6.615554440151053\n",
            "Loss: 6.617879547971175\n",
            "Loss: 6.620207406187039\n",
            "Loss: 6.622537997710713\n",
            "Loss: 6.624871305407015\n",
            "Loss: 6.627207312094363\n",
            "Loss: 6.629546000545631\n",
            "Loss: 6.631887353488992\n",
            "Loss: 6.634231353608788\n",
            "Loss: 6.636577983546386\n",
            "Loss: 6.638927225901035\n",
            "Loss: 6.641279063230735\n",
            "Loss: 6.643633478053108\n",
            "Loss: 6.645990452846256\n",
            "Loss: 6.648349970049643\n",
            "Loss: 6.650712012064959\n",
            "Loss: 6.653076561257001\n",
            "Loss: 6.655443599954548\n",
            "Loss: 6.657813110451232\n",
            "Loss: 6.660185075006428\n",
            "Loss: 6.662559475846124\n",
            "Loss: 6.664936295163808\n",
            "Loss: 6.667315515121348\n",
            "Loss: 6.6696971178498785\n",
            "Loss: 6.672081085450681\n",
            "Loss: 6.674467399996067\n",
            "Loss: 6.676856043530271\n",
            "Loss: 6.679246998070328\n",
            "Loss: 6.6816402456069595\n",
            "Loss: 6.68403576810547\n",
            "Loss: 6.68643354750662\n",
            "Loss: 6.688833565727518\n",
            "Loss: 6.691235804662507\n",
            "Loss: 6.693640246184051\n",
            "Loss: 6.696046872143616\n",
            "Loss: 6.698455664372559\n",
            "Loss: 6.700866604683006\n",
            "Loss: 6.703279674868743\n",
            "Loss: 6.705694856706099\n",
            "Loss: 6.708112131954815\n",
            "Loss: 6.710531482358939\n",
            "Loss: 6.712952889647696\n",
            "Loss: 6.715376335536375\n",
            "Loss: 6.717801801727192\n",
            "Loss: 6.720229269910178\n",
            "Loss: 6.722658721764046\n",
            "Loss: 6.725090138957066\n",
            "Loss: 6.727523503147928\n",
            "Loss: 6.729958795986624\n",
            "Loss: 6.732395999115295\n",
            "Loss: 6.734835094169112\n",
            "Loss: 6.737276062777127\n",
            "Loss: 6.7397188865631374\n",
            "Loss: 6.742163547146542\n",
            "Loss: 6.744610026143192\n",
            "Loss: 6.747058305166244\n",
            "Loss: 6.749508365827019\n",
            "Loss: 6.751960189735827\n",
            "Loss: 6.754413758502831\n",
            "Loss: 6.7568690537388765\n",
            "Loss: 6.759326057056331\n",
            "Loss: 6.7617847500699195\n",
            "Loss: 6.764245114397553\n",
            "Loss: 6.766707131661154\n",
            "Loss: 6.769170783487488\n",
            "Loss: 6.771636051508973\n",
            "Loss: 6.774102917364504\n",
            "Loss: 6.776571362700265\n",
            "Loss: 6.7790413691705345\n",
            "Loss: 6.781512918438491\n",
            "Loss: 6.783985992177023\n",
            "Loss: 6.786460572069512\n",
            "Loss: 6.788936639810637\n",
            "Loss: 6.791414177107161\n",
            "Loss: 6.7938931656787105\n",
            "Loss: 6.796373587258562\n",
            "Loss: 6.798855423594416\n",
            "Loss: 6.801338656449168\n",
            "Loss: 6.803823267601673\n",
            "Loss: 6.806309238847515\n",
            "Loss: 6.808796551999754\n",
            "Loss: 6.811285188889691\n",
            "Loss: 6.813775131367607\n",
            "Loss: 6.81626636130351\n",
            "Loss: 6.818758860587871\n",
            "Loss: 6.8212526111323575\n",
            "Loss: 6.823747594870565\n",
            "Loss: 6.82624379375874\n",
            "Loss: 6.82874118977649\n",
            "Loss: 6.831239764927503\n",
            "Loss: 6.833739501240256\n",
            "Loss: 6.836240380768714\n",
            "Loss: 6.838742385593025\n",
            "Loss: 6.841245497820214\n",
            "Loss: 6.84374969958487\n",
            "Loss: 6.8462549730498194\n",
            "Loss: 6.8487613004068075\n",
            "Loss: 6.851268663877166\n",
            "Loss: 6.853777045712475\n",
            "Loss: 6.856286428195213\n",
            "Loss: 6.85879679363943\n",
            "Loss: 6.861308124391366\n",
            "Loss: 6.863820402830113\n",
            "Loss: 6.866333611368236\n",
            "Loss: 6.86884773245241\n",
            "Loss: 6.8713627485640325\n",
            "Loss: 6.873878642219852\n",
            "Loss: 6.876395395972569\n",
            "Loss: 6.878912992411442\n",
            "Loss: 6.881431414162887\n",
            "Loss: 6.8839506438910725\n",
            "Loss: 6.886470664298499\n",
            "Loss: 6.888991458126584\n",
            "Loss: 6.891513008156235\n",
            "Loss: 6.894035297208411\n",
            "Loss: 6.896558308144694\n",
            "Loss: 6.899082023867836\n",
            "Loss: 6.9016064273223074\n",
            "Loss: 6.904131501494849\n",
            "Loss: 6.906657229414993\n",
            "Loss: 6.909183594155606\n",
            "Loss: 6.911710578833406\n",
            "Loss: 6.914238166609483\n",
            "Loss: 6.9167663406898034\n",
            "Loss: 6.919295084325719\n",
            "Loss: 6.92182438081447\n",
            "Loss: 6.924354213499665\n",
            "Loss: 6.926884565771775\n",
            "Loss: 6.92941542106861\n",
            "Loss: 6.931946762875787\n",
            "Loss: 6.9344785747272075\n",
            "Loss: 6.937010840205499\n",
            "Loss: 6.939543542942489\n",
            "Loss: 6.942076666619631\n",
            "Loss: 6.944610194968464\n",
            "Loss: 6.947144111771032\n",
            "Loss: 6.94967840086032\n",
            "Loss: 6.952213046120666\n",
            "Loss: 6.954748031488188\n",
            "Loss: 6.957283340951182\n",
            "Loss: 6.95981895855053\n",
            "Loss: 6.9623548683800855\n",
            "Loss: 6.964891054587081\n",
            "Loss: 6.967427501372489\n",
            "Loss: 6.969964192991416\n",
            "Loss: 6.972501113753459\n",
            "Loss: 6.975038248023078\n",
            "Loss: 6.977575580219951\n",
            "Loss: 6.980113094819322\n",
            "Loss: 6.982650776352351\n",
            "Loss: 6.985188609406443\n",
            "Loss: 6.987726578625591\n",
            "Loss: 6.990264668710697\n",
            "Loss: 6.992802864419886\n",
            "Loss: 6.99534115056883\n",
            "Loss: 6.9978795120310435\n",
            "Loss: 7.000417933738196\n",
            "Loss: 7.0029564006803975\n",
            "Loss: 7.005494897906492\n",
            "Loss: 7.008033410524338\n",
            "Loss: 7.010571923701084\n",
            "Loss: 7.013110422663441\n",
            "Loss: 7.015648892697946\n",
            "Loss: 7.018187319151218\n",
            "Loss: 7.020725687430213\n",
            "Loss: 7.023263983002469\n",
            "Loss: 7.0258021913963455\n",
            "Loss: 7.02834029820126\n",
            "Loss: 7.030878289067912\n",
            "Loss: 7.033416149708509\n",
            "Loss: 7.035953865896985\n",
            "Loss: 7.038491423469207\n",
            "Loss: 7.041028808323181\n",
            "Loss: 7.043566006419252\n",
            "Loss: 7.046103003780301\n",
            "Loss: 7.048639786491924\n",
            "Loss: 7.051176340702624\n",
            "Loss: 7.053712652623985\n",
            "Loss: 7.056248708530836\n",
            "Loss: 7.058784494761427\n",
            "Loss: 7.06131999771758\n",
            "Loss: 7.06385520386485\n",
            "Loss: 7.066390099732669\n",
            "Loss: 7.0689246719144965\n",
            "Loss: 7.071458907067948\n",
            "Loss: 7.073992791914936\n",
            "Loss: 7.076526313241794\n",
            "Loss: 7.079059457899398\n",
            "Loss: 7.0815922128032875\n",
            "Loss: 7.084124564933774\n",
            "Loss: 7.086656501336045\n",
            "Loss: 7.089188009120276\n",
            "Loss: 7.091719075461713\n",
            "Loss: 7.094249687600774\n",
            "Loss: 7.0967798328431355\n",
            "Loss: 7.099309498559803\n",
            "Loss: 7.101838672187203\n",
            "Loss: 7.104367341227245\n",
            "Loss: 7.106895493247388\n",
            "Loss: 7.109423115880707\n",
            "Loss: 7.11195019682595\n",
            "Loss: 7.114476723847585\n",
            "Loss: 7.117002684775854\n",
            "Loss: 7.119528067506813\n",
            "Loss: 7.122052860002372\n",
            "Loss: 7.124577050290326\n",
            "Loss: 7.127100626464393\n",
            "Loss: 7.129623576684226\n",
            "Loss: 7.132145889175447\n",
            "Loss: 7.134667552229652\n",
            "Loss: 7.137188554204429\n",
            "Loss: 7.139708883523369\n",
            "Loss: 7.142228528676058\n",
            "Loss: 7.144747478218087\n",
            "Loss: 7.147265720771042\n",
            "Loss: 7.149783245022496\n",
            "Loss: 7.152300039725998\n",
            "Loss: 7.1548160937010445\n",
            "Loss: 7.1573313958330775\n",
            "Loss: 7.15984593507344\n",
            "Loss: 7.16235970043936\n",
            "Loss: 7.164872681013909\n",
            "Loss: 7.167384865945975\n",
            "Loss: 7.169896244450206\n",
            "Loss: 7.172406805806984\n",
            "Loss: 7.1749165393623615\n",
            "Loss: 7.1774254345280175\n",
            "Loss: 7.1799334807812025\n",
            "Loss: 7.182440667664675\n",
            "Loss: 7.184946984786643\n",
            "Loss: 7.187452421820694\n",
            "Loss: 7.18995696850573\n",
            "Loss: 7.192460614645891\n",
            "Loss: 7.1949633501104815\n",
            "Loss: 7.197465164833885\n",
            "Loss: 7.199966048815493\n",
            "Loss: 7.202465992119605\n",
            "Loss: 7.204964984875347\n",
            "Loss: 7.20746301727658\n",
            "Loss: 7.209960079581798\n",
            "Loss: 7.212456162114038\n",
            "Loss: 7.214951255260769\n",
            "Loss: 7.217445349473795\n",
            "Loss: 7.219938435269146\n",
            "Loss: 7.22243050322696\n",
            "Loss: 7.224921543991382\n",
            "Loss: 7.227411548270435\n",
            "Loss: 7.229900506835915\n",
            "Loss: 7.232388410523253\n",
            "Loss: 7.234875250231407\n",
            "Loss: 7.237361016922723\n",
            "Loss: 7.2398457016228095\n",
            "Loss: 7.242329295420409\n",
            "Loss: 7.244811789467253\n",
            "Loss: 7.247293174977935\n",
            "Loss: 7.24977344322977\n",
            "Loss: 7.252252585562641\n",
            "Loss: 7.254730593378873\n",
            "Loss: 7.257207458143065\n",
            "Loss: 7.25968317138196\n",
            "Loss: 7.262157724684281\n",
            "Loss: 7.264631109700583\n",
            "Loss: 7.267103318143095\n",
            "Loss: 7.269574341785561\n",
            "Loss: 7.272044172463085\n",
            "Loss: 7.274512802071962\n",
            "Loss: 7.276980222569517\n",
            "Loss: 7.2794464259739415\n",
            "Loss: 7.281911404364118\n",
            "Loss: 7.2843751498794616\n",
            "Loss: 7.286837654719731\n",
            "Loss: 7.289298911144871\n",
            "Loss: 7.29175891147483\n",
            "Loss: 7.294217648089378\n",
            "Loss: 7.296675113427939\n",
            "Loss: 7.299131299989396\n",
            "Loss: 7.301586200331918\n",
            "Loss: 7.3040398070727734\n",
            "Loss: 7.306492112888145\n",
            "Loss: 7.308943110512937\n",
            "Loss: 7.3113927927405955\n",
            "Loss: 7.313841152422911\n",
            "Loss: 7.316288182469824\n",
            "Loss: 7.318733875849244\n",
            "Loss: 7.321178225586837\n",
            "Loss: 7.323621224765844\n",
            "Loss: 7.32606286652688\n",
            "Loss: 7.328503144067726\n",
            "Loss: 7.330942050643142\n",
            "Loss: 7.3333795795646575\n",
            "Loss: 7.335815724200373\n",
            "Loss: 7.338250477974749\n",
            "Loss: 7.340683834368409\n",
            "Loss: 7.343115786917933\n",
            "Loss: 7.345546329215641\n",
            "Loss: 7.347975454909397\n",
            "Loss: 7.3504031577023925\n",
            "Loss: 7.352829431352938\n",
            "Loss: 7.355254269674249\n",
            "Loss: 7.3576776665342365\n",
            "Loss: 7.3600996158552965\n",
            "Loss: 7.36252011161409\n",
            "Loss: 7.364939147841332\n",
            "Loss: 7.367356718621571\n",
            "Loss: 7.369772818092982\n",
            "Loss: 7.372187440447135\n",
            "Loss: 7.374600579928793\n",
            "Loss: 7.377012230835675\n",
            "Loss: 7.3794223875182565\n",
            "Loss: 7.381831044379531\n",
            "Loss: 7.3842381958748\n",
            "Loss: 7.386643836511448\n",
            "Loss: 7.3890479608487185\n",
            "Loss: 7.3914505634974965\n",
            "Loss: 7.393851639120078\n",
            "Loss: 7.396251182429955\n",
            "Loss: 7.398649188191579\n",
            "Loss: 7.40104565122015\n",
            "Loss: 7.403440566381378\n",
            "Loss: 7.405833928591271\n",
            "Loss: 7.408225732815893\n",
            "Loss: 7.410615974071153\n",
            "Loss: 7.4130046474225635\n",
            "Loss: 7.415391747985029\n",
            "Loss: 7.417777270922602\n",
            "Loss: 7.420161211448266\n",
            "Loss: 7.422543564823704\n",
            "Loss: 7.424924326359071\n",
            "Loss: 7.427303491412763\n",
            "Loss: 7.429681055391189\n",
            "Loss: 7.432057013748542\n",
            "Loss: 7.434431361986573\n",
            "Loss: 7.436804095654354\n",
            "Loss: 7.439175210348052\n",
            "Loss: 7.441544701710708\n",
            "Loss: 7.4439125654319875\n",
            "Loss: 7.446278797247971\n",
            "Loss: 7.448643392940909\n",
            "Loss: 7.4510063483390025\n",
            "Loss: 7.4533676593161635\n",
            "Loss: 7.455727321791793\n",
            "Loss: 7.458085331730545\n",
            "Loss: 7.460441685142101\n",
            "Loss: 7.462796378080936\n",
            "Loss: 7.465149406646092\n",
            "Loss: 7.467500766980941\n",
            "Loss: 7.469850455272967\n",
            "Loss: 7.472198467753525\n",
            "Loss: 7.474544800697615\n",
            "Loss: 7.476889450423657\n",
            "Loss: 7.479232413293259\n",
            "Loss: 7.481573685710978\n",
            "Loss: 7.483913264124109\n",
            "Loss: 7.48625114502244\n",
            "Loss: 7.488587324938037\n",
            "Loss: 7.490921800445002\n",
            "Loss: 7.493254568159255\n",
            "Loss: 7.495585624738301\n",
            "Loss: 7.497914966881006\n",
            "Loss: 7.500242591327368\n",
            "Loss: 7.502568494858282\n",
            "Loss: 7.504892674295331\n",
            "Loss: 7.507215126500542\n",
            "Loss: 7.509535848376172\n",
            "Loss: 7.511854836864471\n",
            "Loss: 7.514172088947469\n",
            "Loss: 7.516487601646741\n",
            "Loss: 7.518801372023187\n",
            "Loss: 7.521113397176805\n",
            "Loss: 7.5234236742464695\n",
            "Loss: 7.525732200409708\n",
            "Loss: 7.528038972882476\n",
            "Loss: 7.530343988918935\n",
            "Loss: 7.532647245811232\n",
            "Loss: 7.5349487408892735\n",
            "Loss: 7.537248471520507\n",
            "Loss: 7.5395464351097035\n",
            "Loss: 7.541842629098733\n",
            "Loss: 7.54413705096634\n",
            "Loss: 7.546429698227935\n",
            "Loss: 7.548720568435368\n",
            "Loss: 7.551009659176711\n",
            "Loss: 7.553296968076043\n",
            "Loss: 7.55558249279323\n",
            "Loss: 7.557866231023711\n",
            "Loss: 7.5601481804982775\n",
            "Loss: 7.562428338982858\n",
            "Loss: 7.564706704278313\n",
            "Loss: 7.566983274220208\n",
            "Loss: 7.569258046678603\n",
            "Loss: 7.571531019557842\n",
            "Loss: 7.573802190796339\n",
            "Loss: 7.576071558366368\n",
            "Loss: 7.578339120273844\n",
            "Loss: 7.580604874558121\n",
            "Loss: 7.582868819291779\n",
            "Loss: 7.585130952580408\n",
            "Loss: 7.587391272562409\n",
            "Loss: 7.5896497774087806\n",
            "Loss: 7.591906465322909\n",
            "Loss: 7.594161334540369\n",
            "Loss: 7.596414383328706\n",
            "Loss: 7.598665609987238\n",
            "Loss: 7.600915012846853\n",
            "Loss: 7.603162590269799\n",
            "Loss: 7.605408340649477\n",
            "Loss: 7.607652262410251\n",
            "Loss: 7.609894354007233\n",
            "Loss: 7.612134613926085\n",
            "Loss: 7.614373040682826\n",
            "Loss: 7.616609632823616\n",
            "Loss: 7.618844388924572\n",
            "Loss: 7.621077307591564\n",
            "Loss: 7.623308387460008\n",
            "Loss: 7.625537627194684\n",
            "Loss: 7.62776502548953\n",
            "Loss: 7.629990581067443\n",
            "Loss: 7.6322142926801\n",
            "Loss: 7.634436159107742\n",
            "Loss: 7.636656179158992\n",
            "Loss: 7.63887435167067\n",
            "Loss: 7.6410906755075825\n",
            "Loss: 7.6433051495623445\n",
            "Loss: 7.645517772755183\n",
            "Loss: 7.647728544033752\n",
            "Loss: 7.649937462372937\n",
            "Loss: 7.652144526774675\n",
            "Loss: 7.654349736267754\n",
            "Loss: 7.656553089907642\n",
            "Loss: 7.658754586776291\n",
            "Loss: 7.66095422598195\n",
            "Loss: 7.663152006658987\n",
            "Loss: 7.665347927967705\n",
            "Loss: 7.667541989094153\n",
            "Loss: 7.669734189249951\n",
            "Loss: 7.671924527672102\n",
            "Loss: 7.674113003622817\n",
            "Loss: 7.676299616389332\n",
            "Loss: 7.678484365283728\n",
            "Loss: 7.680667249642756\n",
            "Loss: 7.68284826882766\n",
            "Loss: 7.685027422223996\n",
            "Loss: 7.687204709241458\n",
            "Loss: 7.689380129313706\n",
            "Loss: 7.691553681898191\n",
            "Loss: 7.693725366475974\n",
            "Loss: 7.695895182551561\n",
            "Loss: 7.698063129652735\n",
            "Loss: 7.700229207330372\n",
            "Loss: 7.702393415158281\n",
            "Loss: 7.704555752733032\n",
            "Loss: 7.706716219673788\n",
            "Loss: 7.70887481562213\n",
            "Loss: 7.711031540241901\n",
            "Loss: 7.713186393219037\n",
            "Loss: 7.715339374261391\n",
            "Loss: 7.717490483098583\n",
            "Loss: 7.719639719481829\n",
            "Loss: 7.721787083183774\n",
            "Loss: 7.723932573998338\n",
            "Loss: 7.726076191740551\n",
            "Loss: 7.7282179362463905\n",
            "Loss: 7.730357807372622\n",
            "Loss: 7.732495804996645\n",
            "Loss: 7.734631929016326\n",
            "Loss: 7.736766179349851\n",
            "Loss: 7.738898555935555\n",
            "Loss: 7.741029058731785\n",
            "Loss: 7.743157687716729\n",
            "Loss: 7.745284442888267\n",
            "Loss: 7.747409324263822\n",
            "Loss: 7.749532331880198\n",
            "Loss: 7.751653465793436\n",
            "Loss: 7.753772726078657\n",
            "Loss: 7.755890112829922\n",
            "Loss: 7.758005626160065\n",
            "Loss: 7.7601192662005625\n",
            "Loss: 7.762231033101376\n",
            "Loss: 7.764340927030801\n",
            "Loss: 7.7664489481753325\n",
            "Loss: 7.768555096739511\n",
            "Loss: 7.770659372945774\n",
            "Loss: 7.772761777034324\n",
            "Loss: 7.774862309262979\n",
            "Loss: 7.776960969907023\n",
            "Loss: 7.7790577592590795\n",
            "Loss: 7.78115267762895\n",
            "Loss: 7.7832457253435\n",
            "Loss: 7.785336902746493\n",
            "Loss: 7.787426210198473\n",
            "Loss: 7.789513648076613\n",
            "Loss: 7.791599216774586\n",
            "Loss: 7.793682916702423\n",
            "Loss: 7.795764748286381\n",
            "Loss: 7.797844711968807\n",
            "Loss: 7.799922808208003\n",
            "Loss: 7.8019990374780965\n",
            "Loss: 7.804073400268902\n",
            "Loss: 7.806145897085794\n",
            "Loss: 7.808216528449579\n",
            "Loss: 7.810285294896351\n",
            "Loss: 7.812352196977383\n",
            "Loss: 7.814417235258976\n",
            "Loss: 7.81648041032235\n",
            "Loss: 7.818541722763505\n",
            "Loss: 7.8206011731931016\n",
            "Loss: 7.822658762236327\n",
            "Loss: 7.8247144905327755\n",
            "Loss: 7.826768358736328\n",
            "Loss: 7.828820367515019\n",
            "Loss: 7.83087051755092\n",
            "Loss: 7.8329188095400175\n",
            "Loss: 7.8349652441920865\n",
            "Loss: 7.837009822230573\n",
            "Loss: 7.839052544392479\n",
            "Loss: 7.8410934114282345\n",
            "Loss: 7.843132424101584\n",
            "Loss: 7.845169583189467\n",
            "Loss: 7.847204889481903\n",
            "Loss: 7.849238343781871\n",
            "Loss: 7.851269946905199\n",
            "Loss: 7.853299699680443\n",
            "Loss: 7.85532760294878\n",
            "Loss: 7.857353657563888\n",
            "Loss: 7.859377864391834\n",
            "Loss: 7.861400224310968\n",
            "Loss: 7.863420738211802\n",
            "Loss: 7.865439406996906\n",
            "Loss: 7.867456231580796\n",
            "Loss: 7.869471212889821\n",
            "Loss: 7.871484351862064\n",
            "Loss: 7.87349564944722\n",
            "Loss: 7.8755051066065\n",
            "Loss: 7.877512724312519\n",
            "Loss: 7.879518503549191\n",
            "Loss: 7.881522445311626\n",
            "Loss: 7.883524550606018\n",
            "Loss: 7.885524820449549\n",
            "Loss: 7.887523255870283\n",
            "Loss: 7.889519857907057\n",
            "Loss: 7.891514627609393\n",
            "Loss: 7.8935075660373775\n",
            "Loss: 7.895498674261581\n",
            "Loss: 7.897487953362941\n",
            "Loss: 7.899475404432672\n",
            "Loss: 7.901461028572162\n",
            "Loss: 7.903444826892879\n",
            "Loss: 7.905426800516267\n",
            "Loss: 7.907406950573655\n",
            "Loss: 7.909385278206155\n",
            "Loss: 7.911361784564572\n",
            "Loss: 7.913336470809306\n",
            "Loss: 7.915309338110255\n",
            "Loss: 7.917280387646725\n",
            "Loss: 7.919249620607338\n",
            "Loss: 7.921217038189934\n",
            "Loss: 7.923182641601481\n",
            "Loss: 7.925146432057985\n",
            "Loss: 7.9271084107844\n",
            "Loss: 7.929068579014535\n",
            "Loss: 7.931026937990963\n",
            "Loss: 7.93298348896494\n",
            "Loss: 7.934938233196304\n",
            "Loss: 7.936891171953401\n",
            "Loss: 7.938842306512986\n",
            "Loss: 7.940791638160142\n",
            "Loss: 7.942739168188196\n",
            "Loss: 7.944684897898625\n",
            "Loss: 7.946628828600985\n",
            "Loss: 7.948570961612806\n",
            "Loss: 7.950511298259531\n",
            "Loss: 7.952449839874419\n",
            "Loss: 7.954386587798462\n",
            "Loss: 7.956321543380309\n",
            "Loss: 7.958254707976183\n",
            "Loss: 7.960186082949795\n",
            "Loss: 7.9621156696722695\n",
            "Loss: 7.964043469522065\n",
            "Loss: 7.9659694838848845\n",
            "Loss: 7.967893714153611\n",
            "Loss: 7.969816161728219\n",
            "Loss: 7.971736828015703\n",
            "Loss: 7.973655714429994\n",
            "Loss: 7.975572822391889\n",
            "Loss: 7.977488153328972\n",
            "Loss: 7.9794017086755336\n",
            "Loss: 7.981313489872508\n",
            "Loss: 7.983223498367389\n",
            "Loss: 7.985131735614155\n",
            "Loss: 7.987038203073204\n",
            "Loss: 7.988942902211271\n",
            "Loss: 7.9908458345013615\n",
            "Loss: 7.992747001422681\n",
            "Loss: 7.994646404460554\n",
            "Loss: 7.996544045106368\n",
            "Loss: 7.998439924857487\n",
            "Loss: 8.000334045217192\n",
            "Loss: 8.00222640769461\n",
            "Loss: 8.004117013804642\n",
            "Loss: 8.006005865067898\n",
            "Loss: 8.007892963010622\n",
            "Loss: 8.009778309164636\n",
            "Loss: 8.011661905067267\n",
            "Loss: 8.013543752261274\n",
            "Loss: 8.015423852294795\n",
            "Loss: 8.017302206721267\n",
            "Loss: 8.019178817099373\n",
            "Loss: 8.021053684992975\n",
            "Loss: 8.022926811971042\n",
            "Loss: 8.024798199607597\n",
            "Loss: 8.026667849481644\n",
            "Loss: 8.028535763177112\n",
            "Loss: 8.030401942282792\n",
            "Loss: 8.03226638839227\n",
            "Loss: 8.03412910310387\n",
            "Loss: 8.035990088020597\n",
            "Loss: 8.037849344750065\n",
            "Loss: 8.039706874904445\n",
            "Loss: 8.041562680100407\n",
            "Loss: 8.043416761959053\n",
            "Loss: 8.045269122105868\n",
            "Loss: 8.04711976217065\n",
            "Loss: 8.048968683787468\n",
            "Loss: 8.050815888594585\n",
            "Loss: 8.052661378234411\n",
            "Loss: 8.05450515435346\n",
            "Loss: 8.056347218602264\n"
          ]
        }
      ]
    },
    {
      "cell_type": "code",
      "source": [
        "2.7383180356586068"
      ],
      "metadata": {
        "id": "KX5fW8nV-3P2"
      },
      "execution_count": 46,
      "outputs": []
    },
    {
      "cell_type": "code",
      "source": [
        "softmax_fuction.argmax()"
      ],
      "metadata": {
        "colab": {
          "base_uri": "https://localhost:8080/"
        },
        "id": "M6rIPiT0EPNA",
        "outputId": "fc3e84fe-9597-4478-c63c-535046aaa6d6"
      },
      "execution_count": 100,
      "outputs": [
        {
          "output_type": "execute_result",
          "data": {
            "text/plain": [
              "np.int64(15)"
            ]
          },
          "metadata": {},
          "execution_count": 100
        }
      ]
    },
    {
      "cell_type": "code",
      "source": [
        "argmax_index = np.argmax(softmax_fuction)"
      ],
      "metadata": {
        "id": "hpIjfWM3EQPl"
      },
      "execution_count": 68,
      "outputs": []
    },
    {
      "cell_type": "code",
      "source": [
        "argmax_index"
      ],
      "metadata": {
        "colab": {
          "base_uri": "https://localhost:8080/"
        },
        "id": "iMAsuGo6EeI3",
        "outputId": "2d9b1db7-128e-4985-a191-10beada115a3"
      },
      "execution_count": 69,
      "outputs": [
        {
          "output_type": "execute_result",
          "data": {
            "text/plain": [
              "np.int64(32)"
            ]
          },
          "metadata": {},
          "execution_count": 69
        }
      ]
    },
    {
      "cell_type": "code",
      "source": [
        "softmax_fuction[16]"
      ],
      "metadata": {
        "colab": {
          "base_uri": "https://localhost:8080/"
        },
        "id": "B5NkqqswEzZn",
        "outputId": "5eecce1f-4502-45d6-f521-7ac9474fc7fd"
      },
      "execution_count": 98,
      "outputs": [
        {
          "output_type": "execute_result",
          "data": {
            "text/plain": [
              "np.float64(0.1022179397326831)"
            ]
          },
          "metadata": {},
          "execution_count": 98
        }
      ]
    },
    {
      "cell_type": "code",
      "source": [
        "id_to_word[65]"
      ],
      "metadata": {
        "colab": {
          "base_uri": "https://localhost:8080/",
          "height": 35
        },
        "id": "XS9DF2x6E1_r",
        "outputId": "81d9fb53-8bdb-408c-bee2-f3d352ce1902"
      },
      "execution_count": 78,
      "outputs": [
        {
          "output_type": "execute_result",
          "data": {
            "text/plain": [
              "'milestone'"
            ],
            "application/vnd.google.colaboratory.intrinsic+json": {
              "type": "string"
            }
          },
          "metadata": {},
          "execution_count": 78
        }
      ]
    },
    {
      "cell_type": "code",
      "source": [],
      "metadata": {
        "id": "Ew-iUOjnE6HR"
      },
      "execution_count": null,
      "outputs": []
    }
  ]
}